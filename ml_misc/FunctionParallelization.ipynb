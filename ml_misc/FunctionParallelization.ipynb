{
 "cells": [
  {
   "cell_type": "markdown",
   "id": "908d0796-cc39-4588-8828-3c444ccac22e",
   "metadata": {},
   "source": [
    "# Parallel Processing and Parallel Threading"
   ]
  },
  {
   "cell_type": "code",
   "execution_count": null,
   "id": "6707f1b7-7d15-4325-b302-69b7081ef527",
   "metadata": {},
   "outputs": [],
   "source": [
    "'''\n",
    "One golden rule (but it is questionable) is \n",
    "multithreading is good for IO-Bound tasks\n",
    "multiprocessing is good for CPU-Bound tasks\n",
    "\n",
    "speeding up tasks depends on inter-process communication (IPC) overhead, so that's why parallel process takes more time than sequential.\n",
    "'''"
   ]
  },
  {
   "cell_type": "code",
   "execution_count": null,
   "id": "88e9709c-e4c6-46aa-85b5-cf9446923e1b",
   "metadata": {},
   "outputs": [],
   "source": [
    "'''\n",
    "Below packages are explored:- \n",
    "1) multiprocessing\n",
    "https://docs.python.org/3/library/multiprocessing.html\n",
    "2) Ray\n",
    "https://docs.ray.io/en/latest/ray-overview/getting-started.html\n",
    "3) joblib\n",
    "https://joblib.readthedocs.io/en/latest/\n",
    "4) spark\n",
    "https://spark.apache.org/docs/latest/api/python/getting_started/index.html\n",
    "'''"
   ]
  },
  {
   "cell_type": "code",
   "execution_count": 1,
   "id": "f037ec9f-db61-403e-8890-8487b1f521e4",
   "metadata": {},
   "outputs": [],
   "source": [
    "from logging import getLogger, getLevelName, Formatter, StreamHandler\n",
    "\n",
    "log = getLogger(\"TEST\")\n",
    "log.setLevel(getLevelName('INFO'))\n",
    "log_formatter = Formatter(\"%(asctime)s [%(levelname)s] [%(processName)s] [%(threadName)s] [%(module)s] [%(funcName)s] [%(lineno)s] %(name)s: %(message)s\") # I am printing thread id here\n",
    "\n",
    "console_handler = StreamHandler()\n",
    "console_handler.setFormatter(log_formatter)\n",
    "log.addHandler(console_handler)"
   ]
  },
  {
   "cell_type": "markdown",
   "id": "3bf750bd-4a84-4494-a3ba-8c5a62baf346",
   "metadata": {},
   "source": [
    "## multiprocessing"
   ]
  },
  {
   "cell_type": "code",
   "execution_count": 2,
   "id": "b6f39791-df57-46b0-b7f4-f33426ccaac0",
   "metadata": {},
   "outputs": [],
   "source": [
    "import time\n",
    "import multiprocessing as mp"
   ]
  },
  {
   "cell_type": "code",
   "execution_count": 3,
   "id": "18f58ab6-2b76-43a1-b5d3-70a8f6f54613",
   "metadata": {},
   "outputs": [],
   "source": [
    "def dummy_func(ip, add_nbr):\n",
    "    log.info(\"msg\")\n",
    "    time.sleep(1)\n",
    "    return ip + add_nbr\n",
    "\n",
    "def chunks_mtdh(l, n):\n",
    "    chunks = []\n",
    "    for i in range(0, len(l), n):\n",
    "        chunks.extend(l[i:i+n])\n",
    "    return chunks"
   ]
  },
  {
   "cell_type": "code",
   "execution_count": 4,
   "id": "a5c158ce-c654-4daf-bcf5-1709dd554188",
   "metadata": {},
   "outputs": [
    {
     "name": "stdout",
     "output_type": "stream",
     "text": [
      "[0, 1, 2, 3, 4, 5, 6, 7, 8, 9, 10, 11, 12, 13, 14, 15, 16, 17, 18, 19, 20, 21, 22, 23, 24, 25, 26, 27, 28, 29, 30, 31, 32, 33, 34, 35, 36, 37, 38, 39, 40, 41, 42, 43, 44, 45, 46, 47, 48, 49, 50, 51, 52, 53, 54, 55, 56, 57, 58, 59, 60, 61, 62, 63, 64, 65, 66, 67, 68, 69, 70, 71, 72, 73, 74, 75, 76, 77, 78, 79, 80, 81, 82, 83, 84, 85, 86, 87, 88, 89, 90, 91, 92, 93, 94, 95, 96, 97, 98, 99]\n"
     ]
    }
   ],
   "source": [
    "inputs = [i for i in range(100)]\n",
    "print(inputs)"
   ]
  },
  {
   "cell_type": "code",
   "execution_count": 5,
   "id": "027bf139-dad2-4e21-b3f4-a39860a0ff9d",
   "metadata": {},
   "outputs": [
    {
     "name": "stderr",
     "output_type": "stream",
     "text": [
      "2023-04-05 17:21:01,760 [INFO] [MainProcess] [MainThread] [2968072285] [dummy_func] [2] TEST: msg\n",
      "2023-04-05 17:21:02,765 [INFO] [MainProcess] [MainThread] [2968072285] [dummy_func] [2] TEST: msg\n",
      "2023-04-05 17:21:03,767 [INFO] [MainProcess] [MainThread] [2968072285] [dummy_func] [2] TEST: msg\n",
      "2023-04-05 17:21:04,773 [INFO] [MainProcess] [MainThread] [2968072285] [dummy_func] [2] TEST: msg\n",
      "2023-04-05 17:21:05,774 [INFO] [MainProcess] [MainThread] [2968072285] [dummy_func] [2] TEST: msg\n",
      "2023-04-05 17:21:06,780 [INFO] [MainProcess] [MainThread] [2968072285] [dummy_func] [2] TEST: msg\n",
      "2023-04-05 17:21:07,781 [INFO] [MainProcess] [MainThread] [2968072285] [dummy_func] [2] TEST: msg\n",
      "2023-04-05 17:21:08,788 [INFO] [MainProcess] [MainThread] [2968072285] [dummy_func] [2] TEST: msg\n",
      "2023-04-05 17:21:09,793 [INFO] [MainProcess] [MainThread] [2968072285] [dummy_func] [2] TEST: msg\n",
      "2023-04-05 17:21:10,797 [INFO] [MainProcess] [MainThread] [2968072285] [dummy_func] [2] TEST: msg\n",
      "2023-04-05 17:21:11,802 [INFO] [MainProcess] [MainThread] [2968072285] [dummy_func] [2] TEST: msg\n",
      "2023-04-05 17:21:12,804 [INFO] [MainProcess] [MainThread] [2968072285] [dummy_func] [2] TEST: msg\n",
      "2023-04-05 17:21:13,806 [INFO] [MainProcess] [MainThread] [2968072285] [dummy_func] [2] TEST: msg\n",
      "2023-04-05 17:21:14,813 [INFO] [MainProcess] [MainThread] [2968072285] [dummy_func] [2] TEST: msg\n",
      "2023-04-05 17:21:15,818 [INFO] [MainProcess] [MainThread] [2968072285] [dummy_func] [2] TEST: msg\n",
      "2023-04-05 17:21:16,822 [INFO] [MainProcess] [MainThread] [2968072285] [dummy_func] [2] TEST: msg\n",
      "2023-04-05 17:21:17,830 [INFO] [MainProcess] [MainThread] [2968072285] [dummy_func] [2] TEST: msg\n",
      "2023-04-05 17:21:18,836 [INFO] [MainProcess] [MainThread] [2968072285] [dummy_func] [2] TEST: msg\n",
      "2023-04-05 17:21:19,841 [INFO] [MainProcess] [MainThread] [2968072285] [dummy_func] [2] TEST: msg\n",
      "2023-04-05 17:21:20,847 [INFO] [MainProcess] [MainThread] [2968072285] [dummy_func] [2] TEST: msg\n",
      "2023-04-05 17:21:21,852 [INFO] [MainProcess] [MainThread] [2968072285] [dummy_func] [2] TEST: msg\n",
      "2023-04-05 17:21:22,857 [INFO] [MainProcess] [MainThread] [2968072285] [dummy_func] [2] TEST: msg\n",
      "2023-04-05 17:21:23,863 [INFO] [MainProcess] [MainThread] [2968072285] [dummy_func] [2] TEST: msg\n",
      "2023-04-05 17:21:24,869 [INFO] [MainProcess] [MainThread] [2968072285] [dummy_func] [2] TEST: msg\n",
      "2023-04-05 17:21:25,879 [INFO] [MainProcess] [MainThread] [2968072285] [dummy_func] [2] TEST: msg\n",
      "2023-04-05 17:21:26,881 [INFO] [MainProcess] [MainThread] [2968072285] [dummy_func] [2] TEST: msg\n",
      "2023-04-05 17:21:27,886 [INFO] [MainProcess] [MainThread] [2968072285] [dummy_func] [2] TEST: msg\n",
      "2023-04-05 17:21:28,893 [INFO] [MainProcess] [MainThread] [2968072285] [dummy_func] [2] TEST: msg\n",
      "2023-04-05 17:21:29,899 [INFO] [MainProcess] [MainThread] [2968072285] [dummy_func] [2] TEST: msg\n",
      "2023-04-05 17:21:30,905 [INFO] [MainProcess] [MainThread] [2968072285] [dummy_func] [2] TEST: msg\n",
      "2023-04-05 17:21:31,906 [INFO] [MainProcess] [MainThread] [2968072285] [dummy_func] [2] TEST: msg\n",
      "2023-04-05 17:21:32,910 [INFO] [MainProcess] [MainThread] [2968072285] [dummy_func] [2] TEST: msg\n",
      "2023-04-05 17:21:33,918 [INFO] [MainProcess] [MainThread] [2968072285] [dummy_func] [2] TEST: msg\n",
      "2023-04-05 17:21:34,925 [INFO] [MainProcess] [MainThread] [2968072285] [dummy_func] [2] TEST: msg\n",
      "2023-04-05 17:21:35,927 [INFO] [MainProcess] [MainThread] [2968072285] [dummy_func] [2] TEST: msg\n",
      "2023-04-05 17:21:36,937 [INFO] [MainProcess] [MainThread] [2968072285] [dummy_func] [2] TEST: msg\n",
      "2023-04-05 17:21:37,943 [INFO] [MainProcess] [MainThread] [2968072285] [dummy_func] [2] TEST: msg\n",
      "2023-04-05 17:21:38,945 [INFO] [MainProcess] [MainThread] [2968072285] [dummy_func] [2] TEST: msg\n",
      "2023-04-05 17:21:39,949 [INFO] [MainProcess] [MainThread] [2968072285] [dummy_func] [2] TEST: msg\n",
      "2023-04-05 17:21:40,952 [INFO] [MainProcess] [MainThread] [2968072285] [dummy_func] [2] TEST: msg\n",
      "2023-04-05 17:21:41,957 [INFO] [MainProcess] [MainThread] [2968072285] [dummy_func] [2] TEST: msg\n",
      "2023-04-05 17:21:42,963 [INFO] [MainProcess] [MainThread] [2968072285] [dummy_func] [2] TEST: msg\n",
      "2023-04-05 17:21:43,969 [INFO] [MainProcess] [MainThread] [2968072285] [dummy_func] [2] TEST: msg\n",
      "2023-04-05 17:21:44,975 [INFO] [MainProcess] [MainThread] [2968072285] [dummy_func] [2] TEST: msg\n",
      "2023-04-05 17:21:45,981 [INFO] [MainProcess] [MainThread] [2968072285] [dummy_func] [2] TEST: msg\n",
      "2023-04-05 17:21:46,984 [INFO] [MainProcess] [MainThread] [2968072285] [dummy_func] [2] TEST: msg\n",
      "2023-04-05 17:21:47,987 [INFO] [MainProcess] [MainThread] [2968072285] [dummy_func] [2] TEST: msg\n",
      "2023-04-05 17:21:48,990 [INFO] [MainProcess] [MainThread] [2968072285] [dummy_func] [2] TEST: msg\n",
      "2023-04-05 17:21:49,995 [INFO] [MainProcess] [MainThread] [2968072285] [dummy_func] [2] TEST: msg\n",
      "2023-04-05 17:21:50,997 [INFO] [MainProcess] [MainThread] [2968072285] [dummy_func] [2] TEST: msg\n",
      "2023-04-05 17:21:51,998 [INFO] [MainProcess] [MainThread] [2968072285] [dummy_func] [2] TEST: msg\n",
      "2023-04-05 17:21:53,000 [INFO] [MainProcess] [MainThread] [2968072285] [dummy_func] [2] TEST: msg\n",
      "2023-04-05 17:21:54,004 [INFO] [MainProcess] [MainThread] [2968072285] [dummy_func] [2] TEST: msg\n",
      "2023-04-05 17:21:55,006 [INFO] [MainProcess] [MainThread] [2968072285] [dummy_func] [2] TEST: msg\n",
      "2023-04-05 17:21:56,008 [INFO] [MainProcess] [MainThread] [2968072285] [dummy_func] [2] TEST: msg\n",
      "2023-04-05 17:21:57,014 [INFO] [MainProcess] [MainThread] [2968072285] [dummy_func] [2] TEST: msg\n",
      "2023-04-05 17:21:58,022 [INFO] [MainProcess] [MainThread] [2968072285] [dummy_func] [2] TEST: msg\n",
      "2023-04-05 17:21:59,027 [INFO] [MainProcess] [MainThread] [2968072285] [dummy_func] [2] TEST: msg\n",
      "2023-04-05 17:22:00,030 [INFO] [MainProcess] [MainThread] [2968072285] [dummy_func] [2] TEST: msg\n",
      "2023-04-05 17:22:01,036 [INFO] [MainProcess] [MainThread] [2968072285] [dummy_func] [2] TEST: msg\n",
      "2023-04-05 17:22:02,038 [INFO] [MainProcess] [MainThread] [2968072285] [dummy_func] [2] TEST: msg\n",
      "2023-04-05 17:22:03,039 [INFO] [MainProcess] [MainThread] [2968072285] [dummy_func] [2] TEST: msg\n",
      "2023-04-05 17:22:04,045 [INFO] [MainProcess] [MainThread] [2968072285] [dummy_func] [2] TEST: msg\n",
      "2023-04-05 17:22:05,059 [INFO] [MainProcess] [MainThread] [2968072285] [dummy_func] [2] TEST: msg\n",
      "2023-04-05 17:22:06,065 [INFO] [MainProcess] [MainThread] [2968072285] [dummy_func] [2] TEST: msg\n",
      "2023-04-05 17:22:07,069 [INFO] [MainProcess] [MainThread] [2968072285] [dummy_func] [2] TEST: msg\n",
      "2023-04-05 17:22:08,070 [INFO] [MainProcess] [MainThread] [2968072285] [dummy_func] [2] TEST: msg\n",
      "2023-04-05 17:22:09,077 [INFO] [MainProcess] [MainThread] [2968072285] [dummy_func] [2] TEST: msg\n",
      "2023-04-05 17:22:10,079 [INFO] [MainProcess] [MainThread] [2968072285] [dummy_func] [2] TEST: msg\n",
      "2023-04-05 17:22:11,081 [INFO] [MainProcess] [MainThread] [2968072285] [dummy_func] [2] TEST: msg\n",
      "2023-04-05 17:22:12,083 [INFO] [MainProcess] [MainThread] [2968072285] [dummy_func] [2] TEST: msg\n",
      "2023-04-05 17:22:13,090 [INFO] [MainProcess] [MainThread] [2968072285] [dummy_func] [2] TEST: msg\n",
      "2023-04-05 17:22:14,093 [INFO] [MainProcess] [MainThread] [2968072285] [dummy_func] [2] TEST: msg\n",
      "2023-04-05 17:22:15,094 [INFO] [MainProcess] [MainThread] [2968072285] [dummy_func] [2] TEST: msg\n",
      "2023-04-05 17:22:16,099 [INFO] [MainProcess] [MainThread] [2968072285] [dummy_func] [2] TEST: msg\n",
      "2023-04-05 17:22:17,103 [INFO] [MainProcess] [MainThread] [2968072285] [dummy_func] [2] TEST: msg\n",
      "2023-04-05 17:22:18,110 [INFO] [MainProcess] [MainThread] [2968072285] [dummy_func] [2] TEST: msg\n",
      "2023-04-05 17:22:19,115 [INFO] [MainProcess] [MainThread] [2968072285] [dummy_func] [2] TEST: msg\n",
      "2023-04-05 17:22:20,122 [INFO] [MainProcess] [MainThread] [2968072285] [dummy_func] [2] TEST: msg\n",
      "2023-04-05 17:22:21,125 [INFO] [MainProcess] [MainThread] [2968072285] [dummy_func] [2] TEST: msg\n",
      "2023-04-05 17:22:22,128 [INFO] [MainProcess] [MainThread] [2968072285] [dummy_func] [2] TEST: msg\n",
      "2023-04-05 17:22:23,132 [INFO] [MainProcess] [MainThread] [2968072285] [dummy_func] [2] TEST: msg\n",
      "2023-04-05 17:22:24,135 [INFO] [MainProcess] [MainThread] [2968072285] [dummy_func] [2] TEST: msg\n",
      "2023-04-05 17:22:25,137 [INFO] [MainProcess] [MainThread] [2968072285] [dummy_func] [2] TEST: msg\n",
      "2023-04-05 17:22:26,138 [INFO] [MainProcess] [MainThread] [2968072285] [dummy_func] [2] TEST: msg\n",
      "2023-04-05 17:22:27,141 [INFO] [MainProcess] [MainThread] [2968072285] [dummy_func] [2] TEST: msg\n",
      "2023-04-05 17:22:28,145 [INFO] [MainProcess] [MainThread] [2968072285] [dummy_func] [2] TEST: msg\n",
      "2023-04-05 17:22:29,148 [INFO] [MainProcess] [MainThread] [2968072285] [dummy_func] [2] TEST: msg\n",
      "2023-04-05 17:22:30,153 [INFO] [MainProcess] [MainThread] [2968072285] [dummy_func] [2] TEST: msg\n",
      "2023-04-05 17:22:31,160 [INFO] [MainProcess] [MainThread] [2968072285] [dummy_func] [2] TEST: msg\n",
      "2023-04-05 17:22:32,166 [INFO] [MainProcess] [MainThread] [2968072285] [dummy_func] [2] TEST: msg\n",
      "2023-04-05 17:22:33,171 [INFO] [MainProcess] [MainThread] [2968072285] [dummy_func] [2] TEST: msg\n",
      "2023-04-05 17:22:34,175 [INFO] [MainProcess] [MainThread] [2968072285] [dummy_func] [2] TEST: msg\n",
      "2023-04-05 17:22:35,176 [INFO] [MainProcess] [MainThread] [2968072285] [dummy_func] [2] TEST: msg\n",
      "2023-04-05 17:22:36,179 [INFO] [MainProcess] [MainThread] [2968072285] [dummy_func] [2] TEST: msg\n",
      "2023-04-05 17:22:37,182 [INFO] [MainProcess] [MainThread] [2968072285] [dummy_func] [2] TEST: msg\n",
      "2023-04-05 17:22:38,187 [INFO] [MainProcess] [MainThread] [2968072285] [dummy_func] [2] TEST: msg\n",
      "2023-04-05 17:22:39,191 [INFO] [MainProcess] [MainThread] [2968072285] [dummy_func] [2] TEST: msg\n",
      "2023-04-05 17:22:40,195 [INFO] [MainProcess] [MainThread] [2968072285] [dummy_func] [2] TEST: msg\n",
      "2023-04-05 17:22:41,202 [INFO] [MainProcess] [MainThread] [2968072285] [dummy_func] [2] TEST: msg\n"
     ]
    },
    {
     "name": "stdout",
     "output_type": "stream",
     "text": [
      "[10, 11, 12, 13, 14, 15, 16, 17, 18, 19, 20, 21, 22, 23, 24, 25, 26, 27, 28, 29, 30, 31, 32, 33, 34, 35, 36, 37, 38, 39, 40, 41, 42, 43, 44, 45, 46, 47, 48, 49, 50, 51, 52, 53, 54, 55, 56, 57, 58, 59, 60, 61, 62, 63, 64, 65, 66, 67, 68, 69, 70, 71, 72, 73, 74, 75, 76, 77, 78, 79, 80, 81, 82, 83, 84, 85, 86, 87, 88, 89, 90, 91, 92, 93, 94, 95, 96, 97, 98, 99, 100, 101, 102, 103, 104, 105, 106, 107, 108, 109]\n",
      "total time taken 100.442442239\n"
     ]
    }
   ],
   "source": [
    "'''\n",
    "single process and single thread\n",
    "MainProcess - MainThread\n",
    "'''\n",
    "start = time.perf_counter()\n",
    "outputs = []\n",
    "cnst_nbr = 10\n",
    "for ip in inputs:\n",
    "    result = dummy_func(ip, cnst_nbr)\n",
    "    outputs.append(result)\n",
    "    \n",
    "print(outputs)\n",
    "end = time.perf_counter()\n",
    "print(f\"total time taken {end-start}\")"
   ]
  },
  {
   "cell_type": "code",
   "execution_count": 6,
   "id": "64ca95b4-fb0e-43e1-8e31-902f79e11372",
   "metadata": {},
   "outputs": [
    {
     "name": "stdout",
     "output_type": "stream",
     "text": [
      "4\n"
     ]
    },
    {
     "name": "stderr",
     "output_type": "stream",
     "text": [
      "2023-04-05 17:23:25,461 [INFO] [ForkPoolWorker-2] [MainThread] [2968072285] [dummy_func] [2] TEST: msg\n",
      "2023-04-05 17:23:25,461 [INFO] [ForkPoolWorker-1] [MainThread] [2968072285] [dummy_func] [2] TEST: msg\n",
      "2023-04-05 17:23:25,462 [INFO] [ForkPoolWorker-3] [MainThread] [2968072285] [dummy_func] [2] TEST: msg\n",
      "2023-04-05 17:23:26,467 [INFO] [ForkPoolWorker-2] [MainThread] [2968072285] [dummy_func] [2] TEST: msg\n",
      "2023-04-05 17:23:26,467 [INFO] [ForkPoolWorker-1] [MainThread] [2968072285] [dummy_func] [2] TEST: msg\n",
      "2023-04-05 17:23:26,469 [INFO] [ForkPoolWorker-3] [MainThread] [2968072285] [dummy_func] [2] TEST: msg\n",
      "2023-04-05 17:23:27,471 [INFO] [ForkPoolWorker-2] [MainThread] [2968072285] [dummy_func] [2] TEST: msg\n",
      "2023-04-05 17:23:27,471 [INFO] [ForkPoolWorker-1] [MainThread] [2968072285] [dummy_func] [2] TEST: msg\n",
      "2023-04-05 17:23:27,472 [INFO] [ForkPoolWorker-3] [MainThread] [2968072285] [dummy_func] [2] TEST: msg\n",
      "2023-04-05 17:23:28,474 [INFO] [ForkPoolWorker-1] [MainThread] [2968072285] [dummy_func] [2] TEST: msg\n",
      "2023-04-05 17:23:28,475 [INFO] [ForkPoolWorker-2] [MainThread] [2968072285] [dummy_func] [2] TEST: msg\n",
      "2023-04-05 17:23:28,475 [INFO] [ForkPoolWorker-3] [MainThread] [2968072285] [dummy_func] [2] TEST: msg\n",
      "2023-04-05 17:23:29,478 [INFO] [ForkPoolWorker-1] [MainThread] [2968072285] [dummy_func] [2] TEST: msg\n",
      "2023-04-05 17:23:29,479 [INFO] [ForkPoolWorker-2] [MainThread] [2968072285] [dummy_func] [2] TEST: msg\n",
      "2023-04-05 17:23:29,479 [INFO] [ForkPoolWorker-3] [MainThread] [2968072285] [dummy_func] [2] TEST: msg\n",
      "2023-04-05 17:23:30,488 [INFO] [ForkPoolWorker-1] [MainThread] [2968072285] [dummy_func] [2] TEST: msg\n",
      "2023-04-05 17:23:30,488 [INFO] [ForkPoolWorker-2] [MainThread] [2968072285] [dummy_func] [2] TEST: msg\n",
      "2023-04-05 17:23:30,488 [INFO] [ForkPoolWorker-3] [MainThread] [2968072285] [dummy_func] [2] TEST: msg\n",
      "2023-04-05 17:23:31,491 [INFO] [ForkPoolWorker-1] [MainThread] [2968072285] [dummy_func] [2] TEST: msg\n",
      "2023-04-05 17:23:31,491 [INFO] [ForkPoolWorker-3] [MainThread] [2968072285] [dummy_func] [2] TEST: msg\n",
      "2023-04-05 17:23:31,491 [INFO] [ForkPoolWorker-2] [MainThread] [2968072285] [dummy_func] [2] TEST: msg\n",
      "2023-04-05 17:23:32,496 [INFO] [ForkPoolWorker-2] [MainThread] [2968072285] [dummy_func] [2] TEST: msg\n",
      "2023-04-05 17:23:32,496 [INFO] [ForkPoolWorker-1] [MainThread] [2968072285] [dummy_func] [2] TEST: msg\n",
      "2023-04-05 17:23:32,496 [INFO] [ForkPoolWorker-3] [MainThread] [2968072285] [dummy_func] [2] TEST: msg\n",
      "2023-04-05 17:23:33,501 [INFO] [ForkPoolWorker-2] [MainThread] [2968072285] [dummy_func] [2] TEST: msg\n",
      "2023-04-05 17:23:33,503 [INFO] [ForkPoolWorker-1] [MainThread] [2968072285] [dummy_func] [2] TEST: msg\n",
      "2023-04-05 17:23:33,501 [INFO] [ForkPoolWorker-3] [MainThread] [2968072285] [dummy_func] [2] TEST: msg\n",
      "2023-04-05 17:23:34,510 [INFO] [ForkPoolWorker-2] [MainThread] [2968072285] [dummy_func] [2] TEST: msg\n",
      "2023-04-05 17:23:34,511 [INFO] [ForkPoolWorker-3] [MainThread] [2968072285] [dummy_func] [2] TEST: msg\n",
      "2023-04-05 17:23:34,511 [INFO] [ForkPoolWorker-1] [MainThread] [2968072285] [dummy_func] [2] TEST: msg\n",
      "2023-04-05 17:23:35,514 [INFO] [ForkPoolWorker-2] [MainThread] [2968072285] [dummy_func] [2] TEST: msg\n",
      "2023-04-05 17:23:35,514 [INFO] [ForkPoolWorker-3] [MainThread] [2968072285] [dummy_func] [2] TEST: msg\n",
      "2023-04-05 17:23:35,514 [INFO] [ForkPoolWorker-1] [MainThread] [2968072285] [dummy_func] [2] TEST: msg\n",
      "2023-04-05 17:23:36,523 [INFO] [ForkPoolWorker-2] [MainThread] [2968072285] [dummy_func] [2] TEST: msg\n",
      "2023-04-05 17:23:36,523 [INFO] [ForkPoolWorker-1] [MainThread] [2968072285] [dummy_func] [2] TEST: msg\n",
      "2023-04-05 17:23:36,524 [INFO] [ForkPoolWorker-3] [MainThread] [2968072285] [dummy_func] [2] TEST: msg\n",
      "2023-04-05 17:23:37,527 [INFO] [ForkPoolWorker-3] [MainThread] [2968072285] [dummy_func] [2] TEST: msg\n",
      "2023-04-05 17:23:37,527 [INFO] [ForkPoolWorker-2] [MainThread] [2968072285] [dummy_func] [2] TEST: msg\n",
      "2023-04-05 17:23:37,527 [INFO] [ForkPoolWorker-1] [MainThread] [2968072285] [dummy_func] [2] TEST: msg\n",
      "2023-04-05 17:23:38,532 [INFO] [ForkPoolWorker-1] [MainThread] [2968072285] [dummy_func] [2] TEST: msg\n",
      "2023-04-05 17:23:38,531 [INFO] [ForkPoolWorker-3] [MainThread] [2968072285] [dummy_func] [2] TEST: msg\n",
      "2023-04-05 17:23:38,531 [INFO] [ForkPoolWorker-2] [MainThread] [2968072285] [dummy_func] [2] TEST: msg\n",
      "2023-04-05 17:23:39,540 [INFO] [ForkPoolWorker-1] [MainThread] [2968072285] [dummy_func] [2] TEST: msg\n",
      "2023-04-05 17:23:39,540 [INFO] [ForkPoolWorker-2] [MainThread] [2968072285] [dummy_func] [2] TEST: msg\n",
      "2023-04-05 17:23:39,540 [INFO] [ForkPoolWorker-3] [MainThread] [2968072285] [dummy_func] [2] TEST: msg\n",
      "2023-04-05 17:23:40,543 [INFO] [ForkPoolWorker-3] [MainThread] [2968072285] [dummy_func] [2] TEST: msg\n",
      "2023-04-05 17:23:40,544 [INFO] [ForkPoolWorker-2] [MainThread] [2968072285] [dummy_func] [2] TEST: msg\n",
      "2023-04-05 17:23:40,543 [INFO] [ForkPoolWorker-1] [MainThread] [2968072285] [dummy_func] [2] TEST: msg\n",
      "2023-04-05 17:23:41,548 [INFO] [ForkPoolWorker-2] [MainThread] [2968072285] [dummy_func] [2] TEST: msg\n",
      "2023-04-05 17:23:41,549 [INFO] [ForkPoolWorker-3] [MainThread] [2968072285] [dummy_func] [2] TEST: msg\n",
      "2023-04-05 17:23:41,549 [INFO] [ForkPoolWorker-1] [MainThread] [2968072285] [dummy_func] [2] TEST: msg\n",
      "2023-04-05 17:23:42,554 [INFO] [ForkPoolWorker-1] [MainThread] [2968072285] [dummy_func] [2] TEST: msg\n",
      "2023-04-05 17:23:42,554 [INFO] [ForkPoolWorker-2] [MainThread] [2968072285] [dummy_func] [2] TEST: msg\n",
      "2023-04-05 17:23:42,554 [INFO] [ForkPoolWorker-3] [MainThread] [2968072285] [dummy_func] [2] TEST: msg\n",
      "2023-04-05 17:23:43,558 [INFO] [ForkPoolWorker-3] [MainThread] [2968072285] [dummy_func] [2] TEST: msg\n",
      "2023-04-05 17:23:43,558 [INFO] [ForkPoolWorker-1] [MainThread] [2968072285] [dummy_func] [2] TEST: msg\n",
      "2023-04-05 17:23:43,558 [INFO] [ForkPoolWorker-2] [MainThread] [2968072285] [dummy_func] [2] TEST: msg\n",
      "2023-04-05 17:23:44,562 [INFO] [ForkPoolWorker-2] [MainThread] [2968072285] [dummy_func] [2] TEST: msg\n",
      "2023-04-05 17:23:44,562 [INFO] [ForkPoolWorker-3] [MainThread] [2968072285] [dummy_func] [2] TEST: msg\n",
      "2023-04-05 17:23:44,562 [INFO] [ForkPoolWorker-1] [MainThread] [2968072285] [dummy_func] [2] TEST: msg\n",
      "2023-04-05 17:23:45,568 [INFO] [ForkPoolWorker-2] [MainThread] [2968072285] [dummy_func] [2] TEST: msg\n",
      "2023-04-05 17:23:45,568 [INFO] [ForkPoolWorker-1] [MainThread] [2968072285] [dummy_func] [2] TEST: msg\n",
      "2023-04-05 17:23:45,568 [INFO] [ForkPoolWorker-3] [MainThread] [2968072285] [dummy_func] [2] TEST: msg\n",
      "2023-04-05 17:23:46,573 [INFO] [ForkPoolWorker-1] [MainThread] [2968072285] [dummy_func] [2] TEST: msg\n",
      "2023-04-05 17:23:46,573 [INFO] [ForkPoolWorker-2] [MainThread] [2968072285] [dummy_func] [2] TEST: msg\n",
      "2023-04-05 17:23:46,573 [INFO] [ForkPoolWorker-3] [MainThread] [2968072285] [dummy_func] [2] TEST: msg\n",
      "2023-04-05 17:23:47,577 [INFO] [ForkPoolWorker-3] [MainThread] [2968072285] [dummy_func] [2] TEST: msg\n",
      "2023-04-05 17:23:47,577 [INFO] [ForkPoolWorker-2] [MainThread] [2968072285] [dummy_func] [2] TEST: msg\n",
      "2023-04-05 17:23:47,577 [INFO] [ForkPoolWorker-1] [MainThread] [2968072285] [dummy_func] [2] TEST: msg\n",
      "2023-04-05 17:23:48,582 [INFO] [ForkPoolWorker-3] [MainThread] [2968072285] [dummy_func] [2] TEST: msg\n",
      "2023-04-05 17:23:48,582 [INFO] [ForkPoolWorker-2] [MainThread] [2968072285] [dummy_func] [2] TEST: msg\n",
      "2023-04-05 17:23:48,583 [INFO] [ForkPoolWorker-1] [MainThread] [2968072285] [dummy_func] [2] TEST: msg\n",
      "2023-04-05 17:23:49,587 [INFO] [ForkPoolWorker-3] [MainThread] [2968072285] [dummy_func] [2] TEST: msg\n",
      "2023-04-05 17:23:49,587 [INFO] [ForkPoolWorker-2] [MainThread] [2968072285] [dummy_func] [2] TEST: msg\n",
      "2023-04-05 17:23:49,587 [INFO] [ForkPoolWorker-1] [MainThread] [2968072285] [dummy_func] [2] TEST: msg\n",
      "2023-04-05 17:23:50,590 [INFO] [ForkPoolWorker-3] [MainThread] [2968072285] [dummy_func] [2] TEST: msg\n",
      "2023-04-05 17:23:50,590 [INFO] [ForkPoolWorker-1] [MainThread] [2968072285] [dummy_func] [2] TEST: msg\n",
      "2023-04-05 17:23:50,590 [INFO] [ForkPoolWorker-2] [MainThread] [2968072285] [dummy_func] [2] TEST: msg\n",
      "2023-04-05 17:23:51,595 [INFO] [ForkPoolWorker-3] [MainThread] [2968072285] [dummy_func] [2] TEST: msg\n",
      "2023-04-05 17:23:51,595 [INFO] [ForkPoolWorker-2] [MainThread] [2968072285] [dummy_func] [2] TEST: msg\n",
      "2023-04-05 17:23:51,595 [INFO] [ForkPoolWorker-1] [MainThread] [2968072285] [dummy_func] [2] TEST: msg\n",
      "2023-04-05 17:23:52,602 [INFO] [ForkPoolWorker-3] [MainThread] [2968072285] [dummy_func] [2] TEST: msg\n",
      "2023-04-05 17:23:52,603 [INFO] [ForkPoolWorker-1] [MainThread] [2968072285] [dummy_func] [2] TEST: msg\n",
      "2023-04-05 17:23:52,603 [INFO] [ForkPoolWorker-2] [MainThread] [2968072285] [dummy_func] [2] TEST: msg\n",
      "2023-04-05 17:23:53,607 [INFO] [ForkPoolWorker-2] [MainThread] [2968072285] [dummy_func] [2] TEST: msg\n",
      "2023-04-05 17:23:53,607 [INFO] [ForkPoolWorker-3] [MainThread] [2968072285] [dummy_func] [2] TEST: msg\n",
      "2023-04-05 17:23:54,612 [INFO] [ForkPoolWorker-2] [MainThread] [2968072285] [dummy_func] [2] TEST: msg\n",
      "2023-04-05 17:23:54,612 [INFO] [ForkPoolWorker-3] [MainThread] [2968072285] [dummy_func] [2] TEST: msg\n",
      "2023-04-05 17:23:55,617 [INFO] [ForkPoolWorker-2] [MainThread] [2968072285] [dummy_func] [2] TEST: msg\n",
      "2023-04-05 17:23:55,617 [INFO] [ForkPoolWorker-3] [MainThread] [2968072285] [dummy_func] [2] TEST: msg\n",
      "2023-04-05 17:23:56,621 [INFO] [ForkPoolWorker-2] [MainThread] [2968072285] [dummy_func] [2] TEST: msg\n",
      "2023-04-05 17:23:56,621 [INFO] [ForkPoolWorker-3] [MainThread] [2968072285] [dummy_func] [2] TEST: msg\n",
      "2023-04-05 17:23:57,624 [INFO] [ForkPoolWorker-2] [MainThread] [2968072285] [dummy_func] [2] TEST: msg\n",
      "2023-04-05 17:23:57,624 [INFO] [ForkPoolWorker-3] [MainThread] [2968072285] [dummy_func] [2] TEST: msg\n",
      "2023-04-05 17:23:58,629 [INFO] [ForkPoolWorker-3] [MainThread] [2968072285] [dummy_func] [2] TEST: msg\n",
      "2023-04-05 17:23:58,629 [INFO] [ForkPoolWorker-2] [MainThread] [2968072285] [dummy_func] [2] TEST: msg\n",
      "2023-04-05 17:23:59,633 [INFO] [ForkPoolWorker-2] [MainThread] [2968072285] [dummy_func] [2] TEST: msg\n",
      "2023-04-05 17:23:59,634 [INFO] [ForkPoolWorker-3] [MainThread] [2968072285] [dummy_func] [2] TEST: msg\n",
      "2023-04-05 17:24:00,636 [INFO] [ForkPoolWorker-2] [MainThread] [2968072285] [dummy_func] [2] TEST: msg\n",
      "2023-04-05 17:24:00,637 [INFO] [ForkPoolWorker-3] [MainThread] [2968072285] [dummy_func] [2] TEST: msg\n"
     ]
    },
    {
     "name": "stdout",
     "output_type": "stream",
     "text": [
      "[10, 11, 12, 13, 14, 15, 16, 17, 18, 19, 20, 21, 22, 23, 24, 25, 26, 27, 28, 29, 30, 31, 32, 33, 34, 35, 36, 37, 38, 39, 40, 41, 42, 43, 44, 45, 46, 47, 48, 49, 50, 51, 52, 53, 54, 55, 56, 57, 58, 59, 60, 61, 62, 63, 64, 65, 66, 67, 68, 69, 70, 71, 72, 73, 74, 75, 76, 77, 78, 79, 80, 81, 82, 83, 84, 85, 86, 87, 88, 89, 90, 91, 92, 93, 94, 95, 96, 97, 98, 99, 100, 101, 102, 103, 104, 105, 106, 107, 108, 109]\n",
      "total time taken 36.279214630999974\n"
     ]
    }
   ],
   "source": [
    "'''\n",
    "multiple processes and single thread\n",
    "ForkPoolWorker-1 - MainThread\n",
    "ForkPoolWorker-2 - MainThread\n",
    "...\n",
    "ForkPoolWorker-n - MainThread\n",
    "'''\n",
    "\n",
    "start = time.perf_counter()\n",
    "CPU_CNT = mp.cpu_count()\n",
    "print(CPU_CNT)\n",
    "outputs = []\n",
    "cnst_nbr = 10\n",
    "with mp.Pool(CPU_CNT-1) as pool:\n",
    "    chunks = chunks_mtdh(inputs, CPU_CNT-1)\n",
    "    for result in pool.starmap(dummy_func, [(ip, cnst_nbr) for ip in chunks]):\n",
    "        outputs.append(result)\n",
    "        \n",
    "print(outputs)\n",
    "end = time.perf_counter()\n",
    "print(f\"total time taken {end-start}\")"
   ]
  },
  {
   "cell_type": "code",
   "execution_count": 8,
   "id": "50680927-3332-4800-ac3c-f37d143f3bc2",
   "metadata": {},
   "outputs": [
    {
     "name": "stderr",
     "output_type": "stream",
     "text": [
      "2023-04-05 17:27:20,611 [INFO] [MainProcess] [Thread-8] [2968072285] [dummy_func] [2] TEST: msg\n",
      "2023-04-05 17:27:20,612 [INFO] [MainProcess] [Thread-9] [2968072285] [dummy_func] [2] TEST: msg\n",
      "2023-04-05 17:27:20,613 [INFO] [MainProcess] [Thread-10] [2968072285] [dummy_func] [2] TEST: msg\n"
     ]
    },
    {
     "name": "stdout",
     "output_type": "stream",
     "text": [
      "4\n"
     ]
    },
    {
     "name": "stderr",
     "output_type": "stream",
     "text": [
      "2023-04-05 17:27:21,615 [INFO] [MainProcess] [Thread-8] [2968072285] [dummy_func] [2] TEST: msg\n",
      "2023-04-05 17:27:21,618 [INFO] [MainProcess] [Thread-9] [2968072285] [dummy_func] [2] TEST: msg\n",
      "2023-04-05 17:27:21,624 [INFO] [MainProcess] [Thread-10] [2968072285] [dummy_func] [2] TEST: msg\n",
      "2023-04-05 17:27:22,618 [INFO] [MainProcess] [Thread-8] [2968072285] [dummy_func] [2] TEST: msg\n",
      "2023-04-05 17:27:22,624 [INFO] [MainProcess] [Thread-9] [2968072285] [dummy_func] [2] TEST: msg\n",
      "2023-04-05 17:27:22,626 [INFO] [MainProcess] [Thread-10] [2968072285] [dummy_func] [2] TEST: msg\n",
      "2023-04-05 17:27:23,624 [INFO] [MainProcess] [Thread-8] [2968072285] [dummy_func] [2] TEST: msg\n",
      "2023-04-05 17:27:23,628 [INFO] [MainProcess] [Thread-9] [2968072285] [dummy_func] [2] TEST: msg\n",
      "2023-04-05 17:27:23,628 [INFO] [MainProcess] [Thread-10] [2968072285] [dummy_func] [2] TEST: msg\n",
      "2023-04-05 17:27:24,625 [INFO] [MainProcess] [Thread-8] [2968072285] [dummy_func] [2] TEST: msg\n",
      "2023-04-05 17:27:24,634 [INFO] [MainProcess] [Thread-9] [2968072285] [dummy_func] [2] TEST: msg\n",
      "2023-04-05 17:27:24,635 [INFO] [MainProcess] [Thread-10] [2968072285] [dummy_func] [2] TEST: msg\n",
      "2023-04-05 17:27:25,628 [INFO] [MainProcess] [Thread-8] [2968072285] [dummy_func] [2] TEST: msg\n",
      "2023-04-05 17:27:25,639 [INFO] [MainProcess] [Thread-9] [2968072285] [dummy_func] [2] TEST: msg\n",
      "2023-04-05 17:27:25,641 [INFO] [MainProcess] [Thread-10] [2968072285] [dummy_func] [2] TEST: msg\n",
      "2023-04-05 17:27:26,634 [INFO] [MainProcess] [Thread-8] [2968072285] [dummy_func] [2] TEST: msg\n",
      "2023-04-05 17:27:26,645 [INFO] [MainProcess] [Thread-10] [2968072285] [dummy_func] [2] TEST: msg\n",
      "2023-04-05 17:27:26,646 [INFO] [MainProcess] [Thread-9] [2968072285] [dummy_func] [2] TEST: msg\n",
      "2023-04-05 17:27:27,637 [INFO] [MainProcess] [Thread-8] [2968072285] [dummy_func] [2] TEST: msg\n",
      "2023-04-05 17:27:27,650 [INFO] [MainProcess] [Thread-10] [2968072285] [dummy_func] [2] TEST: msg\n",
      "2023-04-05 17:27:27,650 [INFO] [MainProcess] [Thread-9] [2968072285] [dummy_func] [2] TEST: msg\n",
      "2023-04-05 17:27:28,641 [INFO] [MainProcess] [Thread-8] [2968072285] [dummy_func] [2] TEST: msg\n",
      "2023-04-05 17:27:28,655 [INFO] [MainProcess] [Thread-10] [2968072285] [dummy_func] [2] TEST: msg\n",
      "2023-04-05 17:27:28,662 [INFO] [MainProcess] [Thread-9] [2968072285] [dummy_func] [2] TEST: msg\n",
      "2023-04-05 17:27:29,644 [INFO] [MainProcess] [Thread-8] [2968072285] [dummy_func] [2] TEST: msg\n",
      "2023-04-05 17:27:29,675 [INFO] [MainProcess] [Thread-10] [2968072285] [dummy_func] [2] TEST: msg\n",
      "2023-04-05 17:27:29,693 [INFO] [MainProcess] [Thread-9] [2968072285] [dummy_func] [2] TEST: msg\n",
      "2023-04-05 17:27:30,649 [INFO] [MainProcess] [Thread-8] [2968072285] [dummy_func] [2] TEST: msg\n",
      "2023-04-05 17:27:30,685 [INFO] [MainProcess] [Thread-10] [2968072285] [dummy_func] [2] TEST: msg\n",
      "2023-04-05 17:27:30,708 [INFO] [MainProcess] [Thread-9] [2968072285] [dummy_func] [2] TEST: msg\n",
      "2023-04-05 17:27:31,655 [INFO] [MainProcess] [Thread-8] [2968072285] [dummy_func] [2] TEST: msg\n",
      "2023-04-05 17:27:31,695 [INFO] [MainProcess] [Thread-10] [2968072285] [dummy_func] [2] TEST: msg\n",
      "2023-04-05 17:27:31,719 [INFO] [MainProcess] [Thread-9] [2968072285] [dummy_func] [2] TEST: msg\n",
      "2023-04-05 17:27:32,659 [INFO] [MainProcess] [Thread-8] [2968072285] [dummy_func] [2] TEST: msg\n",
      "2023-04-05 17:27:32,703 [INFO] [MainProcess] [Thread-10] [2968072285] [dummy_func] [2] TEST: msg\n",
      "2023-04-05 17:27:32,725 [INFO] [MainProcess] [Thread-9] [2968072285] [dummy_func] [2] TEST: msg\n",
      "2023-04-05 17:27:33,662 [INFO] [MainProcess] [Thread-8] [2968072285] [dummy_func] [2] TEST: msg\n",
      "2023-04-05 17:27:33,707 [INFO] [MainProcess] [Thread-10] [2968072285] [dummy_func] [2] TEST: msg\n",
      "2023-04-05 17:27:33,735 [INFO] [MainProcess] [Thread-9] [2968072285] [dummy_func] [2] TEST: msg\n",
      "2023-04-05 17:27:34,665 [INFO] [MainProcess] [Thread-8] [2968072285] [dummy_func] [2] TEST: msg\n",
      "2023-04-05 17:27:34,714 [INFO] [MainProcess] [Thread-10] [2968072285] [dummy_func] [2] TEST: msg\n",
      "2023-04-05 17:27:34,737 [INFO] [MainProcess] [Thread-9] [2968072285] [dummy_func] [2] TEST: msg\n",
      "2023-04-05 17:27:35,669 [INFO] [MainProcess] [Thread-8] [2968072285] [dummy_func] [2] TEST: msg\n",
      "2023-04-05 17:27:35,719 [INFO] [MainProcess] [Thread-10] [2968072285] [dummy_func] [2] TEST: msg\n",
      "2023-04-05 17:27:35,748 [INFO] [MainProcess] [Thread-9] [2968072285] [dummy_func] [2] TEST: msg\n",
      "2023-04-05 17:27:36,675 [INFO] [MainProcess] [Thread-8] [2968072285] [dummy_func] [2] TEST: msg\n",
      "2023-04-05 17:27:36,738 [INFO] [MainProcess] [Thread-10] [2968072285] [dummy_func] [2] TEST: msg\n",
      "2023-04-05 17:27:36,770 [INFO] [MainProcess] [Thread-9] [2968072285] [dummy_func] [2] TEST: msg\n",
      "2023-04-05 17:27:37,678 [INFO] [MainProcess] [Thread-8] [2968072285] [dummy_func] [2] TEST: msg\n",
      "2023-04-05 17:27:37,748 [INFO] [MainProcess] [Thread-10] [2968072285] [dummy_func] [2] TEST: msg\n",
      "2023-04-05 17:27:37,776 [INFO] [MainProcess] [Thread-9] [2968072285] [dummy_func] [2] TEST: msg\n",
      "2023-04-05 17:27:38,680 [INFO] [MainProcess] [Thread-8] [2968072285] [dummy_func] [2] TEST: msg\n",
      "2023-04-05 17:27:38,751 [INFO] [MainProcess] [Thread-10] [2968072285] [dummy_func] [2] TEST: msg\n",
      "2023-04-05 17:27:38,782 [INFO] [MainProcess] [Thread-9] [2968072285] [dummy_func] [2] TEST: msg\n",
      "2023-04-05 17:27:39,682 [INFO] [MainProcess] [Thread-8] [2968072285] [dummy_func] [2] TEST: msg\n",
      "2023-04-05 17:27:39,754 [INFO] [MainProcess] [Thread-10] [2968072285] [dummy_func] [2] TEST: msg\n",
      "2023-04-05 17:27:39,789 [INFO] [MainProcess] [Thread-9] [2968072285] [dummy_func] [2] TEST: msg\n",
      "2023-04-05 17:27:40,684 [INFO] [MainProcess] [Thread-8] [2968072285] [dummy_func] [2] TEST: msg\n",
      "2023-04-05 17:27:40,759 [INFO] [MainProcess] [Thread-10] [2968072285] [dummy_func] [2] TEST: msg\n",
      "2023-04-05 17:27:40,797 [INFO] [MainProcess] [Thread-9] [2968072285] [dummy_func] [2] TEST: msg\n",
      "2023-04-05 17:27:41,688 [INFO] [MainProcess] [Thread-8] [2968072285] [dummy_func] [2] TEST: msg\n",
      "2023-04-05 17:27:41,764 [INFO] [MainProcess] [Thread-10] [2968072285] [dummy_func] [2] TEST: msg\n",
      "2023-04-05 17:27:41,801 [INFO] [MainProcess] [Thread-9] [2968072285] [dummy_func] [2] TEST: msg\n",
      "2023-04-05 17:27:42,695 [INFO] [MainProcess] [Thread-8] [2968072285] [dummy_func] [2] TEST: msg\n",
      "2023-04-05 17:27:42,767 [INFO] [MainProcess] [Thread-10] [2968072285] [dummy_func] [2] TEST: msg\n",
      "2023-04-05 17:27:42,805 [INFO] [MainProcess] [Thread-9] [2968072285] [dummy_func] [2] TEST: msg\n",
      "2023-04-05 17:27:43,697 [INFO] [MainProcess] [Thread-8] [2968072285] [dummy_func] [2] TEST: msg\n",
      "2023-04-05 17:27:43,774 [INFO] [MainProcess] [Thread-10] [2968072285] [dummy_func] [2] TEST: msg\n",
      "2023-04-05 17:27:43,808 [INFO] [MainProcess] [Thread-9] [2968072285] [dummy_func] [2] TEST: msg\n",
      "2023-04-05 17:27:44,698 [INFO] [MainProcess] [Thread-8] [2968072285] [dummy_func] [2] TEST: msg\n",
      "2023-04-05 17:27:44,775 [INFO] [MainProcess] [Thread-10] [2968072285] [dummy_func] [2] TEST: msg\n",
      "2023-04-05 17:27:44,816 [INFO] [MainProcess] [Thread-9] [2968072285] [dummy_func] [2] TEST: msg\n",
      "2023-04-05 17:27:45,702 [INFO] [MainProcess] [Thread-8] [2968072285] [dummy_func] [2] TEST: msg\n",
      "2023-04-05 17:27:45,782 [INFO] [MainProcess] [Thread-10] [2968072285] [dummy_func] [2] TEST: msg\n",
      "2023-04-05 17:27:45,821 [INFO] [MainProcess] [Thread-9] [2968072285] [dummy_func] [2] TEST: msg\n",
      "2023-04-05 17:27:46,704 [INFO] [MainProcess] [Thread-8] [2968072285] [dummy_func] [2] TEST: msg\n",
      "2023-04-05 17:27:46,788 [INFO] [MainProcess] [Thread-10] [2968072285] [dummy_func] [2] TEST: msg\n",
      "2023-04-05 17:27:46,825 [INFO] [MainProcess] [Thread-9] [2968072285] [dummy_func] [2] TEST: msg\n",
      "2023-04-05 17:27:47,707 [INFO] [MainProcess] [Thread-8] [2968072285] [dummy_func] [2] TEST: msg\n",
      "2023-04-05 17:27:47,795 [INFO] [MainProcess] [Thread-10] [2968072285] [dummy_func] [2] TEST: msg\n",
      "2023-04-05 17:27:47,832 [INFO] [MainProcess] [Thread-9] [2968072285] [dummy_func] [2] TEST: msg\n",
      "2023-04-05 17:27:48,708 [INFO] [MainProcess] [Thread-8] [2968072285] [dummy_func] [2] TEST: msg\n",
      "2023-04-05 17:27:48,798 [INFO] [MainProcess] [Thread-10] [2968072285] [dummy_func] [2] TEST: msg\n",
      "2023-04-05 17:27:49,711 [INFO] [MainProcess] [Thread-8] [2968072285] [dummy_func] [2] TEST: msg\n",
      "2023-04-05 17:27:49,802 [INFO] [MainProcess] [Thread-10] [2968072285] [dummy_func] [2] TEST: msg\n",
      "2023-04-05 17:27:50,713 [INFO] [MainProcess] [Thread-8] [2968072285] [dummy_func] [2] TEST: msg\n",
      "2023-04-05 17:27:50,806 [INFO] [MainProcess] [Thread-10] [2968072285] [dummy_func] [2] TEST: msg\n",
      "2023-04-05 17:27:51,717 [INFO] [MainProcess] [Thread-8] [2968072285] [dummy_func] [2] TEST: msg\n",
      "2023-04-05 17:27:51,809 [INFO] [MainProcess] [Thread-10] [2968072285] [dummy_func] [2] TEST: msg\n",
      "2023-04-05 17:27:52,724 [INFO] [MainProcess] [Thread-8] [2968072285] [dummy_func] [2] TEST: msg\n",
      "2023-04-05 17:27:52,816 [INFO] [MainProcess] [Thread-10] [2968072285] [dummy_func] [2] TEST: msg\n",
      "2023-04-05 17:27:53,727 [INFO] [MainProcess] [Thread-8] [2968072285] [dummy_func] [2] TEST: msg\n",
      "2023-04-05 17:27:53,822 [INFO] [MainProcess] [Thread-10] [2968072285] [dummy_func] [2] TEST: msg\n",
      "2023-04-05 17:27:54,734 [INFO] [MainProcess] [Thread-8] [2968072285] [dummy_func] [2] TEST: msg\n",
      "2023-04-05 17:27:54,825 [INFO] [MainProcess] [Thread-10] [2968072285] [dummy_func] [2] TEST: msg\n",
      "2023-04-05 17:27:55,740 [INFO] [MainProcess] [Thread-8] [2968072285] [dummy_func] [2] TEST: msg\n",
      "2023-04-05 17:27:55,828 [INFO] [MainProcess] [Thread-10] [2968072285] [dummy_func] [2] TEST: msg\n"
     ]
    },
    {
     "name": "stdout",
     "output_type": "stream",
     "text": [
      "[10, 11, 12, 13, 14, 15, 16, 17, 18, 19, 20, 21, 22, 23, 24, 25, 26, 27, 28, 29, 30, 31, 32, 33, 34, 35, 36, 37, 38, 39, 40, 41, 42, 43, 44, 45, 46, 47, 48, 49, 50, 51, 52, 53, 54, 55, 56, 57, 58, 59, 60, 61, 62, 63, 64, 65, 66, 67, 68, 69, 70, 71, 72, 73, 74, 75, 76, 77, 78, 79, 80, 81, 82, 83, 84, 85, 86, 87, 88, 89, 90, 91, 92, 93, 94, 95, 96, 97, 98, 99, 100, 101, 102, 103, 104, 105, 106, 107, 108, 109]\n",
      "total time taken 36.247737588999996\n"
     ]
    }
   ],
   "source": [
    "'''\n",
    "single process and multiple threads\n",
    "MainProcess - Thread-8\n",
    "MainProcess - Thread-9\n",
    "...\n",
    "MainProcess - Thread-n\n",
    "'''\n",
    "start = time.perf_counter()\n",
    "CPU_CNT = mp.cpu_count()\n",
    "print(CPU_CNT)\n",
    "outputs = []\n",
    "cnst_nbr = 10\n",
    "with mp.pool.ThreadPool(CPU_CNT-1) as pool:\n",
    "    chunks = chunks_mtdh(inputs, CPU_CNT-1)\n",
    "    for result in pool.starmap(dummy_func, [(ip, cnst_nbr) for ip in chunks]):\n",
    "        outputs.append(result)\n",
    "        \n",
    "print(outputs)\n",
    "end = time.perf_counter()\n",
    "print(f\"total time taken {end-start}\")"
   ]
  },
  {
   "cell_type": "markdown",
   "id": "c2b54db3-5d40-40b3-9bc1-9506f694ec8a",
   "metadata": {},
   "source": [
    "## ray"
   ]
  },
  {
   "cell_type": "code",
   "execution_count": 10,
   "id": "41dc0119-8a88-49c9-9d54-13455125356e",
   "metadata": {},
   "outputs": [],
   "source": [
    "import time\n",
    "import ray"
   ]
  },
  {
   "cell_type": "code",
   "execution_count": 11,
   "id": "ecfa5f19-72a5-4323-abf0-d57e5bf8d0a5",
   "metadata": {},
   "outputs": [],
   "source": [
    "def dummy_func(ip, add_nbr):\n",
    "    log.info(\"msg\")\n",
    "    time.sleep(1)\n",
    "    return ip + add_nbr\n",
    "\n",
    "def chunks_mtdh(l, n):\n",
    "    chunks = []\n",
    "    for i in range(0, len(l), n):\n",
    "        chunks.extend(l[i:i+n])\n",
    "    return chunks"
   ]
  },
  {
   "cell_type": "code",
   "execution_count": 12,
   "id": "6ad9fdd2-a8ab-4e2a-8cf6-b65e7e9fb830",
   "metadata": {},
   "outputs": [
    {
     "name": "stdout",
     "output_type": "stream",
     "text": [
      "[0, 1, 2, 3, 4, 5, 6, 7, 8, 9, 10, 11, 12, 13, 14, 15, 16, 17, 18, 19, 20, 21, 22, 23, 24, 25, 26, 27, 28, 29, 30, 31, 32, 33, 34, 35, 36, 37, 38, 39, 40, 41, 42, 43, 44, 45, 46, 47, 48, 49, 50, 51, 52, 53, 54, 55, 56, 57, 58, 59, 60, 61, 62, 63, 64, 65, 66, 67, 68, 69, 70, 71, 72, 73, 74, 75, 76, 77, 78, 79, 80, 81, 82, 83, 84, 85, 86, 87, 88, 89, 90, 91, 92, 93, 94, 95, 96, 97, 98, 99]\n"
     ]
    }
   ],
   "source": [
    "inputs = [i for i in range(100)]\n",
    "print(inputs)"
   ]
  },
  {
   "cell_type": "code",
   "execution_count": 13,
   "id": "61cd7383-dc95-412f-813a-da333d8d2b4c",
   "metadata": {},
   "outputs": [
    {
     "name": "stderr",
     "output_type": "stream",
     "text": [
      "2023-04-05 17:29:47,050 [INFO] [MainProcess] [MainThread] [2968072285] [dummy_func] [2] TEST: msg\n",
      "2023-04-05 17:29:48,056 [INFO] [MainProcess] [MainThread] [2968072285] [dummy_func] [2] TEST: msg\n",
      "2023-04-05 17:29:49,058 [INFO] [MainProcess] [MainThread] [2968072285] [dummy_func] [2] TEST: msg\n",
      "2023-04-05 17:29:50,066 [INFO] [MainProcess] [MainThread] [2968072285] [dummy_func] [2] TEST: msg\n",
      "2023-04-05 17:29:51,071 [INFO] [MainProcess] [MainThread] [2968072285] [dummy_func] [2] TEST: msg\n",
      "2023-04-05 17:29:52,074 [INFO] [MainProcess] [MainThread] [2968072285] [dummy_func] [2] TEST: msg\n",
      "2023-04-05 17:29:53,079 [INFO] [MainProcess] [MainThread] [2968072285] [dummy_func] [2] TEST: msg\n",
      "2023-04-05 17:29:54,084 [INFO] [MainProcess] [MainThread] [2968072285] [dummy_func] [2] TEST: msg\n",
      "2023-04-05 17:29:55,090 [INFO] [MainProcess] [MainThread] [2968072285] [dummy_func] [2] TEST: msg\n",
      "2023-04-05 17:29:56,095 [INFO] [MainProcess] [MainThread] [2968072285] [dummy_func] [2] TEST: msg\n",
      "2023-04-05 17:29:57,099 [INFO] [MainProcess] [MainThread] [2968072285] [dummy_func] [2] TEST: msg\n",
      "2023-04-05 17:29:58,101 [INFO] [MainProcess] [MainThread] [2968072285] [dummy_func] [2] TEST: msg\n",
      "2023-04-05 17:29:59,103 [INFO] [MainProcess] [MainThread] [2968072285] [dummy_func] [2] TEST: msg\n",
      "2023-04-05 17:30:00,109 [INFO] [MainProcess] [MainThread] [2968072285] [dummy_func] [2] TEST: msg\n",
      "2023-04-05 17:30:01,111 [INFO] [MainProcess] [MainThread] [2968072285] [dummy_func] [2] TEST: msg\n",
      "2023-04-05 17:30:02,117 [INFO] [MainProcess] [MainThread] [2968072285] [dummy_func] [2] TEST: msg\n",
      "2023-04-05 17:30:03,122 [INFO] [MainProcess] [MainThread] [2968072285] [dummy_func] [2] TEST: msg\n",
      "2023-04-05 17:30:04,129 [INFO] [MainProcess] [MainThread] [2968072285] [dummy_func] [2] TEST: msg\n",
      "2023-04-05 17:30:05,131 [INFO] [MainProcess] [MainThread] [2968072285] [dummy_func] [2] TEST: msg\n",
      "2023-04-05 17:30:06,133 [INFO] [MainProcess] [MainThread] [2968072285] [dummy_func] [2] TEST: msg\n",
      "2023-04-05 17:30:07,135 [INFO] [MainProcess] [MainThread] [2968072285] [dummy_func] [2] TEST: msg\n",
      "2023-04-05 17:30:08,138 [INFO] [MainProcess] [MainThread] [2968072285] [dummy_func] [2] TEST: msg\n",
      "2023-04-05 17:30:09,140 [INFO] [MainProcess] [MainThread] [2968072285] [dummy_func] [2] TEST: msg\n",
      "2023-04-05 17:30:10,143 [INFO] [MainProcess] [MainThread] [2968072285] [dummy_func] [2] TEST: msg\n",
      "2023-04-05 17:30:11,149 [INFO] [MainProcess] [MainThread] [2968072285] [dummy_func] [2] TEST: msg\n",
      "2023-04-05 17:30:12,156 [INFO] [MainProcess] [MainThread] [2968072285] [dummy_func] [2] TEST: msg\n",
      "2023-04-05 17:30:13,162 [INFO] [MainProcess] [MainThread] [2968072285] [dummy_func] [2] TEST: msg\n",
      "2023-04-05 17:30:14,169 [INFO] [MainProcess] [MainThread] [2968072285] [dummy_func] [2] TEST: msg\n",
      "2023-04-05 17:30:15,173 [INFO] [MainProcess] [MainThread] [2968072285] [dummy_func] [2] TEST: msg\n",
      "2023-04-05 17:30:16,179 [INFO] [MainProcess] [MainThread] [2968072285] [dummy_func] [2] TEST: msg\n",
      "2023-04-05 17:30:17,186 [INFO] [MainProcess] [MainThread] [2968072285] [dummy_func] [2] TEST: msg\n",
      "2023-04-05 17:30:18,190 [INFO] [MainProcess] [MainThread] [2968072285] [dummy_func] [2] TEST: msg\n",
      "2023-04-05 17:30:19,195 [INFO] [MainProcess] [MainThread] [2968072285] [dummy_func] [2] TEST: msg\n",
      "2023-04-05 17:30:20,199 [INFO] [MainProcess] [MainThread] [2968072285] [dummy_func] [2] TEST: msg\n",
      "2023-04-05 17:30:21,204 [INFO] [MainProcess] [MainThread] [2968072285] [dummy_func] [2] TEST: msg\n",
      "2023-04-05 17:30:22,209 [INFO] [MainProcess] [MainThread] [2968072285] [dummy_func] [2] TEST: msg\n",
      "2023-04-05 17:30:23,213 [INFO] [MainProcess] [MainThread] [2968072285] [dummy_func] [2] TEST: msg\n",
      "2023-04-05 17:30:24,219 [INFO] [MainProcess] [MainThread] [2968072285] [dummy_func] [2] TEST: msg\n",
      "2023-04-05 17:30:25,221 [INFO] [MainProcess] [MainThread] [2968072285] [dummy_func] [2] TEST: msg\n",
      "2023-04-05 17:30:26,223 [INFO] [MainProcess] [MainThread] [2968072285] [dummy_func] [2] TEST: msg\n",
      "2023-04-05 17:30:27,227 [INFO] [MainProcess] [MainThread] [2968072285] [dummy_func] [2] TEST: msg\n",
      "2023-04-05 17:30:28,230 [INFO] [MainProcess] [MainThread] [2968072285] [dummy_func] [2] TEST: msg\n",
      "2023-04-05 17:30:29,235 [INFO] [MainProcess] [MainThread] [2968072285] [dummy_func] [2] TEST: msg\n",
      "2023-04-05 17:30:30,236 [INFO] [MainProcess] [MainThread] [2968072285] [dummy_func] [2] TEST: msg\n",
      "2023-04-05 17:30:31,238 [INFO] [MainProcess] [MainThread] [2968072285] [dummy_func] [2] TEST: msg\n",
      "2023-04-05 17:30:32,243 [INFO] [MainProcess] [MainThread] [2968072285] [dummy_func] [2] TEST: msg\n",
      "2023-04-05 17:30:33,246 [INFO] [MainProcess] [MainThread] [2968072285] [dummy_func] [2] TEST: msg\n",
      "2023-04-05 17:30:34,250 [INFO] [MainProcess] [MainThread] [2968072285] [dummy_func] [2] TEST: msg\n",
      "2023-04-05 17:30:35,252 [INFO] [MainProcess] [MainThread] [2968072285] [dummy_func] [2] TEST: msg\n",
      "2023-04-05 17:30:36,254 [INFO] [MainProcess] [MainThread] [2968072285] [dummy_func] [2] TEST: msg\n",
      "2023-04-05 17:30:37,259 [INFO] [MainProcess] [MainThread] [2968072285] [dummy_func] [2] TEST: msg\n",
      "2023-04-05 17:30:38,261 [INFO] [MainProcess] [MainThread] [2968072285] [dummy_func] [2] TEST: msg\n",
      "2023-04-05 17:30:39,263 [INFO] [MainProcess] [MainThread] [2968072285] [dummy_func] [2] TEST: msg\n",
      "2023-04-05 17:30:40,264 [INFO] [MainProcess] [MainThread] [2968072285] [dummy_func] [2] TEST: msg\n",
      "2023-04-05 17:30:41,266 [INFO] [MainProcess] [MainThread] [2968072285] [dummy_func] [2] TEST: msg\n",
      "2023-04-05 17:30:42,273 [INFO] [MainProcess] [MainThread] [2968072285] [dummy_func] [2] TEST: msg\n",
      "2023-04-05 17:30:43,279 [INFO] [MainProcess] [MainThread] [2968072285] [dummy_func] [2] TEST: msg\n",
      "2023-04-05 17:30:44,286 [INFO] [MainProcess] [MainThread] [2968072285] [dummy_func] [2] TEST: msg\n",
      "2023-04-05 17:30:45,293 [INFO] [MainProcess] [MainThread] [2968072285] [dummy_func] [2] TEST: msg\n",
      "2023-04-05 17:30:46,299 [INFO] [MainProcess] [MainThread] [2968072285] [dummy_func] [2] TEST: msg\n",
      "2023-04-05 17:30:47,302 [INFO] [MainProcess] [MainThread] [2968072285] [dummy_func] [2] TEST: msg\n",
      "2023-04-05 17:30:48,304 [INFO] [MainProcess] [MainThread] [2968072285] [dummy_func] [2] TEST: msg\n",
      "2023-04-05 17:30:49,309 [INFO] [MainProcess] [MainThread] [2968072285] [dummy_func] [2] TEST: msg\n",
      "2023-04-05 17:30:50,311 [INFO] [MainProcess] [MainThread] [2968072285] [dummy_func] [2] TEST: msg\n",
      "2023-04-05 17:30:51,313 [INFO] [MainProcess] [MainThread] [2968072285] [dummy_func] [2] TEST: msg\n",
      "2023-04-05 17:30:52,317 [INFO] [MainProcess] [MainThread] [2968072285] [dummy_func] [2] TEST: msg\n",
      "2023-04-05 17:30:53,319 [INFO] [MainProcess] [MainThread] [2968072285] [dummy_func] [2] TEST: msg\n",
      "2023-04-05 17:30:54,323 [INFO] [MainProcess] [MainThread] [2968072285] [dummy_func] [2] TEST: msg\n",
      "2023-04-05 17:30:55,330 [INFO] [MainProcess] [MainThread] [2968072285] [dummy_func] [2] TEST: msg\n",
      "2023-04-05 17:30:56,333 [INFO] [MainProcess] [MainThread] [2968072285] [dummy_func] [2] TEST: msg\n",
      "2023-04-05 17:30:57,340 [INFO] [MainProcess] [MainThread] [2968072285] [dummy_func] [2] TEST: msg\n",
      "2023-04-05 17:30:58,343 [INFO] [MainProcess] [MainThread] [2968072285] [dummy_func] [2] TEST: msg\n",
      "2023-04-05 17:30:59,348 [INFO] [MainProcess] [MainThread] [2968072285] [dummy_func] [2] TEST: msg\n",
      "2023-04-05 17:31:00,350 [INFO] [MainProcess] [MainThread] [2968072285] [dummy_func] [2] TEST: msg\n",
      "2023-04-05 17:31:01,353 [INFO] [MainProcess] [MainThread] [2968072285] [dummy_func] [2] TEST: msg\n",
      "2023-04-05 17:31:02,358 [INFO] [MainProcess] [MainThread] [2968072285] [dummy_func] [2] TEST: msg\n",
      "2023-04-05 17:31:03,360 [INFO] [MainProcess] [MainThread] [2968072285] [dummy_func] [2] TEST: msg\n",
      "2023-04-05 17:31:04,361 [INFO] [MainProcess] [MainThread] [2968072285] [dummy_func] [2] TEST: msg\n",
      "2023-04-05 17:31:05,363 [INFO] [MainProcess] [MainThread] [2968072285] [dummy_func] [2] TEST: msg\n",
      "2023-04-05 17:31:06,370 [INFO] [MainProcess] [MainThread] [2968072285] [dummy_func] [2] TEST: msg\n",
      "2023-04-05 17:31:07,372 [INFO] [MainProcess] [MainThread] [2968072285] [dummy_func] [2] TEST: msg\n",
      "2023-04-05 17:31:08,374 [INFO] [MainProcess] [MainThread] [2968072285] [dummy_func] [2] TEST: msg\n",
      "2023-04-05 17:31:09,381 [INFO] [MainProcess] [MainThread] [2968072285] [dummy_func] [2] TEST: msg\n",
      "2023-04-05 17:31:10,383 [INFO] [MainProcess] [MainThread] [2968072285] [dummy_func] [2] TEST: msg\n",
      "2023-04-05 17:31:11,387 [INFO] [MainProcess] [MainThread] [2968072285] [dummy_func] [2] TEST: msg\n",
      "2023-04-05 17:31:12,392 [INFO] [MainProcess] [MainThread] [2968072285] [dummy_func] [2] TEST: msg\n",
      "2023-04-05 17:31:13,395 [INFO] [MainProcess] [MainThread] [2968072285] [dummy_func] [2] TEST: msg\n",
      "2023-04-05 17:31:14,403 [INFO] [MainProcess] [MainThread] [2968072285] [dummy_func] [2] TEST: msg\n",
      "2023-04-05 17:31:15,406 [INFO] [MainProcess] [MainThread] [2968072285] [dummy_func] [2] TEST: msg\n",
      "2023-04-05 17:31:16,411 [INFO] [MainProcess] [MainThread] [2968072285] [dummy_func] [2] TEST: msg\n",
      "2023-04-05 17:31:17,415 [INFO] [MainProcess] [MainThread] [2968072285] [dummy_func] [2] TEST: msg\n",
      "2023-04-05 17:31:18,417 [INFO] [MainProcess] [MainThread] [2968072285] [dummy_func] [2] TEST: msg\n",
      "2023-04-05 17:31:19,421 [INFO] [MainProcess] [MainThread] [2968072285] [dummy_func] [2] TEST: msg\n",
      "2023-04-05 17:31:20,423 [INFO] [MainProcess] [MainThread] [2968072285] [dummy_func] [2] TEST: msg\n",
      "2023-04-05 17:31:21,424 [INFO] [MainProcess] [MainThread] [2968072285] [dummy_func] [2] TEST: msg\n",
      "2023-04-05 17:31:22,426 [INFO] [MainProcess] [MainThread] [2968072285] [dummy_func] [2] TEST: msg\n",
      "2023-04-05 17:31:23,431 [INFO] [MainProcess] [MainThread] [2968072285] [dummy_func] [2] TEST: msg\n",
      "2023-04-05 17:31:24,434 [INFO] [MainProcess] [MainThread] [2968072285] [dummy_func] [2] TEST: msg\n",
      "2023-04-05 17:31:25,439 [INFO] [MainProcess] [MainThread] [2968072285] [dummy_func] [2] TEST: msg\n",
      "2023-04-05 17:31:26,445 [INFO] [MainProcess] [MainThread] [2968072285] [dummy_func] [2] TEST: msg\n"
     ]
    },
    {
     "name": "stdout",
     "output_type": "stream",
     "text": [
      "[10, 11, 12, 13, 14, 15, 16, 17, 18, 19, 20, 21, 22, 23, 24, 25, 26, 27, 28, 29, 30, 31, 32, 33, 34, 35, 36, 37, 38, 39, 40, 41, 42, 43, 44, 45, 46, 47, 48, 49, 50, 51, 52, 53, 54, 55, 56, 57, 58, 59, 60, 61, 62, 63, 64, 65, 66, 67, 68, 69, 70, 71, 72, 73, 74, 75, 76, 77, 78, 79, 80, 81, 82, 83, 84, 85, 86, 87, 88, 89, 90, 91, 92, 93, 94, 95, 96, 97, 98, 99, 100, 101, 102, 103, 104, 105, 106, 107, 108, 109]\n",
      "total time taken 100.39820348700005\n"
     ]
    }
   ],
   "source": [
    "start = time.perf_counter()\n",
    "outputs = []\n",
    "cnst_nbr = 10\n",
    "for ip in inputs:\n",
    "    result = dummy_func(ip, cnst_nbr)\n",
    "    outputs.append(result)\n",
    "    \n",
    "print(outputs)\n",
    "end = time.perf_counter()\n",
    "print(f\"total time taken {end-start}\")"
   ]
  },
  {
   "cell_type": "code",
   "execution_count": 14,
   "id": "1287e09b-eaae-4022-9552-e3032edb5642",
   "metadata": {},
   "outputs": [
    {
     "name": "stdout",
     "output_type": "stream",
     "text": [
      "4\n"
     ]
    },
    {
     "name": "stderr",
     "output_type": "stream",
     "text": [
      "2023-04-05 17:34:05,600\tINFO worker.py:1528 -- Started a local Ray instance.\n"
     ]
    },
    {
     "name": "stdout",
     "output_type": "stream",
     "text": [
      "[10, 11, 12, 13, 14, 15, 16, 17, 18, 19, 20, 21, 22, 23, 24, 25, 26, 27, 28, 29, 30, 31, 32, 33, 34, 35, 36, 37, 38, 39, 40, 41, 42, 43, 44, 45, 46, 47, 48, 49, 50, 51, 52, 53, 54, 55, 56, 57, 58, 59, 60, 61, 62, 63, 64, 65, 66, 67, 68, 69, 70, 71, 72, 73, 74, 75, 76, 77, 78, 79, 80, 81, 82, 83, 84, 85, 86, 87, 88, 89, 90, 91, 92, 93, 94, 95, 96, 97, 98, 99, 100, 101, 102, 103, 104, 105, 106, 107, 108, 109]\n",
      "total time taken 43.62238994800009\n"
     ]
    }
   ],
   "source": [
    "# Ray is Distributed multiprocessing package\n",
    "start = time.perf_counter()\n",
    "CPU_CNT = mp.cpu_count()\n",
    "print(CPU_CNT)\n",
    "ray.init(num_cpus=CPU_CNT-1)\n",
    "outputs = []\n",
    "cnst_nbr = 10\n",
    "\n",
    "remote_dummy_func = ray.remote(dummy_func) \n",
    "outputs = ray.get([remote_dummy_func.remote(ip, cnst_nbr) for ip in inputs])\n",
    "\n",
    "ray.shutdown()\n",
    "print(outputs)\n",
    "end = time.perf_counter()\n",
    "print(f\"total time taken {end-start}\")"
   ]
  },
  {
   "cell_type": "markdown",
   "id": "c7d36fbb-7abc-42a0-9db4-13ae2e18685e",
   "metadata": {},
   "source": [
    "## joblib"
   ]
  },
  {
   "cell_type": "code",
   "execution_count": 15,
   "id": "053499ba-c3ee-4a8b-94e6-5bbeb66a9442",
   "metadata": {},
   "outputs": [],
   "source": [
    "import time\n",
    "import joblib\n",
    "from joblib import Parallel, delayed\n",
    "from joblib import wrap_non_picklable_objects"
   ]
  },
  {
   "cell_type": "code",
   "execution_count": 16,
   "id": "63f2e1cb-cf01-4f84-9b36-04bee87e3184",
   "metadata": {},
   "outputs": [
    {
     "data": {
      "text/plain": [
       "'1.2.0'"
      ]
     },
     "execution_count": 16,
     "metadata": {},
     "output_type": "execute_result"
    }
   ],
   "source": [
    "joblib.__version__"
   ]
  },
  {
   "cell_type": "code",
   "execution_count": 32,
   "id": "ee88ec28-7e6a-4253-a697-dc603841de94",
   "metadata": {},
   "outputs": [],
   "source": [
    "# from joblib.externals.loky import set_loky_pickler\n",
    "# set_loky_pickler('pickle5')"
   ]
  },
  {
   "cell_type": "code",
   "execution_count": 36,
   "id": "422e721c-e591-40f2-b12d-41e87d43cdc0",
   "metadata": {},
   "outputs": [],
   "source": [
    "@wrap_non_picklable_objects\n",
    "def dummy_func(ip, add_nbr):\n",
    "    log.info(\"msg\")\n",
    "    time.sleep(1)\n",
    "    return ip + add_nbr\n",
    "\n",
    "def chunks_mtdh(l, n):\n",
    "    chunks = []\n",
    "    for i in range(0, len(l), n):\n",
    "        chunks.extend(l[i:i+n])\n",
    "    return chunks"
   ]
  },
  {
   "cell_type": "code",
   "execution_count": 37,
   "id": "2de20f67-85dc-41ea-8b41-c611292aa707",
   "metadata": {},
   "outputs": [
    {
     "name": "stdout",
     "output_type": "stream",
     "text": [
      "[0, 1, 2, 3, 4, 5, 6, 7, 8, 9, 10, 11, 12, 13, 14, 15, 16, 17, 18, 19, 20, 21, 22, 23, 24, 25, 26, 27, 28, 29, 30, 31, 32, 33, 34, 35, 36, 37, 38, 39, 40, 41, 42, 43, 44, 45, 46, 47, 48, 49, 50, 51, 52, 53, 54, 55, 56, 57, 58, 59, 60, 61, 62, 63, 64, 65, 66, 67, 68, 69, 70, 71, 72, 73, 74, 75, 76, 77, 78, 79, 80, 81, 82, 83, 84, 85, 86, 87, 88, 89, 90, 91, 92, 93, 94, 95, 96, 97, 98, 99]\n"
     ]
    }
   ],
   "source": [
    "inputs = [i for i in range(100)]\n",
    "print(inputs)"
   ]
  },
  {
   "cell_type": "code",
   "execution_count": 20,
   "id": "466f5007-54e0-4d66-a485-7697bcd28b57",
   "metadata": {},
   "outputs": [
    {
     "name": "stdout",
     "output_type": "stream",
     "text": [
      "[10, 11, 12, 13, 14, 15, 16, 17, 18, 19, 20, 21, 22, 23, 24, 25, 26, 27, 28, 29, 30, 31, 32, 33, 34, 35, 36, 37, 38, 39, 40, 41, 42, 43, 44, 45, 46, 47, 48, 49, 50, 51, 52, 53, 54, 55, 56, 57, 58, 59, 60, 61, 62, 63, 64, 65, 66, 67, 68, 69, 70, 71, 72, 73, 74, 75, 76, 77, 78, 79, 80, 81, 82, 83, 84, 85, 86, 87, 88, 89, 90, 91, 92, 93, 94, 95, 96, 97, 98, 99, 100, 101, 102, 103, 104, 105, 106, 107, 108, 109]\n",
      "total time taken 100.21423147399992\n"
     ]
    }
   ],
   "source": [
    "start = time.perf_counter()\n",
    "outputs = []\n",
    "cnst_nbr = 10\n",
    "for ip in inputs:\n",
    "    result = dummy_func(ip, cnst_nbr)\n",
    "    outputs.append(result)\n",
    "    \n",
    "print(outputs)\n",
    "end = time.perf_counter()\n",
    "print(f\"total time taken {end-start}\")"
   ]
  },
  {
   "cell_type": "code",
   "execution_count": 38,
   "id": "46a78a71-077b-47df-bbdb-a6c1614e71f2",
   "metadata": {},
   "outputs": [
    {
     "name": "stdout",
     "output_type": "stream",
     "text": [
      "4\n",
      "[10, 11, 12, 13, 14, 15, 16, 17, 18, 19, 20, 21, 22, 23, 24, 25, 26, 27, 28, 29, 30, 31, 32, 33, 34, 35, 36, 37, 38, 39, 40, 41, 42, 43, 44, 45, 46, 47, 48, 49, 50, 51, 52, 53, 54, 55, 56, 57, 58, 59, 60, 61, 62, 63, 64, 65, 66, 67, 68, 69, 70, 71, 72, 73, 74, 75, 76, 77, 78, 79, 80, 81, 82, 83, 84, 85, 86, 87, 88, 89, 90, 91, 92, 93, 94, 95, 96, 97, 98, 99, 100, 101, 102, 103, 104, 105, 106, 107, 108, 109]\n",
      "total time taken 34.13869442300006\n"
     ]
    }
   ],
   "source": [
    "# works with python 3.8 ~ ValueError: unsupported pickle protocol: 5\n",
    "start = time.perf_counter()\n",
    "CPU_CNT = mp.cpu_count()\n",
    "print(CPU_CNT)\n",
    "outputs = []\n",
    "cnst_nbr = 10\n",
    "\n",
    "outputs = Parallel(n_jobs=CPU_CNT-1, prefer=\"processes\")(delayed(dummy_func)(ip, cnst_nbr) for ip in inputs)\n",
    "\n",
    "print(outputs)\n",
    "end = time.perf_counter()\n",
    "print(f\"total time taken {end-start}\")"
   ]
  },
  {
   "cell_type": "code",
   "execution_count": 39,
   "id": "3e5a504a-8458-480d-b1df-31ca34681944",
   "metadata": {},
   "outputs": [
    {
     "name": "stderr",
     "output_type": "stream",
     "text": [
      "2023-04-05 17:43:25,209 [INFO] [MainProcess] [Thread-25] [358232672] [dummy_func] [3] TEST: msg\n",
      "2023-04-05 17:43:25,210 [INFO] [MainProcess] [Thread-26] [358232672] [dummy_func] [3] TEST: msg\n",
      "2023-04-05 17:43:25,211 [INFO] [MainProcess] [Thread-27] [358232672] [dummy_func] [3] TEST: msg\n"
     ]
    },
    {
     "name": "stdout",
     "output_type": "stream",
     "text": [
      "4\n"
     ]
    },
    {
     "name": "stderr",
     "output_type": "stream",
     "text": [
      "2023-04-05 17:43:26,214 [INFO] [MainProcess] [Thread-25] [358232672] [dummy_func] [3] TEST: msg\n",
      "2023-04-05 17:43:26,218 [INFO] [MainProcess] [Thread-26] [358232672] [dummy_func] [3] TEST: msg\n",
      "2023-04-05 17:43:26,221 [INFO] [MainProcess] [Thread-27] [358232672] [dummy_func] [3] TEST: msg\n",
      "2023-04-05 17:43:27,221 [INFO] [MainProcess] [Thread-25] [358232672] [dummy_func] [3] TEST: msg\n",
      "2023-04-05 17:43:27,222 [INFO] [MainProcess] [Thread-26] [358232672] [dummy_func] [3] TEST: msg\n",
      "2023-04-05 17:43:27,223 [INFO] [MainProcess] [Thread-27] [358232672] [dummy_func] [3] TEST: msg\n",
      "2023-04-05 17:43:28,224 [INFO] [MainProcess] [Thread-25] [358232672] [dummy_func] [3] TEST: msg\n",
      "2023-04-05 17:43:28,225 [INFO] [MainProcess] [Thread-26] [358232672] [dummy_func] [3] TEST: msg\n",
      "2023-04-05 17:43:28,230 [INFO] [MainProcess] [Thread-27] [358232672] [dummy_func] [3] TEST: msg\n",
      "2023-04-05 17:43:29,230 [INFO] [MainProcess] [Thread-25] [358232672] [dummy_func] [3] TEST: msg\n",
      "2023-04-05 17:43:29,231 [INFO] [MainProcess] [Thread-26] [358232672] [dummy_func] [3] TEST: msg\n",
      "2023-04-05 17:43:29,236 [INFO] [MainProcess] [Thread-27] [358232672] [dummy_func] [3] TEST: msg\n",
      "2023-04-05 17:43:30,232 [INFO] [MainProcess] [Thread-25] [358232672] [dummy_func] [3] TEST: msg\n",
      "2023-04-05 17:43:30,238 [INFO] [MainProcess] [Thread-26] [358232672] [dummy_func] [3] TEST: msg\n",
      "2023-04-05 17:43:30,239 [INFO] [MainProcess] [Thread-27] [358232672] [dummy_func] [3] TEST: msg\n",
      "2023-04-05 17:43:31,235 [INFO] [MainProcess] [Thread-25] [358232672] [dummy_func] [3] TEST: msg\n",
      "2023-04-05 17:43:31,244 [INFO] [MainProcess] [Thread-26] [358232672] [dummy_func] [3] TEST: msg\n",
      "2023-04-05 17:43:31,245 [INFO] [MainProcess] [Thread-27] [358232672] [dummy_func] [3] TEST: msg\n",
      "2023-04-05 17:43:32,239 [INFO] [MainProcess] [Thread-25] [358232672] [dummy_func] [3] TEST: msg\n",
      "2023-04-05 17:43:32,248 [INFO] [MainProcess] [Thread-26] [358232672] [dummy_func] [3] TEST: msg\n",
      "2023-04-05 17:43:32,252 [INFO] [MainProcess] [Thread-27] [358232672] [dummy_func] [3] TEST: msg\n",
      "2023-04-05 17:43:33,244 [INFO] [MainProcess] [Thread-25] [358232672] [dummy_func] [3] TEST: msg\n",
      "2023-04-05 17:43:33,251 [INFO] [MainProcess] [Thread-26] [358232672] [dummy_func] [3] TEST: msg\n",
      "2023-04-05 17:43:33,258 [INFO] [MainProcess] [Thread-27] [358232672] [dummy_func] [3] TEST: msg\n",
      "2023-04-05 17:43:34,248 [INFO] [MainProcess] [Thread-25] [358232672] [dummy_func] [3] TEST: msg\n",
      "2023-04-05 17:43:34,253 [INFO] [MainProcess] [Thread-26] [358232672] [dummy_func] [3] TEST: msg\n",
      "2023-04-05 17:43:34,262 [INFO] [MainProcess] [Thread-27] [358232672] [dummy_func] [3] TEST: msg\n",
      "2023-04-05 17:43:35,253 [INFO] [MainProcess] [Thread-25] [358232672] [dummy_func] [3] TEST: msg\n",
      "2023-04-05 17:43:35,254 [INFO] [MainProcess] [Thread-26] [358232672] [dummy_func] [3] TEST: msg\n",
      "2023-04-05 17:43:35,271 [INFO] [MainProcess] [Thread-27] [358232672] [dummy_func] [3] TEST: msg\n",
      "2023-04-05 17:43:36,256 [INFO] [MainProcess] [Thread-25] [358232672] [dummy_func] [3] TEST: msg\n",
      "2023-04-05 17:43:36,260 [INFO] [MainProcess] [Thread-26] [358232672] [dummy_func] [3] TEST: msg\n",
      "2023-04-05 17:43:36,277 [INFO] [MainProcess] [Thread-27] [358232672] [dummy_func] [3] TEST: msg\n",
      "2023-04-05 17:43:37,262 [INFO] [MainProcess] [Thread-25] [358232672] [dummy_func] [3] TEST: msg\n",
      "2023-04-05 17:43:37,263 [INFO] [MainProcess] [Thread-26] [358232672] [dummy_func] [3] TEST: msg\n",
      "2023-04-05 17:43:37,290 [INFO] [MainProcess] [Thread-27] [358232672] [dummy_func] [3] TEST: msg\n",
      "2023-04-05 17:43:38,264 [INFO] [MainProcess] [Thread-25] [358232672] [dummy_func] [3] TEST: msg\n",
      "2023-04-05 17:43:38,265 [INFO] [MainProcess] [Thread-26] [358232672] [dummy_func] [3] TEST: msg\n",
      "2023-04-05 17:43:38,292 [INFO] [MainProcess] [Thread-27] [358232672] [dummy_func] [3] TEST: msg\n",
      "2023-04-05 17:43:39,267 [INFO] [MainProcess] [Thread-25] [358232672] [dummy_func] [3] TEST: msg\n",
      "2023-04-05 17:43:39,269 [INFO] [MainProcess] [Thread-26] [358232672] [dummy_func] [3] TEST: msg\n",
      "2023-04-05 17:43:39,294 [INFO] [MainProcess] [Thread-27] [358232672] [dummy_func] [3] TEST: msg\n",
      "2023-04-05 17:43:40,272 [INFO] [MainProcess] [Thread-25] [358232672] [dummy_func] [3] TEST: msg\n",
      "2023-04-05 17:43:40,274 [INFO] [MainProcess] [Thread-26] [358232672] [dummy_func] [3] TEST: msg\n",
      "2023-04-05 17:43:40,301 [INFO] [MainProcess] [Thread-27] [358232672] [dummy_func] [3] TEST: msg\n",
      "2023-04-05 17:43:41,276 [INFO] [MainProcess] [Thread-25] [358232672] [dummy_func] [3] TEST: msg\n",
      "2023-04-05 17:43:41,277 [INFO] [MainProcess] [Thread-26] [358232672] [dummy_func] [3] TEST: msg\n",
      "2023-04-05 17:43:41,311 [INFO] [MainProcess] [Thread-27] [358232672] [dummy_func] [3] TEST: msg\n",
      "2023-04-05 17:43:42,279 [INFO] [MainProcess] [Thread-25] [358232672] [dummy_func] [3] TEST: msg\n",
      "2023-04-05 17:43:42,280 [INFO] [MainProcess] [Thread-26] [358232672] [dummy_func] [3] TEST: msg\n",
      "2023-04-05 17:43:42,318 [INFO] [MainProcess] [Thread-27] [358232672] [dummy_func] [3] TEST: msg\n",
      "2023-04-05 17:43:43,281 [INFO] [MainProcess] [Thread-25] [358232672] [dummy_func] [3] TEST: msg\n",
      "2023-04-05 17:43:43,283 [INFO] [MainProcess] [Thread-26] [358232672] [dummy_func] [3] TEST: msg\n",
      "2023-04-05 17:43:43,322 [INFO] [MainProcess] [Thread-27] [358232672] [dummy_func] [3] TEST: msg\n",
      "2023-04-05 17:43:44,287 [INFO] [MainProcess] [Thread-25] [358232672] [dummy_func] [3] TEST: msg\n",
      "2023-04-05 17:43:44,287 [INFO] [MainProcess] [Thread-26] [358232672] [dummy_func] [3] TEST: msg\n",
      "2023-04-05 17:43:44,327 [INFO] [MainProcess] [Thread-27] [358232672] [dummy_func] [3] TEST: msg\n",
      "2023-04-05 17:43:45,289 [INFO] [MainProcess] [Thread-25] [358232672] [dummy_func] [3] TEST: msg\n",
      "2023-04-05 17:43:45,295 [INFO] [MainProcess] [Thread-26] [358232672] [dummy_func] [3] TEST: msg\n",
      "2023-04-05 17:43:45,332 [INFO] [MainProcess] [Thread-27] [358232672] [dummy_func] [3] TEST: msg\n",
      "2023-04-05 17:43:46,290 [INFO] [MainProcess] [Thread-25] [358232672] [dummy_func] [3] TEST: msg\n",
      "2023-04-05 17:43:46,298 [INFO] [MainProcess] [Thread-26] [358232672] [dummy_func] [3] TEST: msg\n",
      "2023-04-05 17:43:46,340 [INFO] [MainProcess] [Thread-27] [358232672] [dummy_func] [3] TEST: msg\n",
      "2023-04-05 17:43:47,295 [INFO] [MainProcess] [Thread-25] [358232672] [dummy_func] [3] TEST: msg\n",
      "2023-04-05 17:43:47,300 [INFO] [MainProcess] [Thread-26] [358232672] [dummy_func] [3] TEST: msg\n",
      "2023-04-05 17:43:47,344 [INFO] [MainProcess] [Thread-27] [358232672] [dummy_func] [3] TEST: msg\n",
      "2023-04-05 17:43:48,299 [INFO] [MainProcess] [Thread-25] [358232672] [dummy_func] [3] TEST: msg\n",
      "2023-04-05 17:43:48,303 [INFO] [MainProcess] [Thread-26] [358232672] [dummy_func] [3] TEST: msg\n",
      "2023-04-05 17:43:48,349 [INFO] [MainProcess] [Thread-27] [358232672] [dummy_func] [3] TEST: msg\n",
      "2023-04-05 17:43:49,302 [INFO] [MainProcess] [Thread-25] [358232672] [dummy_func] [3] TEST: msg\n",
      "2023-04-05 17:43:49,305 [INFO] [MainProcess] [Thread-26] [358232672] [dummy_func] [3] TEST: msg\n",
      "2023-04-05 17:43:49,355 [INFO] [MainProcess] [Thread-27] [358232672] [dummy_func] [3] TEST: msg\n",
      "2023-04-05 17:43:50,306 [INFO] [MainProcess] [Thread-25] [358232672] [dummy_func] [3] TEST: msg\n",
      "2023-04-05 17:43:50,312 [INFO] [MainProcess] [Thread-26] [358232672] [dummy_func] [3] TEST: msg\n",
      "2023-04-05 17:43:50,362 [INFO] [MainProcess] [Thread-27] [358232672] [dummy_func] [3] TEST: msg\n",
      "2023-04-05 17:43:51,312 [INFO] [MainProcess] [Thread-25] [358232672] [dummy_func] [3] TEST: msg\n",
      "2023-04-05 17:43:51,313 [INFO] [MainProcess] [Thread-26] [358232672] [dummy_func] [3] TEST: msg\n",
      "2023-04-05 17:43:51,366 [INFO] [MainProcess] [Thread-27] [358232672] [dummy_func] [3] TEST: msg\n",
      "2023-04-05 17:43:52,319 [INFO] [MainProcess] [Thread-25] [358232672] [dummy_func] [3] TEST: msg\n",
      "2023-04-05 17:43:52,320 [INFO] [MainProcess] [Thread-26] [358232672] [dummy_func] [3] TEST: msg\n",
      "2023-04-05 17:43:52,371 [INFO] [MainProcess] [Thread-27] [358232672] [dummy_func] [3] TEST: msg\n",
      "2023-04-05 17:43:53,324 [INFO] [MainProcess] [Thread-25] [358232672] [dummy_func] [3] TEST: msg\n",
      "2023-04-05 17:43:53,325 [INFO] [MainProcess] [Thread-26] [358232672] [dummy_func] [3] TEST: msg\n",
      "2023-04-05 17:43:53,378 [INFO] [MainProcess] [Thread-27] [358232672] [dummy_func] [3] TEST: msg\n",
      "2023-04-05 17:43:54,328 [INFO] [MainProcess] [Thread-25] [358232672] [dummy_func] [3] TEST: msg\n",
      "2023-04-05 17:43:54,329 [INFO] [MainProcess] [Thread-26] [358232672] [dummy_func] [3] TEST: msg\n",
      "2023-04-05 17:43:54,384 [INFO] [MainProcess] [Thread-27] [358232672] [dummy_func] [3] TEST: msg\n",
      "2023-04-05 17:43:55,332 [INFO] [MainProcess] [Thread-25] [358232672] [dummy_func] [3] TEST: msg\n",
      "2023-04-05 17:43:55,332 [INFO] [MainProcess] [Thread-26] [358232672] [dummy_func] [3] TEST: msg\n",
      "2023-04-05 17:43:55,390 [INFO] [MainProcess] [Thread-27] [358232672] [dummy_func] [3] TEST: msg\n",
      "2023-04-05 17:43:56,336 [INFO] [MainProcess] [Thread-26] [358232672] [dummy_func] [3] TEST: msg\n",
      "2023-04-05 17:43:56,337 [INFO] [MainProcess] [Thread-25] [358232672] [dummy_func] [3] TEST: msg\n",
      "2023-04-05 17:43:56,395 [INFO] [MainProcess] [Thread-27] [358232672] [dummy_func] [3] TEST: msg\n",
      "2023-04-05 17:43:57,341 [INFO] [MainProcess] [Thread-26] [358232672] [dummy_func] [3] TEST: msg\n",
      "2023-04-05 17:43:57,345 [INFO] [MainProcess] [Thread-25] [358232672] [dummy_func] [3] TEST: msg\n",
      "2023-04-05 17:43:57,401 [INFO] [MainProcess] [Thread-27] [358232672] [dummy_func] [3] TEST: msg\n",
      "2023-04-05 17:43:58,348 [INFO] [MainProcess] [Thread-26] [358232672] [dummy_func] [3] TEST: msg\n"
     ]
    },
    {
     "name": "stdout",
     "output_type": "stream",
     "text": [
      "[10, 11, 12, 13, 14, 15, 16, 17, 18, 19, 20, 21, 22, 23, 24, 25, 26, 27, 28, 29, 30, 31, 32, 33, 34, 35, 36, 37, 38, 39, 40, 41, 42, 43, 44, 45, 46, 47, 48, 49, 50, 51, 52, 53, 54, 55, 56, 57, 58, 59, 60, 61, 62, 63, 64, 65, 66, 67, 68, 69, 70, 71, 72, 73, 74, 75, 76, 77, 78, 79, 80, 81, 82, 83, 84, 85, 86, 87, 88, 89, 90, 91, 92, 93, 94, 95, 96, 97, 98, 99, 100, 101, 102, 103, 104, 105, 106, 107, 108, 109]\n",
      "total time taken 34.17786433200013\n"
     ]
    }
   ],
   "source": [
    "# works with python 3.8 ~ ValueError: unsupported pickle protocol: 5\n",
    "start = time.perf_counter()\n",
    "CPU_CNT = mp.cpu_count()\n",
    "print(CPU_CNT)\n",
    "outputs = []\n",
    "cnst_nbr = 10\n",
    "\n",
    "outputs = Parallel(n_jobs=CPU_CNT-1, prefer=\"threads\")(delayed(dummy_func)(ip, cnst_nbr) for ip in inputs)\n",
    "\n",
    "print(outputs)\n",
    "end = time.perf_counter()\n",
    "print(f\"total time taken {end-start}\")"
   ]
  },
  {
   "cell_type": "markdown",
   "id": "f1f6ed61-b8d7-4e8a-a59c-2e990e3b5c6a",
   "metadata": {},
   "source": [
    "## spark"
   ]
  },
  {
   "cell_type": "code",
   "execution_count": 40,
   "id": "80ac9fdf-3e5a-4add-a2bb-c8a14a42ece6",
   "metadata": {},
   "outputs": [],
   "source": [
    "from pyspark import SparkContext, SparkConf\n",
    "from pyspark.sql import SparkSession"
   ]
  },
  {
   "cell_type": "code",
   "execution_count": 41,
   "id": "1ccde2ef-e2a5-4ac8-9d31-40eb3f7763bb",
   "metadata": {},
   "outputs": [],
   "source": [
    "def dummy_func(ip, add_nbr):\n",
    "    log.info(\"msg\")\n",
    "    time.sleep(1)\n",
    "    return ip + add_nbr\n",
    "\n",
    "def chunks_mtdh(l, n):\n",
    "    chunks = []\n",
    "    for i in range(0, len(l), n):\n",
    "        chunks.extend(l[i:i+n])\n",
    "    return chunks"
   ]
  },
  {
   "cell_type": "code",
   "execution_count": 42,
   "id": "94d855f0-5b56-4d9d-a822-9e1aa830ac45",
   "metadata": {},
   "outputs": [
    {
     "name": "stdout",
     "output_type": "stream",
     "text": [
      "[0, 1, 2, 3, 4, 5, 6, 7, 8, 9, 10, 11, 12, 13, 14, 15, 16, 17, 18, 19, 20, 21, 22, 23, 24, 25, 26, 27, 28, 29, 30, 31, 32, 33, 34, 35, 36, 37, 38, 39, 40, 41, 42, 43, 44, 45, 46, 47, 48, 49, 50, 51, 52, 53, 54, 55, 56, 57, 58, 59, 60, 61, 62, 63, 64, 65, 66, 67, 68, 69, 70, 71, 72, 73, 74, 75, 76, 77, 78, 79, 80, 81, 82, 83, 84, 85, 86, 87, 88, 89, 90, 91, 92, 93, 94, 95, 96, 97, 98, 99]\n"
     ]
    }
   ],
   "source": [
    "inputs = [i for i in range(100)]\n",
    "print(inputs)"
   ]
  },
  {
   "cell_type": "code",
   "execution_count": 43,
   "id": "cf73c350-e6dc-4d9a-a814-23c890781b53",
   "metadata": {},
   "outputs": [
    {
     "name": "stderr",
     "output_type": "stream",
     "text": [
      "2023-04-05 17:46:40,101 [INFO] [MainProcess] [MainThread] [2968072285] [dummy_func] [2] TEST: msg\n",
      "2023-04-05 17:46:41,107 [INFO] [MainProcess] [MainThread] [2968072285] [dummy_func] [2] TEST: msg\n",
      "2023-04-05 17:46:42,112 [INFO] [MainProcess] [MainThread] [2968072285] [dummy_func] [2] TEST: msg\n",
      "2023-04-05 17:46:43,115 [INFO] [MainProcess] [MainThread] [2968072285] [dummy_func] [2] TEST: msg\n",
      "2023-04-05 17:46:44,120 [INFO] [MainProcess] [MainThread] [2968072285] [dummy_func] [2] TEST: msg\n",
      "2023-04-05 17:46:45,123 [INFO] [MainProcess] [MainThread] [2968072285] [dummy_func] [2] TEST: msg\n",
      "2023-04-05 17:46:46,124 [INFO] [MainProcess] [MainThread] [2968072285] [dummy_func] [2] TEST: msg\n",
      "2023-04-05 17:46:47,126 [INFO] [MainProcess] [MainThread] [2968072285] [dummy_func] [2] TEST: msg\n",
      "2023-04-05 17:46:48,132 [INFO] [MainProcess] [MainThread] [2968072285] [dummy_func] [2] TEST: msg\n",
      "2023-04-05 17:46:49,137 [INFO] [MainProcess] [MainThread] [2968072285] [dummy_func] [2] TEST: msg\n",
      "2023-04-05 17:46:50,142 [INFO] [MainProcess] [MainThread] [2968072285] [dummy_func] [2] TEST: msg\n",
      "2023-04-05 17:46:51,146 [INFO] [MainProcess] [MainThread] [2968072285] [dummy_func] [2] TEST: msg\n",
      "2023-04-05 17:46:52,152 [INFO] [MainProcess] [MainThread] [2968072285] [dummy_func] [2] TEST: msg\n",
      "2023-04-05 17:46:53,155 [INFO] [MainProcess] [MainThread] [2968072285] [dummy_func] [2] TEST: msg\n",
      "2023-04-05 17:46:54,160 [INFO] [MainProcess] [MainThread] [2968072285] [dummy_func] [2] TEST: msg\n",
      "2023-04-05 17:46:55,166 [INFO] [MainProcess] [MainThread] [2968072285] [dummy_func] [2] TEST: msg\n",
      "2023-04-05 17:46:56,170 [INFO] [MainProcess] [MainThread] [2968072285] [dummy_func] [2] TEST: msg\n",
      "2023-04-05 17:46:57,179 [INFO] [MainProcess] [MainThread] [2968072285] [dummy_func] [2] TEST: msg\n",
      "2023-04-05 17:46:58,180 [INFO] [MainProcess] [MainThread] [2968072285] [dummy_func] [2] TEST: msg\n",
      "2023-04-05 17:46:59,193 [INFO] [MainProcess] [MainThread] [2968072285] [dummy_func] [2] TEST: msg\n",
      "2023-04-05 17:47:00,198 [INFO] [MainProcess] [MainThread] [2968072285] [dummy_func] [2] TEST: msg\n",
      "2023-04-05 17:47:01,203 [INFO] [MainProcess] [MainThread] [2968072285] [dummy_func] [2] TEST: msg\n",
      "2023-04-05 17:47:02,207 [INFO] [MainProcess] [MainThread] [2968072285] [dummy_func] [2] TEST: msg\n",
      "2023-04-05 17:47:03,212 [INFO] [MainProcess] [MainThread] [2968072285] [dummy_func] [2] TEST: msg\n",
      "2023-04-05 17:47:04,216 [INFO] [MainProcess] [MainThread] [2968072285] [dummy_func] [2] TEST: msg\n",
      "2023-04-05 17:47:05,220 [INFO] [MainProcess] [MainThread] [2968072285] [dummy_func] [2] TEST: msg\n",
      "2023-04-05 17:47:06,225 [INFO] [MainProcess] [MainThread] [2968072285] [dummy_func] [2] TEST: msg\n",
      "2023-04-05 17:47:07,231 [INFO] [MainProcess] [MainThread] [2968072285] [dummy_func] [2] TEST: msg\n",
      "2023-04-05 17:47:08,234 [INFO] [MainProcess] [MainThread] [2968072285] [dummy_func] [2] TEST: msg\n",
      "2023-04-05 17:47:09,236 [INFO] [MainProcess] [MainThread] [2968072285] [dummy_func] [2] TEST: msg\n",
      "2023-04-05 17:47:10,241 [INFO] [MainProcess] [MainThread] [2968072285] [dummy_func] [2] TEST: msg\n",
      "2023-04-05 17:47:11,243 [INFO] [MainProcess] [MainThread] [2968072285] [dummy_func] [2] TEST: msg\n",
      "2023-04-05 17:47:12,247 [INFO] [MainProcess] [MainThread] [2968072285] [dummy_func] [2] TEST: msg\n",
      "2023-04-05 17:47:13,252 [INFO] [MainProcess] [MainThread] [2968072285] [dummy_func] [2] TEST: msg\n",
      "2023-04-05 17:47:14,254 [INFO] [MainProcess] [MainThread] [2968072285] [dummy_func] [2] TEST: msg\n",
      "2023-04-05 17:47:15,261 [INFO] [MainProcess] [MainThread] [2968072285] [dummy_func] [2] TEST: msg\n",
      "2023-04-05 17:47:16,266 [INFO] [MainProcess] [MainThread] [2968072285] [dummy_func] [2] TEST: msg\n",
      "2023-04-05 17:47:17,269 [INFO] [MainProcess] [MainThread] [2968072285] [dummy_func] [2] TEST: msg\n",
      "2023-04-05 17:47:18,271 [INFO] [MainProcess] [MainThread] [2968072285] [dummy_func] [2] TEST: msg\n",
      "2023-04-05 17:47:19,275 [INFO] [MainProcess] [MainThread] [2968072285] [dummy_func] [2] TEST: msg\n",
      "2023-04-05 17:47:20,282 [INFO] [MainProcess] [MainThread] [2968072285] [dummy_func] [2] TEST: msg\n",
      "2023-04-05 17:47:21,283 [INFO] [MainProcess] [MainThread] [2968072285] [dummy_func] [2] TEST: msg\n",
      "2023-04-05 17:47:22,285 [INFO] [MainProcess] [MainThread] [2968072285] [dummy_func] [2] TEST: msg\n",
      "2023-04-05 17:47:23,288 [INFO] [MainProcess] [MainThread] [2968072285] [dummy_func] [2] TEST: msg\n",
      "2023-04-05 17:47:24,295 [INFO] [MainProcess] [MainThread] [2968072285] [dummy_func] [2] TEST: msg\n",
      "2023-04-05 17:47:25,302 [INFO] [MainProcess] [MainThread] [2968072285] [dummy_func] [2] TEST: msg\n",
      "2023-04-05 17:47:26,308 [INFO] [MainProcess] [MainThread] [2968072285] [dummy_func] [2] TEST: msg\n",
      "2023-04-05 17:47:27,315 [INFO] [MainProcess] [MainThread] [2968072285] [dummy_func] [2] TEST: msg\n",
      "2023-04-05 17:47:28,316 [INFO] [MainProcess] [MainThread] [2968072285] [dummy_func] [2] TEST: msg\n",
      "2023-04-05 17:47:29,318 [INFO] [MainProcess] [MainThread] [2968072285] [dummy_func] [2] TEST: msg\n",
      "2023-04-05 17:47:30,328 [INFO] [MainProcess] [MainThread] [2968072285] [dummy_func] [2] TEST: msg\n",
      "2023-04-05 17:47:31,367 [INFO] [MainProcess] [MainThread] [2968072285] [dummy_func] [2] TEST: msg\n",
      "2023-04-05 17:47:32,372 [INFO] [MainProcess] [MainThread] [2968072285] [dummy_func] [2] TEST: msg\n",
      "2023-04-05 17:47:33,377 [INFO] [MainProcess] [MainThread] [2968072285] [dummy_func] [2] TEST: msg\n",
      "2023-04-05 17:47:34,389 [INFO] [MainProcess] [MainThread] [2968072285] [dummy_func] [2] TEST: msg\n",
      "2023-04-05 17:47:35,394 [INFO] [MainProcess] [MainThread] [2968072285] [dummy_func] [2] TEST: msg\n",
      "2023-04-05 17:47:36,398 [INFO] [MainProcess] [MainThread] [2968072285] [dummy_func] [2] TEST: msg\n",
      "2023-04-05 17:47:37,403 [INFO] [MainProcess] [MainThread] [2968072285] [dummy_func] [2] TEST: msg\n",
      "2023-04-05 17:47:38,404 [INFO] [MainProcess] [MainThread] [2968072285] [dummy_func] [2] TEST: msg\n",
      "2023-04-05 17:47:39,412 [INFO] [MainProcess] [MainThread] [2968072285] [dummy_func] [2] TEST: msg\n",
      "2023-04-05 17:47:40,418 [INFO] [MainProcess] [MainThread] [2968072285] [dummy_func] [2] TEST: msg\n",
      "2023-04-05 17:47:41,419 [INFO] [MainProcess] [MainThread] [2968072285] [dummy_func] [2] TEST: msg\n",
      "2023-04-05 17:47:42,424 [INFO] [MainProcess] [MainThread] [2968072285] [dummy_func] [2] TEST: msg\n",
      "2023-04-05 17:47:43,427 [INFO] [MainProcess] [MainThread] [2968072285] [dummy_func] [2] TEST: msg\n",
      "2023-04-05 17:47:44,433 [INFO] [MainProcess] [MainThread] [2968072285] [dummy_func] [2] TEST: msg\n",
      "2023-04-05 17:47:45,437 [INFO] [MainProcess] [MainThread] [2968072285] [dummy_func] [2] TEST: msg\n",
      "2023-04-05 17:47:46,443 [INFO] [MainProcess] [MainThread] [2968072285] [dummy_func] [2] TEST: msg\n",
      "2023-04-05 17:47:47,450 [INFO] [MainProcess] [MainThread] [2968072285] [dummy_func] [2] TEST: msg\n",
      "2023-04-05 17:47:48,453 [INFO] [MainProcess] [MainThread] [2968072285] [dummy_func] [2] TEST: msg\n",
      "2023-04-05 17:47:49,457 [INFO] [MainProcess] [MainThread] [2968072285] [dummy_func] [2] TEST: msg\n",
      "2023-04-05 17:47:50,461 [INFO] [MainProcess] [MainThread] [2968072285] [dummy_func] [2] TEST: msg\n",
      "2023-04-05 17:47:51,468 [INFO] [MainProcess] [MainThread] [2968072285] [dummy_func] [2] TEST: msg\n",
      "2023-04-05 17:47:52,472 [INFO] [MainProcess] [MainThread] [2968072285] [dummy_func] [2] TEST: msg\n",
      "2023-04-05 17:47:53,476 [INFO] [MainProcess] [MainThread] [2968072285] [dummy_func] [2] TEST: msg\n",
      "2023-04-05 17:47:54,479 [INFO] [MainProcess] [MainThread] [2968072285] [dummy_func] [2] TEST: msg\n",
      "2023-04-05 17:47:55,480 [INFO] [MainProcess] [MainThread] [2968072285] [dummy_func] [2] TEST: msg\n",
      "2023-04-05 17:47:56,481 [INFO] [MainProcess] [MainThread] [2968072285] [dummy_func] [2] TEST: msg\n",
      "2023-04-05 17:47:57,483 [INFO] [MainProcess] [MainThread] [2968072285] [dummy_func] [2] TEST: msg\n",
      "2023-04-05 17:47:58,490 [INFO] [MainProcess] [MainThread] [2968072285] [dummy_func] [2] TEST: msg\n",
      "2023-04-05 17:47:59,492 [INFO] [MainProcess] [MainThread] [2968072285] [dummy_func] [2] TEST: msg\n",
      "2023-04-05 17:48:00,495 [INFO] [MainProcess] [MainThread] [2968072285] [dummy_func] [2] TEST: msg\n",
      "2023-04-05 17:48:01,500 [INFO] [MainProcess] [MainThread] [2968072285] [dummy_func] [2] TEST: msg\n",
      "2023-04-05 17:48:02,504 [INFO] [MainProcess] [MainThread] [2968072285] [dummy_func] [2] TEST: msg\n",
      "2023-04-05 17:48:03,507 [INFO] [MainProcess] [MainThread] [2968072285] [dummy_func] [2] TEST: msg\n",
      "2023-04-05 17:48:04,510 [INFO] [MainProcess] [MainThread] [2968072285] [dummy_func] [2] TEST: msg\n",
      "2023-04-05 17:48:05,514 [INFO] [MainProcess] [MainThread] [2968072285] [dummy_func] [2] TEST: msg\n",
      "2023-04-05 17:48:06,518 [INFO] [MainProcess] [MainThread] [2968072285] [dummy_func] [2] TEST: msg\n",
      "2023-04-05 17:48:07,524 [INFO] [MainProcess] [MainThread] [2968072285] [dummy_func] [2] TEST: msg\n",
      "2023-04-05 17:48:08,530 [INFO] [MainProcess] [MainThread] [2968072285] [dummy_func] [2] TEST: msg\n",
      "2023-04-05 17:48:09,535 [INFO] [MainProcess] [MainThread] [2968072285] [dummy_func] [2] TEST: msg\n",
      "2023-04-05 17:48:10,536 [INFO] [MainProcess] [MainThread] [2968072285] [dummy_func] [2] TEST: msg\n",
      "2023-04-05 17:48:11,542 [INFO] [MainProcess] [MainThread] [2968072285] [dummy_func] [2] TEST: msg\n",
      "2023-04-05 17:48:12,547 [INFO] [MainProcess] [MainThread] [2968072285] [dummy_func] [2] TEST: msg\n",
      "2023-04-05 17:48:13,555 [INFO] [MainProcess] [MainThread] [2968072285] [dummy_func] [2] TEST: msg\n",
      "2023-04-05 17:48:14,562 [INFO] [MainProcess] [MainThread] [2968072285] [dummy_func] [2] TEST: msg\n",
      "2023-04-05 17:48:15,568 [INFO] [MainProcess] [MainThread] [2968072285] [dummy_func] [2] TEST: msg\n",
      "2023-04-05 17:48:16,570 [INFO] [MainProcess] [MainThread] [2968072285] [dummy_func] [2] TEST: msg\n",
      "2023-04-05 17:48:17,576 [INFO] [MainProcess] [MainThread] [2968072285] [dummy_func] [2] TEST: msg\n",
      "2023-04-05 17:48:18,582 [INFO] [MainProcess] [MainThread] [2968072285] [dummy_func] [2] TEST: msg\n",
      "2023-04-05 17:48:19,585 [INFO] [MainProcess] [MainThread] [2968072285] [dummy_func] [2] TEST: msg\n"
     ]
    },
    {
     "name": "stdout",
     "output_type": "stream",
     "text": [
      "[10, 11, 12, 13, 14, 15, 16, 17, 18, 19, 20, 21, 22, 23, 24, 25, 26, 27, 28, 29, 30, 31, 32, 33, 34, 35, 36, 37, 38, 39, 40, 41, 42, 43, 44, 45, 46, 47, 48, 49, 50, 51, 52, 53, 54, 55, 56, 57, 58, 59, 60, 61, 62, 63, 64, 65, 66, 67, 68, 69, 70, 71, 72, 73, 74, 75, 76, 77, 78, 79, 80, 81, 82, 83, 84, 85, 86, 87, 88, 89, 90, 91, 92, 93, 94, 95, 96, 97, 98, 99, 100, 101, 102, 103, 104, 105, 106, 107, 108, 109]\n",
      "total time taken 100.48428956199996\n"
     ]
    }
   ],
   "source": [
    "start = time.perf_counter()\n",
    "outputs = []\n",
    "cnst_nbr = 10\n",
    "for ip in inputs:\n",
    "    result = dummy_func(ip, cnst_nbr)\n",
    "    outputs.append(result)\n",
    "    \n",
    "print(outputs)\n",
    "end = time.perf_counter()\n",
    "print(f\"total time taken {end-start}\")"
   ]
  },
  {
   "cell_type": "code",
   "execution_count": 44,
   "id": "b03ad7be-7dd0-4b33-adbc-49b68a7808ee",
   "metadata": {},
   "outputs": [],
   "source": [
    "import os\n",
    "os.environ[\"JAVA_HOME\"] = \"/Users/jaydeepchakraborty/JC/Software/jdk-20.jdk/Contents/Home\"\n",
    "os.environ[\"PATH\"] = os.environ.get(\"PATH\", \"\") + \":\" +  os.environ.get(\"JAVA_HOME\", \"\")\n",
    "\n",
    "os.environ[\"SPARK_HOME\"] = \"/Users/jaydeepchakraborty/JC/Software/spark-3.3.2-bin-hadoop3\"\n",
    "os.environ[\"PATH\"] = os.environ.get(\"PATH\", \"\") + \":\" +  os.environ.get(\"SPARK_HOME\", \"\")\n",
    "\n",
    "os.environ[\"HADOOP_HOME\"] = \"/Users/jaydeepchakraborty/JC/Software/hadoop-3.3.3/libexec\"\n",
    "os.environ[\"PATH\"] = os.environ.get(\"PATH\", \"\") + \":\" +  os.environ.get(\"HADOOP_HOME\", \"\")"
   ]
  },
  {
   "cell_type": "code",
   "execution_count": 45,
   "id": "07661fe6-f6ec-4dbb-958c-d3a569a29468",
   "metadata": {},
   "outputs": [
    {
     "name": "stderr",
     "output_type": "stream",
     "text": [
      "Setting default log level to \"WARN\".\n",
      "To adjust logging level use sc.setLogLevel(newLevel). For SparkR, use setLogLevel(newLevel).\n"
     ]
    },
    {
     "name": "stdout",
     "output_type": "stream",
     "text": [
      "23/04/05 17:51:02 WARN NativeCodeLoader: Unable to load native-hadoop library for your platform... using builtin-java classes where applicable\n"
     ]
    },
    {
     "name": "stderr",
     "output_type": "stream",
     "text": [
      "[Stage 0:>                                                          (0 + 3) / 3]\r"
     ]
    },
    {
     "name": "stdout",
     "output_type": "stream",
     "text": [
      "23/04/05 17:51:15 WARN GarbageCollectionMetrics: To enable non-built-in garbage collector(s) List(G1 Concurrent GC), users should configure it(them) to spark.eventLog.gcMetrics.youngGenerationGarbageCollectors or spark.eventLog.gcMetrics.oldGenerationGarbageCollectors\n"
     ]
    },
    {
     "name": "stderr",
     "output_type": "stream",
     "text": [
      "[Stage 0:=======================================>                   (2 + 1) / 3]\r"
     ]
    },
    {
     "name": "stdout",
     "output_type": "stream",
     "text": [
      "[10, 11, 12, 13, 14, 15, 16, 17, 18, 19, 20, 21, 22, 23, 24, 25, 26, 27, 28, 29, 30, 31, 32, 33, 34, 35, 36, 37, 38, 39, 40, 41, 42, 43, 44, 45, 46, 47, 48, 49, 50, 51, 52, 53, 54, 55, 56, 57, 58, 59, 60, 61, 62, 63, 64, 65, 66, 67, 68, 69, 70, 71, 72, 73, 74, 75, 76, 77, 78, 79, 80, 81, 82, 83, 84, 85, 86, 87, 88, 89, 90, 91, 92, 93, 94, 95, 96, 97, 98, 99, 100, 101, 102, 103, 104, 105, 106, 107, 108, 109]\n",
      "total time taken 42.39749055099992\n"
     ]
    },
    {
     "name": "stderr",
     "output_type": "stream",
     "text": [
      "                                                                                \r"
     ]
    }
   ],
   "source": [
    "# spark is parallel-processing\n",
    "start = time.perf_counter()\n",
    "outputs = []\n",
    "cnst_nbr = 10\n",
    "\n",
    "CPU_CNT = mp.cpu_count()\n",
    "spark = SparkSession.builder.master(\"local[\"+str(CPU_CNT-1)+\"]\").appName(\"TEST\").getOrCreate()\n",
    "inputs_rdd = spark.sparkContext.parallelize(inputs)\n",
    "\n",
    "outputs = inputs_rdd.map(lambda x : dummy_func(x, cnst_nbr)).collect()\n",
    "print(outputs)\n",
    "end = time.perf_counter()\n",
    "print(f\"total time taken {end-start}\")"
   ]
  },
  {
   "cell_type": "code",
   "execution_count": null,
   "id": "7b2c3d91-0478-48d0-8356-129769ec1605",
   "metadata": {},
   "outputs": [],
   "source": []
  }
 ],
 "metadata": {
  "kernelspec": {
   "display_name": "Python 3 (ipykernel)",
   "language": "python",
   "name": "python3"
  },
  "language_info": {
   "codemirror_mode": {
    "name": "ipython",
    "version": 3
   },
   "file_extension": ".py",
   "mimetype": "text/x-python",
   "name": "python",
   "nbconvert_exporter": "python",
   "pygments_lexer": "ipython3",
   "version": "3.7.4"
  }
 },
 "nbformat": 4,
 "nbformat_minor": 5
}
