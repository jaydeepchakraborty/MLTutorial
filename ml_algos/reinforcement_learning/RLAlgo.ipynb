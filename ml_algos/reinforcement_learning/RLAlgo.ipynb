{
 "cells": [
  {
   "cell_type": "markdown",
   "id": "b6b34be2-1b8a-4ec1-81d0-2ff88a812696",
   "metadata": {},
   "source": [
    "1) Deep Q Network (DQN)"
   ]
  },
  {
   "cell_type": "markdown",
   "id": "9da34b82-aa98-4af0-933d-d73a135fd450",
   "metadata": {},
   "source": [
    "# DQN"
   ]
  },
  {
   "cell_type": "code",
   "execution_count": null,
   "id": "2bb13458-942c-481e-a30e-c26ddbe07916",
   "metadata": {},
   "outputs": [],
   "source": []
  },
  {
   "cell_type": "code",
   "execution_count": null,
   "id": "143f898f-8953-4b4a-bc54-71f77784beba",
   "metadata": {},
   "outputs": [],
   "source": []
  },
  {
   "cell_type": "code",
   "execution_count": null,
   "id": "b8d41ed7-d2df-44f1-8530-a74c8dabb62f",
   "metadata": {},
   "outputs": [],
   "source": []
  },
  {
   "cell_type": "code",
   "execution_count": null,
   "id": "7b76d003-db8f-43f1-87d9-ab5fcc5a74f9",
   "metadata": {},
   "outputs": [],
   "source": []
  },
  {
   "cell_type": "code",
   "execution_count": null,
   "id": "e3b13ea2-4290-42cc-be2a-b538f7fd3c17",
   "metadata": {},
   "outputs": [],
   "source": [
    "# Resources\n",
    "1) https://medium.com/@qempsil0914/zero-to-one-deep-q-learning-part1-basic-introduction-and-implementation-bb7602b55a2c"
   ]
  }
 ],
 "metadata": {
  "kernelspec": {
   "display_name": "Python 3 (ipykernel)",
   "language": "python",
   "name": "python3"
  },
  "language_info": {
   "codemirror_mode": {
    "name": "ipython",
    "version": 3
   },
   "file_extension": ".py",
   "mimetype": "text/x-python",
   "name": "python",
   "nbconvert_exporter": "python",
   "pygments_lexer": "ipython3",
   "version": "3.7.4"
  }
 },
 "nbformat": 4,
 "nbformat_minor": 5
}
