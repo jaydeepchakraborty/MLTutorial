{
  "nbformat": 4,
  "nbformat_minor": 0,
  "metadata": {
    "colab": {
      "name": "GNN_Introduction.ipynb",
      "provenance": [],
      "collapsed_sections": [],
      "authorship_tag": "ABX9TyPIdASrtiodPnbCBc3fkbJ+",
      "include_colab_link": true
    },
    "kernelspec": {
      "name": "python3",
      "display_name": "Python 3"
    },
    "accelerator": "GPU"
  },
  "cells": [
    {
      "cell_type": "markdown",
      "metadata": {
        "id": "view-in-github",
        "colab_type": "text"
      },
      "source": [
        "<a href=\"https://colab.research.google.com/github/jaydeepchakraborty/NLP/blob/master/GNN_Introduction.ipynb\" target=\"_parent\"><img src=\"https://colab.research.google.com/assets/colab-badge.svg\" alt=\"Open In Colab\"/></a>"
      ]
    },
    {
      "cell_type": "markdown",
      "metadata": {
        "id": "RS_o7Car3UcX"
      },
      "source": [
        "<h1>\n",
        "<b>Graph Neural Networks with PyTorch</b>\n",
        "</h1>"
      ]
    },
    {
      "cell_type": "markdown",
      "metadata": {
        "id": "H8GSBYQY47Eo"
      },
      "source": [
        "<h2><b>Graph</b></h2>\n",
        "\n",
        "<ol>\n",
        "  <li>\n",
        "    a graph is a data structure consisting of two components, vertices and edges. A graph G can be well described by the set of vertices V and edges E it contains. G= (V, E)\n",
        "  </li>\n",
        "  <li>\n",
        "    The vertices are often called nodes.\n",
        "  </li>\n",
        "  <li>\n",
        "    Edges can be either directed or undirected, depending on whether there exist directional dependencies between vertices.\n",
        "  </li>\n",
        "</ol>"
      ]
    },
    {
      "cell_type": "markdown",
      "metadata": {
        "id": "DM8_3TxS5Ys3"
      },
      "source": [
        "<h2><b>Framework</b></h2>\n",
        "\n",
        "\n",
        "<ol>\n",
        "  <li>\n",
        "    PyTorch Geometric\n",
        "  </li>\n",
        "  <li>\n",
        "    Deep Graph Library\n",
        "  </li>\n",
        "  <li>\n",
        "    PyTorch BigGraph\n",
        "  </li>\n",
        "</ol>\n",
        "</ol>"
      ]
    },
    {
      "cell_type": "markdown",
      "metadata": {
        "id": "-VHxvW5gb_vV"
      },
      "source": [
        "<h2><b>Categories of Graph Neural Network</b></h2>\n",
        "\n",
        "\n",
        "<ol>\n",
        "  <li>\n",
        "    Graph Convolutional Neural Networks (GCNs)\n",
        "  </li>\n",
        "  <li>\n",
        "    Recurrent Graph Neural Networks (RGNNs)\n",
        "  </li>\n",
        "  <li>\n",
        "    Graph Attention Networks (GANs)\n",
        "  </li>\n",
        "  <li>\n",
        "    Graph Auto-encoders (GAEs)\n",
        "  </li>\n",
        "  <li>\n",
        "    Graph Spatial-temporal Networks (GSTNs) \n",
        "  </li>\n",
        "  <li>\n",
        "    Graph Reinforcement Learning\n",
        "  </li>\n",
        "</ol>\n",
        "</ol>"
      ]
    },
    {
      "cell_type": "markdown",
      "metadata": {
        "id": "uuKg5zA3a3Kg"
      },
      "source": [
        "<h2><b>Applications</b></h2>\n",
        "\n",
        "<ol>\n",
        "  <li>\n",
        "    There are multiple applications of GNN.\n",
        "      <ol>\n",
        "        <li> graph node classification</li>\n",
        "      </ol>\n",
        "  </li>\n",
        "  <li>\n",
        "    \n",
        "  </li>\n",
        "</ol>"
      ]
    },
    {
      "cell_type": "markdown",
      "metadata": {
        "id": "jemRDUpQ7vvg"
      },
      "source": [
        "<h2>Graph Node Classification</h2>\n",
        "<ol>\n",
        "  <li> Training:\n",
        "    <ol>\n",
        "      <li>\n",
        "        every node in the graph is associated with a label\n",
        "      </li>\n",
        "    </ol>\n",
        "  </li>\n",
        "  <li> Testing/Prediction:\n",
        "    <ol>\n",
        "      <li>\n",
        "        we want to predict the label of the nodes without ground-truth. \n",
        "      </li>\n",
        "    </ol>\n",
        "  </li>\n",
        "</ol>"
      ]
    },
    {
      "cell_type": "markdown",
      "metadata": {
        "id": "3ln7Vj_r9P-K"
      },
      "source": [
        "$h_v = f( x_v, x_{co[v]}, h_{ne[v]}, x_{ne[v]})$\n",
        "\n",
        "<ol>\n",
        "  <li>\n",
        "    $h_v$ : It learns to represent each node with a d dimensional vector (state)\n",
        "  </li>\n",
        "  <li>\n",
        "    $x_v$ : feature of node v\n",
        "  </li>\n",
        "  <li>\n",
        "    $x_{co[v]}$ : features of the edges connecting with v\n",
        "  </li>\n",
        "  <li>\n",
        "    $h_{ne[v]}$ : embedding of the neighboring nodes of v\n",
        "  </li>\n",
        "  <li>\n",
        "    $x_{ne[v]}$ : features of the neighboring nodes of v\n",
        "  </li>\n",
        "</ol>\n",
        "\n"
      ]
    },
    {
      "cell_type": "markdown",
      "metadata": {
        "id": "OLfAzJFr3Z-Q"
      },
      "source": [
        "<h3>Resources:</h3>\n",
        "<ol>\n",
        "  <li>\n",
        "    http://www.080910t.com/wp-content/uploads/2019/06/Hands-on-Graph-Neural-Networks-with-PyTorch-PyTorch-Geometric1.pdf\n",
        "  </li>\n",
        "  <li>\n",
        "    https://pytorch-geometric.readthedocs.io/en/latest/notes/colabs.html\n",
        "  </li>\n",
        "</ol>\n"
      ]
    }
  ]
}