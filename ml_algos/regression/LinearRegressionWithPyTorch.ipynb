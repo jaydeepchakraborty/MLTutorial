{
 "cells": [
  {
   "cell_type": "markdown",
   "metadata": {
    "colab_type": "text",
    "id": "view-in-github"
   },
   "source": [
    "<a href=\"https://colab.research.google.com/github/jaydeepchakraborty/NLP/blob/master/Regression/LinearRegressionWithPyTorch.ipynb\" target=\"_parent\"><img src=\"https://colab.research.google.com/assets/colab-badge.svg\" alt=\"Open In Colab\"/></a>"
   ]
  },
  {
   "cell_type": "code",
   "execution_count": 21,
   "metadata": {
    "colab": {
     "base_uri": "https://localhost:8080/"
    },
    "id": "CzKYL8bSZtiG",
    "outputId": "cac25f70-fdec-4966-f382-4250a9b5162b"
   },
   "outputs": [
    {
     "name": "stdout",
     "output_type": "stream",
     "text": [
      "Drive already mounted at /content/drive/; to attempt to forcibly remount, call drive.mount(\"/content/drive/\", force_remount=True).\n"
     ]
    }
   ],
   "source": [
    "from google.colab import drive\n",
    "drive.mount('/content/drive/')\n",
    "DIR='/content/drive/MyDrive/Tutorial/Regression/'"
   ]
  },
  {
   "cell_type": "code",
   "execution_count": 68,
   "metadata": {
    "id": "2TEduvuhhoIe"
   },
   "outputs": [],
   "source": [
    "import numpy as np\n",
    "import torch\n",
    "import torch.nn as nn\n",
    "import torch.nn.functional as F\n",
    "from torch.utils.data import TensorDataset, DataLoader\n",
    "import matplotlib.pyplot as plt\n",
    "%matplotlib inline"
   ]
  },
  {
   "cell_type": "code",
   "execution_count": 23,
   "metadata": {
    "id": "1pTUb2yRo6Uz"
   },
   "outputs": [],
   "source": [
    "def getDataParam():\n",
    "    data_param = {\n",
    "        \"data_fl\": \"data/Illness.csv\",\n",
    "        \"train_test_split_idx\":0.8,\n",
    "        \"batch_size\": 5,\n",
    "        \"num_epochs\": 100,\n",
    "        \"model_path\": \"model/linear_model.pt\"\n",
    "    }\n",
    "    return data_param"
   ]
  },
  {
   "cell_type": "code",
   "execution_count": 24,
   "metadata": {
    "id": "WDplKi3OxH3o"
   },
   "outputs": [],
   "source": [
    "def loadData(data_param):\n",
    "  fl_nm = DIR + data_param[\"data_fl\"]\n",
    "  data = np.genfromtxt(fl_nm, delimiter=',')\n",
    "  print(\"Entire Data Shape: \"+str(data.shape))\n",
    "  return data"
   ]
  },
  {
   "cell_type": "code",
   "execution_count": 25,
   "metadata": {
    "id": "cwL3c0zEkTZR"
   },
   "outputs": [],
   "source": [
    "def splitData(data_param, data):\n",
    "  indices = np.random.permutation(data.shape[0])\n",
    "  split_idx = int(data_param[\"train_test_split_idx\"]*data.shape[0])\n",
    "  train_idx, test_idx = indices[:split_idx], indices[split_idx:]\n",
    "  train_data, test_data = data[train_idx,:], data[test_idx,:]\n",
    "  print(\"Train Data Shape: \"+str(train_data.shape))\n",
    "  print(\"Test Data Shape: \"+str(test_data.shape))\n",
    "  return train_data, test_data"
   ]
  },
  {
   "cell_type": "code",
   "execution_count": 26,
   "metadata": {
    "id": "5T7S78l7vten"
   },
   "outputs": [],
   "source": [
    "def prepareData(data):\n",
    "  inputs, targets = data[:,:-1], data[:,-1]\n",
    "  targets = np.reshape(targets, (targets.shape[0], 1))\n",
    "  inputs = torch.from_numpy(inputs)\n",
    "  targets = torch.from_numpy(targets)\n",
    "  train_ds = TensorDataset(inputs, targets)\n",
    "\n",
    "  return train_ds"
   ]
  },
  {
   "cell_type": "code",
   "execution_count": 79,
   "metadata": {
    "id": "gx1M_wPqrcoh"
   },
   "outputs": [],
   "source": [
    "def plotData(data):\n",
    "  fig = plt.figure()\n",
    "  axs = fig.subplots(1, 2)\n",
    "  col = 0\n",
    "  axs[0].scatter(data[:,col],data[:,-1])\n",
    "  axs[0].set(xlabel=\"Col- \"+str(col), ylabel='Illness')\n",
    "  axs[0].set_title(\"Col-\"+str(col)+\" VS Illness\")\n",
    "\n",
    "  col = 1\n",
    "  axs[1].scatter(data[:,col],data[:,-1])\n",
    "  axs[1].set(xlabel=\"Col- \"+str(col), ylabel='Illness') \n",
    "  axs[1].set_title(\"Col-\"+str(col)+\" VS Illness\")\n",
    "\n",
    "  plt.show()"
   ]
  },
  {
   "cell_type": "code",
   "execution_count": 28,
   "metadata": {
    "id": "dJo7dX4-nl45"
   },
   "outputs": [],
   "source": [
    "class LinearRegressionModel(nn.Module):\n",
    "    def __init__(self, in_size, out_size):\n",
    "       super().__init__()\n",
    "       self.linear = nn.Linear(in_features = in_size, out_features = out_size)\n",
    "\n",
    "    def forward(self, X):\n",
    "        pred = self.linear(X)\n",
    "        return pred"
   ]
  },
  {
   "cell_type": "code",
   "execution_count": 29,
   "metadata": {
    "id": "6wxnvzSOoU7I"
   },
   "outputs": [],
   "source": [
    "def train(data_param, train_ds):\n",
    "\n",
    "  dataiter = iter(train_ds)\n",
    "  input_0, target_0 = next(dataiter)\n",
    "  input_shape = input_0.size()[0]\n",
    "  target_shape = target_0.size()[0]\n",
    "\n",
    "  # Define model\n",
    "  model = LinearRegressionModel(input_shape, target_shape)\n",
    "  \n",
    "  #Define the loss function\n",
    "  loss_fun = F.mse_loss\n",
    "\n",
    "  # Define SGD optimizer with learning rate 1e-5\n",
    "  optimizer = torch.optim.SGD(model.parameters(), lr=1e-3)\n",
    "\n",
    "  train_dl = DataLoader(train_ds, data_param[\"batch_size\"], shuffle=True)\n",
    "\n",
    "  # Repeat for given number of epochs\n",
    "  for epoch in range(data_param[\"num_epochs\"]):\n",
    "      # Train with batches of data\n",
    "      for xb,yb in train_dl:\n",
    "\n",
    "          # 1. Generate predictions\n",
    "          pred = model(xb.float())\n",
    "\n",
    "          # 2. Calculate loss\n",
    "          loss = loss_fun(pred.float(), yb.float())\n",
    "          \n",
    "          # 3. Compute gradients\n",
    "          loss.backward()\n",
    "          \n",
    "          # 4. Update parameters using gradients\n",
    "          optimizer.step()\n",
    "          \n",
    "          # 5. Reset the gradients to zero\n",
    "          optimizer.zero_grad()\n",
    "      \n",
    "      # Print the progress\n",
    "      if (epoch+1) % 10 == 0:\n",
    "          print('Epoch [{}/{}], Loss: {:.10f}'.format(epoch+1, data_param[\"num_epochs\"], loss.item()))\n",
    "\n",
    "  return model"
   ]
  },
  {
   "cell_type": "code",
   "execution_count": 35,
   "metadata": {
    "id": "fLo9qYk--Ijo"
   },
   "outputs": [],
   "source": [
    "def save_model(model, data_param):\n",
    "  torch.save(model.state_dict(), DIR+data_param[\"model_path\"])"
   ]
  },
  {
   "cell_type": "code",
   "execution_count": 48,
   "metadata": {
    "id": "LOf8p1btB50_"
   },
   "outputs": [],
   "source": [
    "def load_model(data_param, test_ds):\n",
    "  \n",
    "  dataiter = iter(test_ds)\n",
    "  input_0, target_0 = next(dataiter)\n",
    "  input_shape = input_0.size()[0]\n",
    "  target_shape = target_0.size()[0]\n",
    "  model = LinearRegressionModel(input_shape, target_shape)\n",
    "  model.load_state_dict(torch.load(DIR+data_param[\"model_path\"]))\n",
    "  model = model.float()\n",
    "  model.eval()\n",
    "\n",
    "  return model"
   ]
  },
  {
   "cell_type": "code",
   "execution_count": 62,
   "metadata": {
    "id": "E405ngMdDflO"
   },
   "outputs": [],
   "source": [
    "def test(test_dl, lin_model_test):\n",
    "  output = [] #blank numpy array\n",
    "  for xb,yb in test_dl:\n",
    "    pred = lin_model_test(xb.float())\n",
    "    output.append([pred.data, yb.data])\n",
    "\n",
    "  return np.asarray(output)"
   ]
  },
  {
   "cell_type": "code",
   "execution_count": 84,
   "metadata": {
    "id": "9n3T5rA8GUO_"
   },
   "outputs": [],
   "source": [
    "def plot_result(pred_op):\n",
    "  pred_vals = pred_op[:,0]\n",
    "  actual_vals = pred_op[:,1]\n",
    "  plt.figure()\n",
    "  plt.plot(pred_vals, 'r-.')\n",
    "  plt.plot(actual_vals, 'b-.')"
   ]
  },
  {
   "cell_type": "code",
   "execution_count": 85,
   "metadata": {
    "colab": {
     "base_uri": "https://localhost:8080/",
     "height": 798
    },
    "id": "4rzDOj5vhcgA",
    "outputId": "2ead1010-ce05-4660-c49e-b57759526b18"
   },
   "outputs": [
    {
     "name": "stdout",
     "output_type": "stream",
     "text": [
      "#################### Linear Regression with PyTorch START ####################\n",
      "Entire Data Shape: (53, 3)\n",
      "Train Data Shape: (42, 3)\n",
      "Test Data Shape: (11, 3)\n",
      "Epoch [10/100], Loss: 61.7422676086\n",
      "Epoch [20/100], Loss: 179.9400024414\n",
      "Epoch [30/100], Loss: 114.3090896606\n",
      "Epoch [40/100], Loss: 15.5429000854\n",
      "Epoch [50/100], Loss: 39.0652503967\n",
      "Epoch [60/100], Loss: 51.1541938782\n",
      "Epoch [70/100], Loss: 112.1704635620\n",
      "Epoch [80/100], Loss: 29.8312530518\n",
      "Epoch [90/100], Loss: 662.6726074219\n",
      "Epoch [100/100], Loss: 94.4486541748\n",
      "#################### Linear Regression with PyTorch FINISH ####################\n"
     ]
    },
    {
     "data": {
      "image/png": "[encoded data removed]",
      "text/plain": [
       "<Figure size 432x288 with 2 Axes>"
      ]
     },
     "metadata": {
      "needs_background": "light",
      "tags": []
     },
     "output_type": "display_data"
    },
    {
     "data": {
      "image/png": "[encoded data removed]",
      "text/plain": [
       "<Figure size 432x288 with 1 Axes>"
      ]
     },
     "metadata": {
      "needs_background": "light",
      "tags": []
     },
     "output_type": "display_data"
    }
   ],
   "source": [
    "if __name__==\"__main__\":\n",
    "  try:\n",
    "    print(\"#################### Linear Regression with PyTorch START ####################\")\n",
    "    #loding basic parameter\n",
    "    data_param = getDataParam()\n",
    "\n",
    "    #loding the entire dataset\n",
    "    data = loadData(data_param)\n",
    "\n",
    "    #plotting the data to check linearity\n",
    "    plotData(data)\n",
    "\n",
    "    #splitting the entir data into training and testing data\n",
    "    train_data, test_data = splitData(data_param, data)\n",
    "\n",
    "    # plotData(train_data)\n",
    "    \n",
    "    #prepare the training data\n",
    "    train_ds = prepareData(train_data)\n",
    "\n",
    "    #training\n",
    "    lin_model_train = train(data_param, train_ds)\n",
    "\n",
    "    #saving the model\n",
    "    save_model(lin_model_train, data_param)\n",
    "\n",
    "    #prepare the testing data\n",
    "    test_ds = prepareData(test_data)\n",
    "\n",
    "    #load the model\n",
    "    lin_model_test = load_model(data_param, test_ds)\n",
    "\n",
    "    #testing\n",
    "    pred_op = test(test_ds, lin_model_test)\n",
    "\n",
    "    #plot output\n",
    "    plot_result(pred_op)\n",
    "\n",
    "  except Exception as exp:\n",
    "        raise exp\n",
    "  finally:\n",
    "        print(\"#################### Linear Regression with PyTorch FINISH ####################\")"
   ]
  },
  {
   "cell_type": "markdown",
   "metadata": {
    "id": "m7_hJH6qZ3rf"
   },
   "source": [
    "**Resources**\n",
    "\n",
    "\n",
    "1.   https://medium.com/analytics-vidhya/linear-regression-with-pytorch-147fed55f138\n",
    "\n"
   ]
  }
 ],
 "metadata": {
  "colab": {
   "authorship_tag": "ABX9TyPKSYdLhvY/4nIz234vuSQj",
   "collapsed_sections": [],
   "include_colab_link": true,
   "name": "LinearRegressionWithPyTorch.ipynb",
   "provenance": []
  },
  "kernelspec": {
   "display_name": "Python 3 (ipykernel)",
   "language": "python",
   "name": "python3"
  },
  "language_info": {
   "codemirror_mode": {
    "name": "ipython",
    "version": 3
   },
   "file_extension": ".py",
   "mimetype": "text/x-python",
   "name": "python",
   "nbconvert_exporter": "python",
   "pygments_lexer": "ipython3",
   "version": "3.7.4"
  }
 },
 "nbformat": 4,
 "nbformat_minor": 4
}
