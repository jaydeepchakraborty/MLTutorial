{
 "cells": [
  {
   "cell_type": "code",
   "execution_count": 1,
   "id": "8c3f084b-b310-4771-ac7c-ca705f9be75f",
   "metadata": {},
   "outputs": [],
   "source": [
    "import pandas as pd\n",
    "import numpy as np\n",
    "\n",
    "import seaborn as sb\n",
    "import matplotlib.pyplot as plt\n",
    "import shap\n",
    "\n",
    "from econml.dml import DML\n",
    "from econml.dr import DRLearner\n",
    "from econml.metalearners import TLearner, SLearner, XLearner, DomainAdaptationLearner\n",
    "from econml.inference import BootstrapInference\n",
    "\n",
    "from sklearn.ensemble import RandomForestRegressor, RandomForestClassifier, GradientBoostingRegressor, GradientBoostingClassifier, HistGradientBoostingRegressor, HistGradientBoostingClassifier\n",
    "from sklearn.linear_model import ElasticNetCV\n",
    "from sklearn.model_selection import GridSearchCV"
   ]
  },
  {
   "cell_type": "code",
   "execution_count": 2,
   "id": "d33a88b7-f20b-415b-bffb-55a917a454cb",
   "metadata": {},
   "outputs": [],
   "source": [
    "sales_df_train = pd.read_csv(\"/Users/jaydeepchakraborty/JC/git-projects/model_util/DataSets/walmart_sale_challenge/train.csv\")\n",
    "sales_df_test = pd.read_csv(\"/Users/jaydeepchakraborty/JC/git-projects/model_util/DataSets/walmart_sale_challenge/test.csv\")"
   ]
  },
  {
   "cell_type": "code",
   "execution_count": 3,
   "id": "29af33f5-1d13-41c5-bd28-0522650d6bf7",
   "metadata": {},
   "outputs": [
    {
     "name": "stdout",
     "output_type": "stream",
     "text": [
      "(282451, 16) (139119, 15)\n"
     ]
    }
   ],
   "source": [
    "print(sales_df_train.shape, sales_df_test.shape)"
   ]
  },
  {
   "cell_type": "code",
   "execution_count": 4,
   "id": "b09a5e31-a21f-4dcb-90d2-f4e5286d1556",
   "metadata": {},
   "outputs": [
    {
     "name": "stdout",
     "output_type": "stream",
     "text": [
      "<class 'pandas.core.frame.DataFrame'>\n",
      "RangeIndex: 282451 entries, 0 to 282450\n",
      "Data columns (total 16 columns):\n",
      " #   Column        Non-Null Count   Dtype  \n",
      "---  ------        --------------   -----  \n",
      " 0   Store         282451 non-null  int64  \n",
      " 1   Dept          282451 non-null  int64  \n",
      " 2   Date          282451 non-null  object \n",
      " 3   Weekly_Sales  282451 non-null  float64\n",
      " 4   IsHoliday     282451 non-null  bool   \n",
      " 5   Temperature   282451 non-null  float64\n",
      " 6   Fuel_Price    282451 non-null  float64\n",
      " 7   MarkDown1     100520 non-null  float64\n",
      " 8   MarkDown2     74232 non-null   float64\n",
      " 9   MarkDown3     91521 non-null   float64\n",
      " 10  MarkDown4     90031 non-null   float64\n",
      " 11  MarkDown5     101029 non-null  float64\n",
      " 12  CPI           282451 non-null  float64\n",
      " 13  Unemployment  282451 non-null  float64\n",
      " 14  Type          282451 non-null  object \n",
      " 15  Size          282451 non-null  int64  \n",
      "dtypes: bool(1), float64(10), int64(3), object(2)\n",
      "memory usage: 32.6+ MB\n"
     ]
    }
   ],
   "source": [
    "sales_df_train.info()"
   ]
  },
  {
   "cell_type": "code",
   "execution_count": 5,
   "id": "921f2901-97aa-4161-a0ec-f516655c106f",
   "metadata": {},
   "outputs": [],
   "source": [
    "# Applying the condition\n",
    "sales_df_train['Type'].mask(sales_df_train['Type'] == 'A', 0, inplace=True)\n",
    "sales_df_train['Type'].mask(sales_df_train['Type'] == 'B', 1, inplace=True)\n",
    "sales_df_train['Type'].mask(sales_df_train['Type'] == 'C', 2, inplace=True)\n",
    "\n",
    "sales_df_test['Type'].mask(sales_df_test['Type'] == 'A', 0, inplace=True)\n",
    "sales_df_test['Type'].mask(sales_df_test['Type'] == 'B', 1, inplace=True)\n",
    "sales_df_test['Type'].mask(sales_df_test['Type'] == 'C', 2, inplace=True)\n",
    "\n",
    "\n",
    "# Applying the condition\n",
    "sales_df_train['IsHoliday'].mask(sales_df_train['IsHoliday'] == True, 0, inplace=True)\n",
    "sales_df_train['IsHoliday'].mask(sales_df_train['IsHoliday'] == False, 1, inplace=True)\n",
    "\n",
    "sales_df_test['IsHoliday'].mask(sales_df_test['IsHoliday'] == True, 0, inplace=True)\n",
    "sales_df_test['IsHoliday'].mask(sales_df_test['IsHoliday'] == False, 1, inplace=True)"
   ]
  },
  {
   "cell_type": "code",
   "execution_count": 6,
   "id": "c8633bdd-79a9-4835-9ff3-79dca76982fe",
   "metadata": {},
   "outputs": [
    {
     "name": "stdout",
     "output_type": "stream",
     "text": [
      "Store int64\n",
      "Dept int64\n",
      "Date object\n",
      "Weekly_Sales float64\n",
      "IsHoliday object\n",
      "Temperature float64\n",
      "Fuel_Price float64\n",
      "MarkDown1 float64\n",
      "MarkDown2 float64\n",
      "MarkDown3 float64\n",
      "MarkDown4 float64\n",
      "MarkDown5 float64\n",
      "CPI float64\n",
      "Unemployment float64\n",
      "Type object\n",
      "Size int64\n"
     ]
    }
   ],
   "source": [
    "# checking which columns are datatype ~ Object\n",
    "for col_nm in sales_df_train.columns:\n",
    "    print(col_nm, sales_df_train[col_nm].dtype)"
   ]
  },
  {
   "cell_type": "code",
   "execution_count": 7,
   "id": "1ce023d3-1016-4d59-b687-947dcb50b779",
   "metadata": {},
   "outputs": [],
   "source": [
    "dml_train_Y = sales_df_train['Weekly_Sales']\n",
    "dml_train_T = sales_df_train['Type']\n",
    "dml_train_W = None\n",
    "dml_train_Z = None\n",
    "dml_train_X = sales_df_train[['Dept', 'IsHoliday', 'Temperature', 'Fuel_Price', 'CPI']]\n",
    "cat_cols_name = [0, 1] # ['Dept', 'IsHoliday']"
   ]
  },
  {
   "cell_type": "code",
   "execution_count": 8,
   "id": "5ce28710-868f-4d86-aa27-d103f71304b0",
   "metadata": {},
   "outputs": [],
   "source": [
    "dml_est = DML(\n",
    "                model_y = HistGradientBoostingRegressor(random_state=42, categorical_features=cat_cols_name),\n",
    "                model_t = HistGradientBoostingClassifier(random_state=42, categorical_features=cat_cols_name),\n",
    "                model_final = ElasticNetCV(fit_intercept=False),\n",
    "                discrete_treatment=True\n",
    "            )"
   ]
  },
  {
   "cell_type": "code",
   "execution_count": 9,
   "id": "0516aed6-e6b0-4bef-a9e3-c485b0ed68fb",
   "metadata": {},
   "outputs": [
    {
     "data": {
      "text/plain": [
       "<econml.dml.dml.DML at 0x7ff05ce20350>"
      ]
     },
     "execution_count": 9,
     "metadata": {},
     "output_type": "execute_result"
    }
   ],
   "source": [
    "dml_est.fit(dml_train_Y, dml_train_T, X=dml_train_X, W=dml_train_W)"
   ]
  },
  {
   "cell_type": "code",
   "execution_count": 10,
   "id": "896b5b82-c8cb-4b33-8d09-c9d6722e1b88",
   "metadata": {},
   "outputs": [
    {
     "name": "stderr",
     "output_type": "stream",
     "text": [
      "Final model doesn't have a `coef_stderr_` and `intercept_stderr_` attributes, only point estimates will be available.\n",
      "Final model doesn't have a `coef_stderr_` and `intercept_stderr_` attributes, only point estimates will be available.\n"
     ]
    },
    {
     "data": {
      "text/html": [
       "<table class=\"simpletable\">\n",
       "<caption>Coefficient Results</caption>\n",
       "<tr>\n",
       "           <td></td>          <th>point_estimate</th>\n",
       "</tr>\n",
       "<tr>\n",
       "  <th>Dept|Type_1</th>           <td>-118.879</td>   \n",
       "</tr>\n",
       "<tr>\n",
       "  <th>Dept|Type_2</th>            <td>-18.045</td>   \n",
       "</tr>\n",
       "<tr>\n",
       "  <th>IsHoliday|Type_1</th>         <td>0.0</td>     \n",
       "</tr>\n",
       "<tr>\n",
       "  <th>IsHoliday|Type_2</th>        <td>-0.0</td>     \n",
       "</tr>\n",
       "<tr>\n",
       "  <th>Temperature|Type_1</th>     <td>36.501</td>    \n",
       "</tr>\n",
       "<tr>\n",
       "  <th>Temperature|Type_2</th>     <td>-37.59</td>    \n",
       "</tr>\n",
       "<tr>\n",
       "  <th>Fuel_Price|Type_1</th>       <td>1.084</td>    \n",
       "</tr>\n",
       "<tr>\n",
       "  <th>Fuel_Price|Type_2</th>      <td>-1.852</td>    \n",
       "</tr>\n",
       "<tr>\n",
       "  <th>CPI|Type_1</th>             <td>-37.185</td>   \n",
       "</tr>\n",
       "<tr>\n",
       "  <th>CPI|Type_2</th>             <td>-69.841</td>   \n",
       "</tr>\n",
       "</table>\n",
       "<table class=\"simpletable\">\n",
       "<caption>CATE Intercept Results</caption>\n",
       "<tr>\n",
       "            <td></td>            <th>point_estimate</th>\n",
       "</tr>\n",
       "<tr>\n",
       "  <th>cate_intercept|Type_1</th>       <td>0.0</td>     \n",
       "</tr>\n",
       "<tr>\n",
       "  <th>cate_intercept|Type_2</th>      <td>-0.0</td>     \n",
       "</tr>\n",
       "</table><br/><br/><sub>A linear parametric conditional average treatment effect (CATE) model was fitted:<br/>$Y = \\Theta(X)\\cdot T + g(X, W) + \\epsilon$<br/>where for every outcome $i$ and treatment $j$ the CATE $\\Theta_{ij}(X)$ has the form:<br/>$\\Theta_{ij}(X) = X' coef_{ij} + cate\\_intercept_{ij}$<br/>Coefficient Results table portrays the $coef_{ij}$ parameter vector for each outcome $i$ and treatment $j$. Intercept Results table portrays the $cate\\_intercept_{ij}$ parameter.</sub>"
      ],
      "text/plain": [
       "<class 'econml.utilities.Summary'>\n",
       "\"\"\"\n",
       "       Coefficient Results       \n",
       "=================================\n",
       "                   point_estimate\n",
       "---------------------------------\n",
       "Dept|Type_1              -118.879\n",
       "Dept|Type_2               -18.045\n",
       "IsHoliday|Type_1              0.0\n",
       "IsHoliday|Type_2             -0.0\n",
       "Temperature|Type_1         36.501\n",
       "Temperature|Type_2         -37.59\n",
       "Fuel_Price|Type_1           1.084\n",
       "Fuel_Price|Type_2          -1.852\n",
       "CPI|Type_1                -37.185\n",
       "CPI|Type_2                -69.841\n",
       "       CATE Intercept Results       \n",
       "====================================\n",
       "                      point_estimate\n",
       "------------------------------------\n",
       "cate_intercept|Type_1            0.0\n",
       "cate_intercept|Type_2           -0.0\n",
       "------------------------------------\n",
       "\n",
       "<sub>A linear parametric conditional average treatment effect (CATE) model was fitted:\n",
       "$Y = \\Theta(X)\\cdot T + g(X, W) + \\epsilon$\n",
       "where for every outcome $i$ and treatment $j$ the CATE $\\Theta_{ij}(X)$ has the form:\n",
       "$\\Theta_{ij}(X) = X' coef_{ij} + cate\\_intercept_{ij}$\n",
       "Coefficient Results table portrays the $coef_{ij}$ parameter vector for each outcome $i$ and treatment $j$. Intercept Results table portrays the $cate\\_intercept_{ij}$ parameter.</sub>\n",
       "\"\"\""
      ]
     },
     "execution_count": 10,
     "metadata": {},
     "output_type": "execute_result"
    }
   ],
   "source": [
    "dml_est.summary()"
   ]
  },
  {
   "cell_type": "code",
   "execution_count": 11,
   "id": "feaa6af5-289c-4131-93ea-154660f38b16",
   "metadata": {},
   "outputs": [
    {
     "name": "stdout",
     "output_type": "stream",
     "text": [
      "features: ['Dept', 'IsHoliday', 'Temperature', 'Fuel_Price', 'CPI'], output: ['Weekly_Sales'], treatment: ['Type_1', 'Type_2']\n"
     ]
    }
   ],
   "source": [
    "print(f\"features: {dml_est.cate_feature_names()}, output: {dml_est.cate_output_names()}, treatment: {dml_est.cate_treatment_names()}\")"
   ]
  },
  {
   "cell_type": "code",
   "execution_count": 12,
   "id": "9f4234ef-3789-4e57-978c-978d6e5cdbe2",
   "metadata": {},
   "outputs": [],
   "source": [
    "dml_test_T = sales_df_test['Type'].copy()\n",
    "dml_test_W = None\n",
    "dml_test_Z = None\n",
    "dml_test_X = sales_df_test[['Dept', 'IsHoliday', 'Temperature', 'Fuel_Price', 'CPI']].copy()"
   ]
  },
  {
   "cell_type": "code",
   "execution_count": 13,
   "id": "ce411e96-16a2-4c12-887f-7fd90bad2f1d",
   "metadata": {},
   "outputs": [
    {
     "name": "stdout",
     "output_type": "stream",
     "text": [
      "    Dept IsHoliday  Temperature  Fuel_Price         CPI\n",
      "2      4         1        76.67       4.087  129.062355\n",
      "4     52         1        45.12       2.841  126.436419\n",
      "5     49         1        77.30       3.563  129.112500\n",
      "8     33         1        86.13       3.594  218.450940\n",
      "13    97         1        42.74       3.619  130.645793\n",
      "25    35         1        77.16       3.570  129.066300\n",
      "0     40         1        50.43       3.599  130.157516\n",
      "19    97         1        81.76       3.311  220.614875\n",
      "90    32         1        71.17       3.617  223.774444\n",
      "43    19         1        79.14       3.263  130.701290\n"
     ]
    }
   ],
   "source": [
    "dml_test_seg = dml_test_X.iloc[[2, 4, 5, 8, 13, 25, 0, 19, 90, 43]].copy()\n",
    "# dml_test_seg.reset_index(inplace = True)\n",
    "print(dml_test_seg)"
   ]
  },
  {
   "cell_type": "code",
   "execution_count": 14,
   "id": "f04e965e-f67a-49aa-bcf1-a9b6b8e2bfd5",
   "metadata": {},
   "outputs": [
    {
     "ename": "TypeError",
     "evalue": "ufunc 'isnan' not supported for the input types, and the inputs could not be safely coerced to any supported types according to the casting rule ''safe''",
     "output_type": "error",
     "traceback": [
      "\u001b[0;31m---------------------------------------------------------------------------\u001b[0m",
      "\u001b[0;31mTypeError\u001b[0m                                 Traceback (most recent call last)",
      "\u001b[0;32m/var/folders/r6/l_5_zw2s3y5c8vpvlqnkz3dr0000gn/T/ipykernel_28078/59434663.py\u001b[0m in \u001b[0;36m<module>\u001b[0;34m\u001b[0m\n\u001b[1;32m      5\u001b[0m \u001b[0;31m# The treatment effect is the estimated average effect on Y from moving from T=1 to T=2, given X.\u001b[0m\u001b[0;34m\u001b[0m\u001b[0;34m\u001b[0m\u001b[0;34m\u001b[0m\u001b[0m\n\u001b[1;32m      6\u001b[0m '''\n\u001b[0;32m----> 7\u001b[0;31m \u001b[0mdml_est_effect_01\u001b[0m \u001b[0;34m=\u001b[0m \u001b[0mdml_est\u001b[0m\u001b[0;34m.\u001b[0m\u001b[0meffect_inference\u001b[0m\u001b[0;34m(\u001b[0m\u001b[0mdml_test_seg\u001b[0m\u001b[0;34m,\u001b[0m \u001b[0mT0\u001b[0m\u001b[0;34m=\u001b[0m\u001b[0;36m0\u001b[0m\u001b[0;34m,\u001b[0m \u001b[0mT1\u001b[0m\u001b[0;34m=\u001b[0m\u001b[0;36m1\u001b[0m\u001b[0;34m)\u001b[0m\u001b[0;34m.\u001b[0m\u001b[0msummary_frame\u001b[0m\u001b[0;34m(\u001b[0m\u001b[0;34m)\u001b[0m\u001b[0;34m\u001b[0m\u001b[0;34m\u001b[0m\u001b[0m\n\u001b[0m\u001b[1;32m      8\u001b[0m \u001b[0mdml_est_effect_02\u001b[0m \u001b[0;34m=\u001b[0m \u001b[0mdml_est\u001b[0m\u001b[0;34m.\u001b[0m\u001b[0meffect_inference\u001b[0m\u001b[0;34m(\u001b[0m\u001b[0mdml_test_seg\u001b[0m\u001b[0;34m,\u001b[0m \u001b[0mT0\u001b[0m\u001b[0;34m=\u001b[0m\u001b[0;36m0\u001b[0m\u001b[0;34m,\u001b[0m \u001b[0mT1\u001b[0m\u001b[0;34m=\u001b[0m\u001b[0;36m2\u001b[0m\u001b[0;34m)\u001b[0m\u001b[0;34m.\u001b[0m\u001b[0msummary_frame\u001b[0m\u001b[0;34m(\u001b[0m\u001b[0;34m)\u001b[0m\u001b[0;34m\u001b[0m\u001b[0;34m\u001b[0m\u001b[0m\n\u001b[1;32m      9\u001b[0m \u001b[0mdml_est_effect_12\u001b[0m \u001b[0;34m=\u001b[0m \u001b[0mdml_est\u001b[0m\u001b[0;34m.\u001b[0m\u001b[0meffect_inference\u001b[0m\u001b[0;34m(\u001b[0m\u001b[0mdml_test_seg\u001b[0m\u001b[0;34m,\u001b[0m \u001b[0mT0\u001b[0m\u001b[0;34m=\u001b[0m\u001b[0;36m1\u001b[0m\u001b[0;34m,\u001b[0m \u001b[0mT1\u001b[0m\u001b[0;34m=\u001b[0m\u001b[0;36m2\u001b[0m\u001b[0;34m)\u001b[0m\u001b[0;34m.\u001b[0m\u001b[0msummary_frame\u001b[0m\u001b[0;34m(\u001b[0m\u001b[0;34m)\u001b[0m\u001b[0;34m\u001b[0m\u001b[0;34m\u001b[0m\u001b[0m\n",
      "\u001b[0;32m~/JC/git-projects/py_stat/venv/lib/python3.7/site-packages/econml/_ortho_learner.py\u001b[0m in \u001b[0;36meffect_inference\u001b[0;34m(self, X, T0, T1)\u001b[0m\n\u001b[1;32m    841\u001b[0m         \u001b[0mX\u001b[0m\u001b[0;34m,\u001b[0m \u001b[0mT0\u001b[0m\u001b[0;34m,\u001b[0m \u001b[0mT1\u001b[0m \u001b[0;34m=\u001b[0m \u001b[0mcheck_input_arrays\u001b[0m\u001b[0;34m(\u001b[0m\u001b[0mX\u001b[0m\u001b[0;34m,\u001b[0m \u001b[0mT0\u001b[0m\u001b[0;34m,\u001b[0m \u001b[0mT1\u001b[0m\u001b[0;34m)\u001b[0m\u001b[0;34m\u001b[0m\u001b[0;34m\u001b[0m\u001b[0m\n\u001b[1;32m    842\u001b[0m         \u001b[0mself\u001b[0m\u001b[0;34m.\u001b[0m\u001b[0m_check_fitted_dims\u001b[0m\u001b[0;34m(\u001b[0m\u001b[0mX\u001b[0m\u001b[0;34m)\u001b[0m\u001b[0;34m\u001b[0m\u001b[0;34m\u001b[0m\u001b[0m\n\u001b[0;32m--> 843\u001b[0;31m         \u001b[0;32mreturn\u001b[0m \u001b[0msuper\u001b[0m\u001b[0;34m(\u001b[0m\u001b[0;34m)\u001b[0m\u001b[0;34m.\u001b[0m\u001b[0meffect_inference\u001b[0m\u001b[0;34m(\u001b[0m\u001b[0mX\u001b[0m\u001b[0;34m,\u001b[0m \u001b[0mT0\u001b[0m\u001b[0;34m=\u001b[0m\u001b[0mT0\u001b[0m\u001b[0;34m,\u001b[0m \u001b[0mT1\u001b[0m\u001b[0;34m=\u001b[0m\u001b[0mT1\u001b[0m\u001b[0;34m)\u001b[0m\u001b[0;34m\u001b[0m\u001b[0;34m\u001b[0m\u001b[0m\n\u001b[0m\u001b[1;32m    844\u001b[0m     \u001b[0meffect_inference\u001b[0m\u001b[0;34m.\u001b[0m\u001b[0m__doc__\u001b[0m \u001b[0;34m=\u001b[0m \u001b[0mLinearCateEstimator\u001b[0m\u001b[0;34m.\u001b[0m\u001b[0meffect_inference\u001b[0m\u001b[0;34m.\u001b[0m\u001b[0m__doc__\u001b[0m\u001b[0;34m\u001b[0m\u001b[0;34m\u001b[0m\u001b[0m\n\u001b[1;32m    845\u001b[0m \u001b[0;34m\u001b[0m\u001b[0m\n",
      "\u001b[0;32m~/JC/git-projects/py_stat/venv/lib/python3.7/site-packages/econml/_cate_estimator.py\u001b[0m in \u001b[0;36mcall\u001b[0;34m(self, *args, **kwargs)\u001b[0m\n\u001b[1;32m    330\u001b[0m         \u001b[0;34m@\u001b[0m\u001b[0mwraps\u001b[0m\u001b[0;34m(\u001b[0m\u001b[0mm\u001b[0m\u001b[0;34m)\u001b[0m\u001b[0;34m\u001b[0m\u001b[0;34m\u001b[0m\u001b[0m\n\u001b[1;32m    331\u001b[0m         \u001b[0;32mdef\u001b[0m \u001b[0mcall\u001b[0m\u001b[0;34m(\u001b[0m\u001b[0mself\u001b[0m\u001b[0;34m,\u001b[0m \u001b[0;34m*\u001b[0m\u001b[0margs\u001b[0m\u001b[0;34m,\u001b[0m \u001b[0;34m**\u001b[0m\u001b[0mkwargs\u001b[0m\u001b[0;34m)\u001b[0m\u001b[0;34m:\u001b[0m\u001b[0;34m\u001b[0m\u001b[0;34m\u001b[0m\u001b[0m\n\u001b[0;32m--> 332\u001b[0;31m             \u001b[0;32mreturn\u001b[0m \u001b[0mself\u001b[0m\u001b[0;34m.\u001b[0m\u001b[0m_use_inference_method\u001b[0m\u001b[0;34m(\u001b[0m\u001b[0mm\u001b[0m\u001b[0;34m.\u001b[0m\u001b[0m__name__\u001b[0m\u001b[0;34m,\u001b[0m \u001b[0;34m*\u001b[0m\u001b[0margs\u001b[0m\u001b[0;34m,\u001b[0m \u001b[0;34m**\u001b[0m\u001b[0mkwargs\u001b[0m\u001b[0;34m)\u001b[0m\u001b[0;34m\u001b[0m\u001b[0;34m\u001b[0m\u001b[0m\n\u001b[0m\u001b[1;32m    333\u001b[0m         \u001b[0;32mreturn\u001b[0m \u001b[0mcall\u001b[0m\u001b[0;34m\u001b[0m\u001b[0;34m\u001b[0m\u001b[0m\n\u001b[1;32m    334\u001b[0m \u001b[0;34m\u001b[0m\u001b[0m\n",
      "\u001b[0;32m~/JC/git-projects/py_stat/venv/lib/python3.7/site-packages/econml/_cate_estimator.py\u001b[0m in \u001b[0;36m_use_inference_method\u001b[0;34m(self, name, *args, **kwargs)\u001b[0m\n\u001b[1;32m    323\u001b[0m     \u001b[0;32mdef\u001b[0m \u001b[0m_use_inference_method\u001b[0m\u001b[0;34m(\u001b[0m\u001b[0mself\u001b[0m\u001b[0;34m,\u001b[0m \u001b[0mname\u001b[0m\u001b[0;34m,\u001b[0m \u001b[0;34m*\u001b[0m\u001b[0margs\u001b[0m\u001b[0;34m,\u001b[0m \u001b[0;34m**\u001b[0m\u001b[0mkwargs\u001b[0m\u001b[0;34m)\u001b[0m\u001b[0;34m:\u001b[0m\u001b[0;34m\u001b[0m\u001b[0;34m\u001b[0m\u001b[0m\n\u001b[1;32m    324\u001b[0m         \u001b[0;32mif\u001b[0m \u001b[0mself\u001b[0m\u001b[0;34m.\u001b[0m\u001b[0m_inference\u001b[0m \u001b[0;32mis\u001b[0m \u001b[0;32mnot\u001b[0m \u001b[0;32mNone\u001b[0m\u001b[0;34m:\u001b[0m\u001b[0;34m\u001b[0m\u001b[0;34m\u001b[0m\u001b[0m\n\u001b[0;32m--> 325\u001b[0;31m             \u001b[0;32mreturn\u001b[0m \u001b[0mgetattr\u001b[0m\u001b[0;34m(\u001b[0m\u001b[0mself\u001b[0m\u001b[0;34m.\u001b[0m\u001b[0m_inference\u001b[0m\u001b[0;34m,\u001b[0m \u001b[0mname\u001b[0m\u001b[0;34m)\u001b[0m\u001b[0;34m(\u001b[0m\u001b[0;34m*\u001b[0m\u001b[0margs\u001b[0m\u001b[0;34m,\u001b[0m \u001b[0;34m**\u001b[0m\u001b[0mkwargs\u001b[0m\u001b[0;34m)\u001b[0m\u001b[0;34m\u001b[0m\u001b[0;34m\u001b[0m\u001b[0m\n\u001b[0m\u001b[1;32m    326\u001b[0m         \u001b[0;32melse\u001b[0m\u001b[0;34m:\u001b[0m\u001b[0;34m\u001b[0m\u001b[0;34m\u001b[0m\u001b[0m\n\u001b[1;32m    327\u001b[0m             \u001b[0;32mraise\u001b[0m \u001b[0mAttributeError\u001b[0m\u001b[0;34m(\u001b[0m\u001b[0;34m\"Can't call '%s' because 'inference' is None\"\u001b[0m \u001b[0;34m%\u001b[0m \u001b[0mname\u001b[0m\u001b[0;34m)\u001b[0m\u001b[0;34m\u001b[0m\u001b[0;34m\u001b[0m\u001b[0m\n",
      "\u001b[0;32m~/JC/git-projects/py_stat/venv/lib/python3.7/site-packages/econml/inference/_inference.py\u001b[0m in \u001b[0;36meffect_inference\u001b[0;34m(self, X, T0, T1)\u001b[0m\n\u001b[1;32m    274\u001b[0m         \u001b[0;31m# We can write effect inference as a function of prediction and prediction standard error of\u001b[0m\u001b[0;34m\u001b[0m\u001b[0;34m\u001b[0m\u001b[0;34m\u001b[0m\u001b[0m\n\u001b[1;32m    275\u001b[0m         \u001b[0;31m# the final method for linear models\u001b[0m\u001b[0;34m\u001b[0m\u001b[0;34m\u001b[0m\u001b[0;34m\u001b[0m\u001b[0m\n\u001b[0;32m--> 276\u001b[0;31m         \u001b[0mX\u001b[0m\u001b[0;34m,\u001b[0m \u001b[0mT0\u001b[0m\u001b[0;34m,\u001b[0m \u001b[0mT1\u001b[0m \u001b[0;34m=\u001b[0m \u001b[0mself\u001b[0m\u001b[0;34m.\u001b[0m\u001b[0m_est\u001b[0m\u001b[0;34m.\u001b[0m\u001b[0m_expand_treatments\u001b[0m\u001b[0;34m(\u001b[0m\u001b[0mX\u001b[0m\u001b[0;34m,\u001b[0m \u001b[0mT0\u001b[0m\u001b[0;34m,\u001b[0m \u001b[0mT1\u001b[0m\u001b[0;34m)\u001b[0m\u001b[0;34m\u001b[0m\u001b[0;34m\u001b[0m\u001b[0m\n\u001b[0m\u001b[1;32m    277\u001b[0m         \u001b[0;32mif\u001b[0m \u001b[0mX\u001b[0m \u001b[0;32mis\u001b[0m \u001b[0;32mNone\u001b[0m\u001b[0;34m:\u001b[0m\u001b[0;34m\u001b[0m\u001b[0;34m\u001b[0m\u001b[0m\n\u001b[1;32m    278\u001b[0m             \u001b[0mX\u001b[0m \u001b[0;34m=\u001b[0m \u001b[0mnp\u001b[0m\u001b[0;34m.\u001b[0m\u001b[0mones\u001b[0m\u001b[0;34m(\u001b[0m\u001b[0;34m(\u001b[0m\u001b[0mT0\u001b[0m\u001b[0;34m.\u001b[0m\u001b[0mshape\u001b[0m\u001b[0;34m[\u001b[0m\u001b[0;36m0\u001b[0m\u001b[0;34m]\u001b[0m\u001b[0;34m,\u001b[0m \u001b[0;36m1\u001b[0m\u001b[0;34m)\u001b[0m\u001b[0;34m)\u001b[0m\u001b[0;34m\u001b[0m\u001b[0;34m\u001b[0m\u001b[0m\n",
      "\u001b[0;32m~/JC/git-projects/py_stat/venv/lib/python3.7/site-packages/econml/_cate_estimator.py\u001b[0m in \u001b[0;36m_expand_treatments\u001b[0;34m(self, X, transform, *Ts)\u001b[0m\n\u001b[1;32m    864\u001b[0m                 \u001b[0;32mif\u001b[0m \u001b[0;32mnot\u001b[0m \u001b[0mself\u001b[0m\u001b[0;34m.\u001b[0m\u001b[0m_original_treatment_featurizer\u001b[0m\u001b[0;34m:\u001b[0m\u001b[0;34m\u001b[0m\u001b[0;34m\u001b[0m\u001b[0m\n\u001b[1;32m    865\u001b[0m                     \u001b[0mT\u001b[0m \u001b[0;34m=\u001b[0m \u001b[0mT\u001b[0m\u001b[0;34m.\u001b[0m\u001b[0mreshape\u001b[0m\u001b[0;34m(\u001b[0m\u001b[0;34m-\u001b[0m\u001b[0;36m1\u001b[0m\u001b[0;34m,\u001b[0m \u001b[0;36m1\u001b[0m\u001b[0;34m)\u001b[0m\u001b[0;34m\u001b[0m\u001b[0;34m\u001b[0m\u001b[0m\n\u001b[0;32m--> 866\u001b[0;31m                 \u001b[0mT\u001b[0m \u001b[0;34m=\u001b[0m \u001b[0mself\u001b[0m\u001b[0;34m.\u001b[0m\u001b[0mtransformer\u001b[0m\u001b[0;34m.\u001b[0m\u001b[0mtransform\u001b[0m\u001b[0;34m(\u001b[0m\u001b[0mT\u001b[0m\u001b[0;34m)\u001b[0m\u001b[0;34m\u001b[0m\u001b[0;34m\u001b[0m\u001b[0m\n\u001b[0m\u001b[1;32m    867\u001b[0m             \u001b[0moutTs\u001b[0m\u001b[0;34m.\u001b[0m\u001b[0mappend\u001b[0m\u001b[0;34m(\u001b[0m\u001b[0mT\u001b[0m\u001b[0;34m)\u001b[0m\u001b[0;34m\u001b[0m\u001b[0;34m\u001b[0m\u001b[0m\n\u001b[1;32m    868\u001b[0m \u001b[0;34m\u001b[0m\u001b[0m\n",
      "\u001b[0;32m~/JC/git-projects/py_stat/venv/lib/python3.7/site-packages/sklearn/preprocessing/_encoders.py\u001b[0m in \u001b[0;36mtransform\u001b[0;34m(self, X)\u001b[0m\n\u001b[1;32m    511\u001b[0m             \u001b[0mhandle_unknown\u001b[0m\u001b[0;34m=\u001b[0m\u001b[0mself\u001b[0m\u001b[0;34m.\u001b[0m\u001b[0mhandle_unknown\u001b[0m\u001b[0;34m,\u001b[0m\u001b[0;34m\u001b[0m\u001b[0;34m\u001b[0m\u001b[0m\n\u001b[1;32m    512\u001b[0m             \u001b[0mforce_all_finite\u001b[0m\u001b[0;34m=\u001b[0m\u001b[0;34m\"allow-nan\"\u001b[0m\u001b[0;34m,\u001b[0m\u001b[0;34m\u001b[0m\u001b[0;34m\u001b[0m\u001b[0m\n\u001b[0;32m--> 513\u001b[0;31m             \u001b[0mwarn_on_unknown\u001b[0m\u001b[0;34m=\u001b[0m\u001b[0mwarn_on_unknown\u001b[0m\u001b[0;34m,\u001b[0m\u001b[0;34m\u001b[0m\u001b[0;34m\u001b[0m\u001b[0m\n\u001b[0m\u001b[1;32m    514\u001b[0m         )\n\u001b[1;32m    515\u001b[0m \u001b[0;34m\u001b[0m\u001b[0m\n",
      "\u001b[0;32m~/JC/git-projects/py_stat/venv/lib/python3.7/site-packages/sklearn/preprocessing/_encoders.py\u001b[0m in \u001b[0;36m_transform\u001b[0;34m(self, X, handle_unknown, force_all_finite, warn_on_unknown)\u001b[0m\n\u001b[1;32m    132\u001b[0m         \u001b[0;32mfor\u001b[0m \u001b[0mi\u001b[0m \u001b[0;32min\u001b[0m \u001b[0mrange\u001b[0m\u001b[0;34m(\u001b[0m\u001b[0mn_features\u001b[0m\u001b[0;34m)\u001b[0m\u001b[0;34m:\u001b[0m\u001b[0;34m\u001b[0m\u001b[0;34m\u001b[0m\u001b[0m\n\u001b[1;32m    133\u001b[0m             \u001b[0mXi\u001b[0m \u001b[0;34m=\u001b[0m \u001b[0mX_list\u001b[0m\u001b[0;34m[\u001b[0m\u001b[0mi\u001b[0m\u001b[0;34m]\u001b[0m\u001b[0;34m\u001b[0m\u001b[0;34m\u001b[0m\u001b[0m\n\u001b[0;32m--> 134\u001b[0;31m             \u001b[0mdiff\u001b[0m\u001b[0;34m,\u001b[0m \u001b[0mvalid_mask\u001b[0m \u001b[0;34m=\u001b[0m \u001b[0m_check_unknown\u001b[0m\u001b[0;34m(\u001b[0m\u001b[0mXi\u001b[0m\u001b[0;34m,\u001b[0m \u001b[0mself\u001b[0m\u001b[0;34m.\u001b[0m\u001b[0mcategories_\u001b[0m\u001b[0;34m[\u001b[0m\u001b[0mi\u001b[0m\u001b[0;34m]\u001b[0m\u001b[0;34m,\u001b[0m \u001b[0mreturn_mask\u001b[0m\u001b[0;34m=\u001b[0m\u001b[0;32mTrue\u001b[0m\u001b[0;34m)\u001b[0m\u001b[0;34m\u001b[0m\u001b[0;34m\u001b[0m\u001b[0m\n\u001b[0m\u001b[1;32m    135\u001b[0m \u001b[0;34m\u001b[0m\u001b[0m\n\u001b[1;32m    136\u001b[0m             \u001b[0;32mif\u001b[0m \u001b[0;32mnot\u001b[0m \u001b[0mnp\u001b[0m\u001b[0;34m.\u001b[0m\u001b[0mall\u001b[0m\u001b[0;34m(\u001b[0m\u001b[0mvalid_mask\u001b[0m\u001b[0;34m)\u001b[0m\u001b[0;34m:\u001b[0m\u001b[0;34m\u001b[0m\u001b[0;34m\u001b[0m\u001b[0m\n",
      "\u001b[0;32m~/JC/git-projects/py_stat/venv/lib/python3.7/site-packages/sklearn/utils/_encode.py\u001b[0m in \u001b[0;36m_check_unknown\u001b[0;34m(values, known_values, return_mask)\u001b[0m\n\u001b[1;32m    259\u001b[0m \u001b[0;34m\u001b[0m\u001b[0m\n\u001b[1;32m    260\u001b[0m         \u001b[0;31m# check for nans in the known_values\u001b[0m\u001b[0;34m\u001b[0m\u001b[0;34m\u001b[0m\u001b[0;34m\u001b[0m\u001b[0m\n\u001b[0;32m--> 261\u001b[0;31m         \u001b[0;32mif\u001b[0m \u001b[0mnp\u001b[0m\u001b[0;34m.\u001b[0m\u001b[0misnan\u001b[0m\u001b[0;34m(\u001b[0m\u001b[0mknown_values\u001b[0m\u001b[0;34m)\u001b[0m\u001b[0;34m.\u001b[0m\u001b[0many\u001b[0m\u001b[0;34m(\u001b[0m\u001b[0;34m)\u001b[0m\u001b[0;34m:\u001b[0m\u001b[0;34m\u001b[0m\u001b[0;34m\u001b[0m\u001b[0m\n\u001b[0m\u001b[1;32m    262\u001b[0m             \u001b[0mdiff_is_nan\u001b[0m \u001b[0;34m=\u001b[0m \u001b[0mnp\u001b[0m\u001b[0;34m.\u001b[0m\u001b[0misnan\u001b[0m\u001b[0;34m(\u001b[0m\u001b[0mdiff\u001b[0m\u001b[0;34m)\u001b[0m\u001b[0;34m\u001b[0m\u001b[0;34m\u001b[0m\u001b[0m\n\u001b[1;32m    263\u001b[0m             \u001b[0;32mif\u001b[0m \u001b[0mdiff_is_nan\u001b[0m\u001b[0;34m.\u001b[0m\u001b[0many\u001b[0m\u001b[0;34m(\u001b[0m\u001b[0;34m)\u001b[0m\u001b[0;34m:\u001b[0m\u001b[0;34m\u001b[0m\u001b[0;34m\u001b[0m\u001b[0m\n",
      "\u001b[0;31mTypeError\u001b[0m: ufunc 'isnan' not supported for the input types, and the inputs could not be safely coerced to any supported types according to the casting rule ''safe''"
     ]
    }
   ],
   "source": [
    "'''\n",
    "# Calculate the heterogeneous treatment effect (.effect() result same)\n",
    "# The treatment effect is the estimated average effect on Y from moving from T=0 to T=1, given X.\n",
    "# The treatment effect is the estimated average effect on Y from moving from T=0 to T=2, given X.\n",
    "# The treatment effect is the estimated average effect on Y from moving from T=1 to T=2, given X.\n",
    "'''\n",
    "dml_est_effect_01 = dml_est.effect_inference(dml_test_seg, T0=0, T1=1).summary_frame()\n",
    "dml_est_effect_02 = dml_est.effect_inference(dml_test_seg, T0=0, T1=2).summary_frame()\n",
    "dml_est_effect_12 = dml_est.effect_inference(dml_test_seg, T0=1, T1=2).summary_frame()\n",
    "pd.concat([dml_est_effect_01, dml_est_effect_02, dml_est_effect_12], axis=1)"
   ]
  },
  {
   "cell_type": "code",
   "execution_count": null,
   "id": "b07653d5-ee33-47dd-a130-7130fbac643b",
   "metadata": {},
   "outputs": [],
   "source": []
  }
 ],
 "metadata": {
  "kernelspec": {
   "display_name": "Python 3 (ipykernel)",
   "language": "python",
   "name": "python3"
  },
  "language_info": {
   "codemirror_mode": {
    "name": "ipython",
    "version": 3
   },
   "file_extension": ".py",
   "mimetype": "text/x-python",
   "name": "python",
   "nbconvert_exporter": "python",
   "pygments_lexer": "ipython3",
   "version": "3.7.4"
  }
 },
 "nbformat": 4,
 "nbformat_minor": 5
}
