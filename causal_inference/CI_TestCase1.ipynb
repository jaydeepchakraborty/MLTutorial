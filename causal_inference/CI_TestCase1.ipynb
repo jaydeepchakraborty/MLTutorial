{
 "cells": [
  {
   "cell_type": "markdown",
   "id": "b70d02ef-ed02-4bf3-84e7-529d3f554d32",
   "metadata": {},
   "source": [
    "<b>Forcast Problem:</b> <br>\n",
    "Predict \"Weekly_Sales\" (weekly sales) <br>\n",
    "<br>\n",
    "<b>DataSet:</b> <br>\n",
    "https://www.kaggle.com/datasets/bletchley/course-material-walmart-challenge <br>\n",
    "<br>\n",
    "<b>DataSet Description:</b> <br>\n",
    "<br>\n",
    "Store - the store number <br>\n",
    "Dept - the department number <br>\n",
    "Date - the week <br>\n",
    "Temperature - average temperature in the region <br>\n",
    "Fuel_Price - cost of fuel in the region <br>\n",
    "MarkDown1-5 - anonymized data related to promotional markdowns that Walmart is running. MarkDown data is only available after Nov 2011, and <br>\n",
    "is not available for all stores all the time. Any missing value is marked with an NA. <br>\n",
    "CPI - the consumer price index <br>\n",
    "Unemployment - the unemployment rate <br>\n",
    "IsHoliday - whether the week is a special holiday week <br>\n",
    "Weekly_Sales: The weekly department wide sales (train set only <br>\n",
    "Type: An anonymized description on which type of store it is <br>\n",
    "Size: store size <br>\n",
    "<br>\n",
    "<br>\n",
    "Holiday Events <br>\n",
    "Super Bowl: 12-Feb-10, 11-Feb-11, 10-Feb-12, 8-Feb-13 <br>\n",
    "Labour Day: 10-Sep-10, 9-Sep-11, 7-Sep-12, 6-Sep-13 <br>\n",
    "Thanksgiving: 26-Nov-10, 25-Nov-11, 23-Nov-12, 29-Nov-13 <br>\n",
    "Christmas: 31-Dec-10, 30-Dec-11, 28-Dec-12, 27-Dec-13 <br>\n",
    "<br>\n",
    "<br>\n",
    "<b>Causal Problem:</b> <br>\n",
    "How \"Type\" (store type) impacts the \"Weekly_Sales\" (weekly sales) <br>\n",
    "<br>\n",
    "Causal discovery: <br>\n",
    "    o/p: find causal graph <br>\n",
    "Causal Identification: <br>\n",
    "    o/p: probability expression <br>\n",
    "Causal Estimation: <br>\n",
    "    o/p: causal quantities such as ATE, CATE <br>\n",
    "Causal Validation: <br>\n",
    "    o/p: robustness scores for estimates <br>"
   ]
  },
  {
   "cell_type": "code",
   "execution_count": 3,
   "id": "37bc6e64-8447-491b-b40a-a9468163bd88",
   "metadata": {},
   "outputs": [],
   "source": [
    "import pandas as pd\n",
    "import numpy as np\n",
    "\n",
    "import seaborn as sb\n",
    "import matplotlib.pyplot as plt\n",
    "import shap\n",
    "\n",
    "from econml.dml import DML\n",
    "from econml.dr import DRLearner\n",
    "from econml.metalearners import TLearner, SLearner, XLearner, DomainAdaptationLearner\n",
    "from econml.inference import BootstrapInference\n",
    "\n",
    "from sklearn.ensemble import RandomForestRegressor, RandomForestClassifier, GradientBoostingRegressor, GradientBoostingClassifier, HistGradientBoostingRegressor, HistGradientBoostingClassifier\n",
    "from sklearn.linear_model import ElasticNetCV\n",
    "from sklearn.model_selection import GridSearchCV"
   ]
  },
  {
   "cell_type": "code",
   "execution_count": 4,
   "id": "93a8bcc7-cb6c-4f14-beb8-744d444c8b72",
   "metadata": {},
   "outputs": [],
   "source": [
    "sales_df_train = pd.read_csv(\"/Users/jaydeepchakraborty/JC/git-projects/model_util/DataSets/walmart_sale_challenge/train.csv\")\n",
    "sales_df_test = pd.read_csv(\"/Users/jaydeepchakraborty/JC/git-projects/model_util/DataSets/walmart_sale_challenge/test.csv\")"
   ]
  },
  {
   "cell_type": "code",
   "execution_count": 5,
   "id": "12ad2ec5-df0d-475f-8131-d557270a2872",
   "metadata": {},
   "outputs": [
    {
     "name": "stdout",
     "output_type": "stream",
     "text": [
      "(282451, 16) (139119, 15)\n"
     ]
    }
   ],
   "source": [
    "print(sales_df_train.shape, sales_df_test.shape)"
   ]
  },
  {
   "cell_type": "code",
   "execution_count": 6,
   "id": "0e739f73-f93d-4e81-9a3d-9edd37319491",
   "metadata": {},
   "outputs": [
    {
     "name": "stdout",
     "output_type": "stream",
     "text": [
      "<class 'pandas.core.frame.DataFrame'>\n",
      "RangeIndex: 282451 entries, 0 to 282450\n",
      "Data columns (total 16 columns):\n",
      " #   Column        Non-Null Count   Dtype  \n",
      "---  ------        --------------   -----  \n",
      " 0   Store         282451 non-null  int64  \n",
      " 1   Dept          282451 non-null  int64  \n",
      " 2   Date          282451 non-null  object \n",
      " 3   Weekly_Sales  282451 non-null  float64\n",
      " 4   IsHoliday     282451 non-null  bool   \n",
      " 5   Temperature   282451 non-null  float64\n",
      " 6   Fuel_Price    282451 non-null  float64\n",
      " 7   MarkDown1     100520 non-null  float64\n",
      " 8   MarkDown2     74232 non-null   float64\n",
      " 9   MarkDown3     91521 non-null   float64\n",
      " 10  MarkDown4     90031 non-null   float64\n",
      " 11  MarkDown5     101029 non-null  float64\n",
      " 12  CPI           282451 non-null  float64\n",
      " 13  Unemployment  282451 non-null  float64\n",
      " 14  Type          282451 non-null  object \n",
      " 15  Size          282451 non-null  int64  \n",
      "dtypes: bool(1), float64(10), int64(3), object(2)\n",
      "memory usage: 32.6+ MB\n"
     ]
    }
   ],
   "source": [
    "sales_df_train.info()"
   ]
  },
  {
   "cell_type": "markdown",
   "id": "c1b7672b-cd3d-43f2-8310-414cc9e65c4a",
   "metadata": {},
   "source": [
    "<font size=4> <b>Some Assumptions:</b> </font> <br>\n",
    "Let's work on some assumtions and check how the data looks.    "
   ]
  },
  {
   "cell_type": "markdown",
   "id": "b43e63e8-4a6e-46ce-adc1-1bbc7b0dc48b",
   "metadata": {},
   "source": [
    "<font size=3> <b>Assumption-1:</b> </font> <br>\n",
    "Let's check whether \"store type\" has any influence on 'Weekly_Sales'"
   ]
  },
  {
   "cell_type": "code",
   "execution_count": 7,
   "id": "afe6fe72-a6f7-4523-9d64-1d07086301cb",
   "metadata": {},
   "outputs": [
    {
     "name": "stdout",
     "output_type": "stream",
     "text": [
      "Type\n",
      "A    20079.169258\n",
      "B    12263.647825\n",
      "C     9484.482310\n",
      "Name: Weekly_Sales, dtype: float64\n"
     ]
    },
    {
     "data": {
      "text/plain": [
       "<AxesSubplot:xlabel='Type', ylabel='Weekly_Sales'>"
      ]
     },
     "execution_count": 7,
     "metadata": {},
     "output_type": "execute_result"
    },
    {
     "data": {
      "image/png": "[encoded data removed]",
      "text/plain": [
       "<Figure size 432x288 with 1 Axes>"
      ]
     },
     "metadata": {
      "needs_background": "light"
     },
     "output_type": "display_data"
    }
   ],
   "source": [
    "'''\n",
    "From the plot,\n",
    "It seems the \"store type\" might influence the \"weekly sales\"\n",
    "'''\n",
    "print(sales_df_train.groupby('Type')['Weekly_Sales'].mean())\n",
    "sb.barplot(x=\"Type\", y=\"Weekly_Sales\", data=sales_df_train, estimator=np.mean)"
   ]
  },
  {
   "cell_type": "code",
   "execution_count": 8,
   "id": "28194041-c7ed-47ee-aa30-79c0d0048e21",
   "metadata": {},
   "outputs": [],
   "source": [
    "# Applying the condition\n",
    "sales_df_train['Type'].mask(sales_df_train['Type'] == 'A', 0, inplace=True)\n",
    "sales_df_train['Type'].mask(sales_df_train['Type'] == 'B', 1, inplace=True)\n",
    "sales_df_train['Type'].mask(sales_df_train['Type'] == 'C', 2, inplace=True)\n",
    "\n",
    "sales_df_test['Type'].mask(sales_df_test['Type'] == 'A', 0, inplace=True)\n",
    "sales_df_test['Type'].mask(sales_df_test['Type'] == 'B', 1, inplace=True)\n",
    "sales_df_test['Type'].mask(sales_df_test['Type'] == 'C', 2, inplace=True)\n",
    "\n",
    "\n",
    "# Applying the condition\n",
    "sales_df_train['IsHoliday'].mask(sales_df_train['IsHoliday'] == True, 0, inplace=True)\n",
    "sales_df_train['IsHoliday'].mask(sales_df_train['IsHoliday'] == False, 1, inplace=True)\n",
    "\n",
    "sales_df_test['IsHoliday'].mask(sales_df_test['IsHoliday'] == True, 0, inplace=True)\n",
    "sales_df_test['IsHoliday'].mask(sales_df_test['IsHoliday'] == False, 1, inplace=True)\n",
    "\n",
    "\n",
    "# Another way to do is\n",
    "# target_map = {\"A\": 0, \"B\": 1, \"C\": 2}\n",
    "# df[\"Type\"] = df[\"Type\"].apply(lambda x: target_map[x])"
   ]
  },
  {
   "cell_type": "markdown",
   "id": "f4d4d7db-f219-43ff-9234-2916ddb103f4",
   "metadata": {},
   "source": [
    "Now use <b>causal analysis</b> to understand whether \"store type\" causes the \"weekly sales\""
   ]
  },
  {
   "cell_type": "code",
   "execution_count": null,
   "id": "d15b1053-ca0e-4068-95fe-98c9618d6d3b",
   "metadata": {},
   "outputs": [],
   "source": [
    "'''\n",
    "Let's discuss the features we will consider for predicting 'weekly sales'\n",
    "Store: it is number (identifier), we do not need it.\n",
    "Type: different types of stores will have different sales. we will use it.\n",
    "Size: different sizes of stores will have different sales. we will use it.\n",
    "Dept: different dept will have different sales. we will use it.\n",
    "Date: we will convert it to season (summer, spring, winter, Fall). different seasons will have different sales. we will use it.\n",
    "IsHoliday: holiday will have different sales. we will use it.\n",
    "Temperature: we will convert it to (hot: >75, medium: 50-75, cold:<50). different temperature will have different sales. we will use it.\n",
    "'''"
   ]
  },
  {
   "cell_type": "code",
   "execution_count": null,
   "id": "7e653dce-db91-490f-ac0d-e8d4829dade1",
   "metadata": {},
   "outputs": [],
   "source": [
    "'''\n",
    "We need to define some variables.\n",
    "Y = output\n",
    "T = Treatment\n",
    "X = co-variates used for heterogeneity\n",
    "W = observable co-variates which has effect on Y, T (controls/confounders)\n",
    "Z = variables that effect T (instrument variables)\n",
    "\n",
    "In our problem,\n",
    "Y = 'Weekly_Sales'\n",
    "T = 'Type'\n",
    "W = None\n",
    "Z = None\n",
    "X = ['Dept', 'IsHoliday', 'Temperature', 'Fuel_Price', 'CPI']\n",
    "'''"
   ]
  },
  {
   "cell_type": "code",
   "execution_count": 9,
   "id": "1032f0ba-3719-4b45-bcf2-ca414c69968f",
   "metadata": {},
   "outputs": [
    {
     "name": "stdout",
     "output_type": "stream",
     "text": [
      "Store int64\n",
      "Dept int64\n",
      "Date object\n",
      "Weekly_Sales float64\n",
      "IsHoliday object\n",
      "Temperature float64\n",
      "Fuel_Price float64\n",
      "MarkDown1 float64\n",
      "MarkDown2 float64\n",
      "MarkDown3 float64\n",
      "MarkDown4 float64\n",
      "MarkDown5 float64\n",
      "CPI float64\n",
      "Unemployment float64\n",
      "Type object\n",
      "Size int64\n"
     ]
    }
   ],
   "source": [
    "# checking which columns are datatype ~ Object\n",
    "for col_nm in sales_df_train.columns:\n",
    "    print(col_nm, sales_df_train[col_nm].dtype)"
   ]
  },
  {
   "cell_type": "code",
   "execution_count": 10,
   "id": "475bbf82-e661-436b-8db8-abfe966e15b3",
   "metadata": {},
   "outputs": [],
   "source": [
    "# EconML does not consider object feature \n",
    "train_convert_dict = {'IsHoliday': int, 'Type': int} \n",
    "sales_df_train = sales_df_train.astype(train_convert_dict)"
   ]
  },
  {
   "cell_type": "code",
   "execution_count": 11,
   "id": "45a4ca6b-8e6e-4348-8765-bf9497e247d4",
   "metadata": {},
   "outputs": [],
   "source": [
    "# EconML does not consider object feature \n",
    "test_convert_dict = {'IsHoliday': int,} \n",
    "sales_df_test = sales_df_test.astype(test_convert_dict)"
   ]
  },
  {
   "cell_type": "markdown",
   "id": "ad47b3e7-c785-4f17-872b-74a1feff337e",
   "metadata": {},
   "source": [
    "#####################~~~~~~~~~~~~~~~~~~~~~~~~~~~~~####################################"
   ]
  },
  {
   "cell_type": "markdown",
   "id": "704404d7-ccca-456a-a70a-dad3fa9d5630",
   "metadata": {},
   "source": [
    "<b>Double Machine Learning (DML)</b> <br>\n",
    "$\n",
    "\\begin{align}\n",
    "& \\text{model_y:} \\\\\n",
    "& \\bar{Y} = Y - E[Y|X, W] \\\\\n",
    "& \\bar{Y} \\text{is residual} \\\\\n",
    "& \\text{model_t:} \\\\\n",
    "& \\bar{T} = T - E[T|X, W] \\\\\n",
    "& \\bar{Y} \\text{is residual} \\\\\n",
    "& \\text{model_final:} \\\\\n",
    "& \\text{estimator for } \\bar{Y} \\text{ and } \\bar{T} \\\\\n",
    "& Y=T*\\theta(X)+f(X,W) ~ \\text{linear final layer model}\n",
    "\\end{align}\n",
    "$"
   ]
  },
  {
   "cell_type": "code",
   "execution_count": 12,
   "id": "b2f2d938-66eb-4650-947b-6ff5dfda9057",
   "metadata": {},
   "outputs": [],
   "source": [
    "dml_train_Y = sales_df_train['Weekly_Sales']\n",
    "dml_train_T = sales_df_train['Type']\n",
    "dml_train_W = None\n",
    "dml_train_Z = None\n",
    "dml_train_X = sales_df_train[['Dept', 'IsHoliday', 'Temperature', 'Fuel_Price', 'CPI']]\n",
    "cat_cols_name = [0, 1] # ['Dept', 'IsHoliday']"
   ]
  },
  {
   "cell_type": "code",
   "execution_count": 13,
   "id": "fc491435-30b3-4a33-b6b1-efbedccbdad8",
   "metadata": {},
   "outputs": [],
   "source": [
    "dml_est = DML(\n",
    "                model_y = HistGradientBoostingRegressor(random_state=42, categorical_features=cat_cols_name),\n",
    "                model_t = HistGradientBoostingClassifier(random_state=42, categorical_features=cat_cols_name),\n",
    "                model_final = ElasticNetCV(fit_intercept=False),\n",
    "                discrete_treatment=True\n",
    "            )"
   ]
  },
  {
   "cell_type": "code",
   "execution_count": 14,
   "id": "8528837c-2e71-4c0b-8d44-6a5d57bead90",
   "metadata": {},
   "outputs": [
    {
     "data": {
      "text/plain": [
       "<econml.dml.dml.DML at 0x7f88d95550d0>"
      ]
     },
     "execution_count": 14,
     "metadata": {},
     "output_type": "execute_result"
    }
   ],
   "source": [
    "dml_est.fit(dml_train_Y, dml_train_T, X=dml_train_X, W=dml_train_W)"
   ]
  },
  {
   "cell_type": "code",
   "execution_count": 15,
   "id": "ba8a8a29-4e46-4c5b-94e5-4a53b61d6d92",
   "metadata": {},
   "outputs": [
    {
     "name": "stderr",
     "output_type": "stream",
     "text": [
      "Final model doesn't have a `coef_stderr_` and `intercept_stderr_` attributes, only point estimates will be available.\n",
      "Final model doesn't have a `coef_stderr_` and `intercept_stderr_` attributes, only point estimates will be available.\n"
     ]
    },
    {
     "data": {
      "text/html": [
       "<table class=\"simpletable\">\n",
       "<caption>Coefficient Results</caption>\n",
       "<tr>\n",
       "           <td></td>          <th>point_estimate</th>\n",
       "</tr>\n",
       "<tr>\n",
       "  <th>Dept|Type_1</th>           <td>-119.858</td>   \n",
       "</tr>\n",
       "<tr>\n",
       "  <th>Dept|Type_2</th>            <td>-17.629</td>   \n",
       "</tr>\n",
       "<tr>\n",
       "  <th>IsHoliday|Type_1</th>         <td>0.0</td>     \n",
       "</tr>\n",
       "<tr>\n",
       "  <th>IsHoliday|Type_2</th>        <td>-0.0</td>     \n",
       "</tr>\n",
       "<tr>\n",
       "  <th>Temperature|Type_1</th>     <td>37.481</td>    \n",
       "</tr>\n",
       "<tr>\n",
       "  <th>Temperature|Type_2</th>     <td>-37.832</td>   \n",
       "</tr>\n",
       "<tr>\n",
       "  <th>Fuel_Price|Type_1</th>       <td>1.142</td>    \n",
       "</tr>\n",
       "<tr>\n",
       "  <th>Fuel_Price|Type_2</th>      <td>-1.881</td>    \n",
       "</tr>\n",
       "<tr>\n",
       "  <th>CPI|Type_1</th>             <td>-37.093</td>   \n",
       "</tr>\n",
       "<tr>\n",
       "  <th>CPI|Type_2</th>             <td>-70.069</td>   \n",
       "</tr>\n",
       "</table>\n",
       "<table class=\"simpletable\">\n",
       "<caption>CATE Intercept Results</caption>\n",
       "<tr>\n",
       "            <td></td>            <th>point_estimate</th>\n",
       "</tr>\n",
       "<tr>\n",
       "  <th>cate_intercept|Type_1</th>       <td>0.0</td>     \n",
       "</tr>\n",
       "<tr>\n",
       "  <th>cate_intercept|Type_2</th>      <td>-0.0</td>     \n",
       "</tr>\n",
       "</table><br/><br/><sub>A linear parametric conditional average treatment effect (CATE) model was fitted:<br/>$Y = \\Theta(X)\\cdot T + g(X, W) + \\epsilon$<br/>where for every outcome $i$ and treatment $j$ the CATE $\\Theta_{ij}(X)$ has the form:<br/>$\\Theta_{ij}(X) = X' coef_{ij} + cate\\_intercept_{ij}$<br/>Coefficient Results table portrays the $coef_{ij}$ parameter vector for each outcome $i$ and treatment $j$. Intercept Results table portrays the $cate\\_intercept_{ij}$ parameter.</sub>"
      ],
      "text/plain": [
       "<class 'econml.utilities.Summary'>\n",
       "\"\"\"\n",
       "       Coefficient Results       \n",
       "=================================\n",
       "                   point_estimate\n",
       "---------------------------------\n",
       "Dept|Type_1              -119.858\n",
       "Dept|Type_2               -17.629\n",
       "IsHoliday|Type_1              0.0\n",
       "IsHoliday|Type_2             -0.0\n",
       "Temperature|Type_1         37.481\n",
       "Temperature|Type_2        -37.832\n",
       "Fuel_Price|Type_1           1.142\n",
       "Fuel_Price|Type_2          -1.881\n",
       "CPI|Type_1                -37.093\n",
       "CPI|Type_2                -70.069\n",
       "       CATE Intercept Results       \n",
       "====================================\n",
       "                      point_estimate\n",
       "------------------------------------\n",
       "cate_intercept|Type_1            0.0\n",
       "cate_intercept|Type_2           -0.0\n",
       "------------------------------------\n",
       "\n",
       "<sub>A linear parametric conditional average treatment effect (CATE) model was fitted:\n",
       "$Y = \\Theta(X)\\cdot T + g(X, W) + \\epsilon$\n",
       "where for every outcome $i$ and treatment $j$ the CATE $\\Theta_{ij}(X)$ has the form:\n",
       "$\\Theta_{ij}(X) = X' coef_{ij} + cate\\_intercept_{ij}$\n",
       "Coefficient Results table portrays the $coef_{ij}$ parameter vector for each outcome $i$ and treatment $j$. Intercept Results table portrays the $cate\\_intercept_{ij}$ parameter.</sub>\n",
       "\"\"\""
      ]
     },
     "execution_count": 15,
     "metadata": {},
     "output_type": "execute_result"
    }
   ],
   "source": [
    "dml_est.summary()"
   ]
  },
  {
   "cell_type": "code",
   "execution_count": 16,
   "id": "2b59d389-312b-40df-8cdc-7c040ed55ad4",
   "metadata": {},
   "outputs": [
    {
     "name": "stdout",
     "output_type": "stream",
     "text": [
      "features: ['Dept', 'IsHoliday', 'Temperature', 'Fuel_Price', 'CPI'], output: ['Weekly_Sales'], treatment: ['Type_1', 'Type_2']\n"
     ]
    }
   ],
   "source": [
    "print(f\"features: {dml_est.cate_feature_names()}, output: {dml_est.cate_output_names()}, treatment: {dml_est.cate_treatment_names()}\")"
   ]
  },
  {
   "cell_type": "code",
   "execution_count": 17,
   "id": "7cd11cc9-14b7-45c2-bf56-48cbf1bee789",
   "metadata": {},
   "outputs": [],
   "source": [
    "dml_test_T = sales_df_test['Type'].copy()\n",
    "dml_test_W = None\n",
    "dml_test_Z = None\n",
    "dml_test_X = sales_df_test[['Dept', 'IsHoliday', 'Temperature', 'Fuel_Price', 'CPI']].copy()"
   ]
  },
  {
   "cell_type": "code",
   "execution_count": 18,
   "id": "0334d756-997e-4809-a996-1f2f9566dacb",
   "metadata": {},
   "outputs": [
    {
     "name": "stdout",
     "output_type": "stream",
     "text": [
      "    Dept  IsHoliday  Temperature  Fuel_Price         CPI\n",
      "2      4          1        76.67       4.087  129.062355\n",
      "4     52          1        45.12       2.841  126.436419\n",
      "5     49          1        77.30       3.563  129.112500\n",
      "8     33          1        86.13       3.594  218.450940\n",
      "13    97          1        42.74       3.619  130.645793\n",
      "25    35          1        77.16       3.570  129.066300\n",
      "0     40          1        50.43       3.599  130.157516\n",
      "19    97          1        81.76       3.311  220.614875\n",
      "90    32          1        71.17       3.617  223.774444\n",
      "43    19          1        79.14       3.263  130.701290\n"
     ]
    }
   ],
   "source": [
    "dml_test_seg = dml_test_X.iloc[[2, 4, 5, 8, 13, 25, 0, 19, 90, 43]].copy()\n",
    "# dml_test_seg.reset_index(inplace = True)\n",
    "print(dml_test_seg)"
   ]
  },
  {
   "cell_type": "code",
   "execution_count": 19,
   "id": "f3eed3f4-2be7-4fc6-baa8-2d50d8fb66db",
   "metadata": {},
   "outputs": [
    {
     "name": "stderr",
     "output_type": "stream",
     "text": [
      "Final model doesn't have a `prediction_stderr` method, only point estimates will be returned.\n",
      "Final model doesn't have a `prediction_stderr` method, only point estimates will be returned.\n",
      "Final model doesn't have a `prediction_stderr` method, only point estimates will be returned.\n"
     ]
    },
    {
     "data": {
      "text/html": [
       "<div>\n",
       "<style scoped>\n",
       "    .dataframe tbody tr th:only-of-type {\n",
       "        vertical-align: middle;\n",
       "    }\n",
       "\n",
       "    .dataframe tbody tr th {\n",
       "        vertical-align: top;\n",
       "    }\n",
       "\n",
       "    .dataframe thead th {\n",
       "        text-align: right;\n",
       "    }\n",
       "</style>\n",
       "<table border=\"1\" class=\"dataframe\">\n",
       "  <thead>\n",
       "    <tr style=\"text-align: right;\">\n",
       "      <th></th>\n",
       "      <th>point_estimate</th>\n",
       "      <th>point_estimate</th>\n",
       "      <th>point_estimate</th>\n",
       "    </tr>\n",
       "    <tr>\n",
       "      <th>X</th>\n",
       "      <th></th>\n",
       "      <th></th>\n",
       "      <th></th>\n",
       "    </tr>\n",
       "  </thead>\n",
       "  <tbody>\n",
       "    <tr>\n",
       "      <th>0</th>\n",
       "      <td>-2388.360</td>\n",
       "      <td>-12022.055</td>\n",
       "      <td>-9633.695</td>\n",
       "    </tr>\n",
       "    <tr>\n",
       "      <th>1</th>\n",
       "      <td>-9228.088</td>\n",
       "      <td>-11488.294</td>\n",
       "      <td>-2260.206</td>\n",
       "    </tr>\n",
       "    <tr>\n",
       "      <th>2</th>\n",
       "      <td>-7760.801</td>\n",
       "      <td>-12841.707</td>\n",
       "      <td>-5080.907</td>\n",
       "    </tr>\n",
       "    <tr>\n",
       "      <th>3</th>\n",
       "      <td>-8825.905</td>\n",
       "      <td>-19153.623</td>\n",
       "      <td>-10327.718</td>\n",
       "    </tr>\n",
       "    <tr>\n",
       "      <th>4</th>\n",
       "      <td>-14866.138</td>\n",
       "      <td>-12487.955</td>\n",
       "      <td>2378.183</td>\n",
       "    </tr>\n",
       "    <tr>\n",
       "      <th>5</th>\n",
       "      <td>-6086.319</td>\n",
       "      <td>-12586.385</td>\n",
       "      <td>-6500.066</td>\n",
       "    </tr>\n",
       "    <tr>\n",
       "      <th>6</th>\n",
       "      <td>-7727.930</td>\n",
       "      <td>-11739.797</td>\n",
       "      <td>-4011.867</td>\n",
       "    </tr>\n",
       "    <tr>\n",
       "      <th>7</th>\n",
       "      <td>-16741.181</td>\n",
       "      <td>-20267.626</td>\n",
       "      <td>-3526.445</td>\n",
       "    </tr>\n",
       "    <tr>\n",
       "      <th>8</th>\n",
       "      <td>-9464.208</td>\n",
       "      <td>-18943.086</td>\n",
       "      <td>-9478.877</td>\n",
       "    </tr>\n",
       "    <tr>\n",
       "      <th>9</th>\n",
       "      <td>-4155.380</td>\n",
       "      <td>-12493.218</td>\n",
       "      <td>-8337.838</td>\n",
       "    </tr>\n",
       "  </tbody>\n",
       "</table>\n",
       "</div>"
      ],
      "text/plain": [
       "   point_estimate  point_estimate  point_estimate\n",
       "X                                                \n",
       "0       -2388.360      -12022.055       -9633.695\n",
       "1       -9228.088      -11488.294       -2260.206\n",
       "2       -7760.801      -12841.707       -5080.907\n",
       "3       -8825.905      -19153.623      -10327.718\n",
       "4      -14866.138      -12487.955        2378.183\n",
       "5       -6086.319      -12586.385       -6500.066\n",
       "6       -7727.930      -11739.797       -4011.867\n",
       "7      -16741.181      -20267.626       -3526.445\n",
       "8       -9464.208      -18943.086       -9478.877\n",
       "9       -4155.380      -12493.218       -8337.838"
      ]
     },
     "execution_count": 19,
     "metadata": {},
     "output_type": "execute_result"
    }
   ],
   "source": [
    "'''\n",
    "# Calculate the heterogeneous treatment effect (.effect() result same)\n",
    "# The treatment effect is the estimated average effect on Y from moving from T=0 to T=1, given X.\n",
    "# The treatment effect is the estimated average effect on Y from moving from T=0 to T=2, given X.\n",
    "# The treatment effect is the estimated average effect on Y from moving from T=1 to T=2, given X.\n",
    "'''\n",
    "dml_est_effect_01 = dml_est.effect_inference(dml_test_seg, T0=0, T1=1).summary_frame()\n",
    "dml_est_effect_02 = dml_est.effect_inference(dml_test_seg, T0=0, T1=2).summary_frame()\n",
    "dml_est_effect_12 = dml_est.effect_inference(dml_test_seg, T0=1, T1=2).summary_frame()\n",
    "pd.concat([dml_est_effect_01, dml_est_effect_02, dml_est_effect_12], axis=1)"
   ]
  },
  {
   "cell_type": "code",
   "execution_count": 20,
   "id": "087b0206-e245-4e75-9775-30d3706bdc45",
   "metadata": {},
   "outputs": [
    {
     "name": "stdout",
     "output_type": "stream",
     "text": [
      "-8724.430977726533\n",
      "-14402.374694251723\n",
      "-5677.9437165251875\n"
     ]
    }
   ],
   "source": [
    "'''\n",
    "It is avg of the heterogeneous treatment effect\n",
    "(-2452.68684025 + -9247.30240787 + -7797.68497189 + -8897.88185871 + -14857.55620653 + -6131.75032643 + -7757.96018019 + -16772.17168246 + -9531.01731438 + -4211.9654078) / 10\n",
    "(-12055.10096963 + -11552.18220685 + -12905.62839696 + -19225.4687011 + -12583.42088366 + -12640.69874982 + -11796.4801773 + -20383.55785019 + -19014.62893278 + -12537.00599772) / 10\n",
    "(-9602.41412939 + -2304.87979898 + -5107.94342507 + -10327.58684239 + 2274.13532287 + -6508.94842339 + -4038.51999712 + -3611.38616773 + -9483.6116184 + -8325.04058993) / 10\n",
    "'''\n",
    "print(dml_est.ate(dml_test_seg, T0=0, T1=1))\n",
    "print(dml_est.ate(dml_test_seg, T0=0, T1=2))\n",
    "print(dml_est.ate(dml_test_seg, T0=1, T1=2))"
   ]
  },
  {
   "cell_type": "code",
   "execution_count": 41,
   "id": "a2547d6b-8f3b-4ea4-a1c3-9528f0c1d86d",
   "metadata": {},
   "outputs": [
    {
     "name": "stdout",
     "output_type": "stream",
     "text": [
      "[[ -2388.35985059 -12022.05469621]\n",
      " [ -9228.0877648  -11488.29383954]\n",
      " [ -7760.80077149 -12841.70740953]\n",
      " [ -8825.90539628 -19153.62340299]\n",
      " [-14866.13838809 -12487.95528623]\n",
      " [ -6086.31896786 -12586.38533386]\n",
      " [ -7727.92958151 -11739.79689035]\n",
      " [-16741.18076907 -20267.62625791]\n",
      " [ -9464.20816466 -18943.08560711]\n",
      " [ -4155.38012291 -12493.2182188 ]]\n"
     ]
    }
   ],
   "source": [
    "'''\n",
    "# Calculate the heterogeneous marginal effect\n",
    "# The marginal effect is calculated around a base treatment point and averaged over the population of X.\n",
    "\n",
    "First column,\n",
    "moving 100% from control (T0) to T1 ~ it is same as dml_est_effect_01\n",
    "Second column,\n",
    "moving 100% from control (T0) to T2 ~ it is same as dml_est_effect_02\n",
    "\n",
    "Moving 100% from T1 to T2 ~ means ~ moving 100% from T1 to control and then 100% from control to T2.\n",
    "dml_est_effect_12 = second column - first column\n",
    "'''\n",
    "dml_marginal_effect = np.array(dml_est.marginal_effect(T=0, X=dml_test_seg))\n",
    "print(dml_marginal_effect)"
   ]
  },
  {
   "cell_type": "code",
   "execution_count": 44,
   "id": "07443f01-4243-455e-8c70-fc0499ebb14a",
   "metadata": {},
   "outputs": [
    {
     "name": "stdout",
     "output_type": "stream",
     "text": [
      "[ -9633.69484563  -2260.20607474  -5080.90663804 -10327.7180067\n",
      "   2378.18310186  -6500.066366    -4011.86730883  -3526.44548885\n",
      "  -9478.87744245  -8337.83809588]\n"
     ]
    }
   ],
   "source": [
    "'''\n",
    "Moving 100% from T1 to T2 ~ means ~ moving 100% from T1 to control and then 100% from control to T2.\n",
    "dml_est_effect_12 = second column - first column\n",
    "'''\n",
    "print((dml_marginal_effect[:, 1] - dml_marginal_effect[:, 0]))"
   ]
  },
  {
   "cell_type": "code",
   "execution_count": 23,
   "id": "422b25c8-a35e-4e04-a274-33cab515b1af",
   "metadata": {},
   "outputs": [
    {
     "data": {
      "text/plain": [
       "array([[ -2388.35985059, -12022.05469621],\n",
       "       [ -9228.0877648 , -11488.29383954],\n",
       "       [ -7760.80077149, -12841.70740953],\n",
       "       [ -8825.90539628, -19153.62340299],\n",
       "       [-14866.13838809, -12487.95528623],\n",
       "       [ -6086.31896786, -12586.38533386],\n",
       "       [ -7727.92958151, -11739.79689035],\n",
       "       [-16741.18076907, -20267.62625791],\n",
       "       [ -9464.20816466, -18943.08560711],\n",
       "       [ -4155.38012291, -12493.2182188 ]])"
      ]
     },
     "execution_count": 23,
     "metadata": {},
     "output_type": "execute_result"
    }
   ],
   "source": [
    "# Calculate the average constant marginal CATE \n",
    "# If treatment_featurizer is None, the base treatment is ignored in this calculation and the result is equivalent to marginal_effect.\n",
    "dml_est.const_marginal_effect(X=dml_test_seg)"
   ]
  },
  {
   "cell_type": "code",
   "execution_count": 379,
   "id": "d3f7d82e-1fa9-45e8-a0a6-736c58c13ab0",
   "metadata": {},
   "outputs": [
    {
     "name": "stdout",
     "output_type": "stream",
     "text": [
      "[ -8765.79771965 -14469.4172866 ]\n"
     ]
    }
   ],
   "source": [
    "'''\n",
    "# Calculate the average marginal effect \n",
    "# The marginal effect is calculated around a base treatment point and averaged over the population of X.\n",
    "# # If treatment_featurizer is None, the base treatment is ignored in this calculation and the result is equivalent to const_marginal_effect.\n",
    "(-2452.68684025 + -9247.30240787 + -7797.68497189 + -8897.88185871 + -14857.55620653 + -6131.75032643 + -7757.96018019 + -16772.17168246 + -9531.01731438 + -4211.9654078) / 10\n",
    "(-12055.10096963 + -11552.18220685 + -12905.62839696 + -19225.4687011 + -12583.42088366 + -12640.69874982 + -11796.4801773 + -20383.55785019 + -19014.62893278 + -12537.00599772) / 10\n",
    "'''\n",
    "print(dml_est.marginal_ate(T=0, X=dml_test_seg))"
   ]
  },
  {
   "cell_type": "code",
   "execution_count": 380,
   "id": "40a362a5-0aac-4c57-91cb-8ed9c6a84ee0",
   "metadata": {},
   "outputs": [
    {
     "data": {
      "text/plain": [
       "array([ -8765.79771965, -14469.4172866 ])"
      ]
     },
     "execution_count": 380,
     "metadata": {},
     "output_type": "execute_result"
    }
   ],
   "source": [
    "# Calculate the average constant marginal CATE \n",
    "dml_est.const_marginal_ate(X=dml_test_seg)"
   ]
  },
  {
   "cell_type": "code",
   "execution_count": 404,
   "id": "de85ff66-0b33-4bea-aa4a-fe6afb42b4c7",
   "metadata": {},
   "outputs": [
    {
     "name": "stdout",
     "output_type": "stream",
     "text": [
      "    Dept  IsHoliday  Temperature  Fuel_Price         CPI\n",
      "2      4          1        76.67       4.087  129.062355\n",
      "4     52          1        45.12       2.841  126.436419\n",
      "5     49          1        77.30       3.563  129.112500\n",
      "8     33          1        86.13       3.594  218.450940\n",
      "13    97          1        42.74       3.619  130.645793\n",
      "25    35          1        77.16       3.570  129.066300\n",
      "0     40          1        50.43       3.599  130.157516\n",
      "19    97          1        81.76       3.311  220.614875\n",
      "90    32          1        71.17       3.617  223.774444\n",
      "43    19          1        79.14       3.263  130.701290\n"
     ]
    },
    {
     "data": {
      "image/png": "[encoded data removed]",
      "text/plain": [
       "<Figure size 1440x432 with 15 Axes>"
      ]
     },
     "metadata": {
      "needs_background": "light"
     },
     "output_type": "display_data"
    }
   ],
   "source": [
    "print(dml_test_seg)\n",
    "plot_dml_test_seg_effect_01 = dml_est.effect(dml_test_seg, T0=0, T1=1)\n",
    "plot_dml_test_seg_effect_02 = dml_est.effect(dml_test_seg, T0=0, T1=2)\n",
    "plot_dml_test_seg_effect_03 = dml_est.effect(dml_test_seg, T0=1, T1=2)\n",
    "\n",
    "\n",
    "fig, axes = plt.subplots(nrows=5, ncols=3, figsize=(20,6))\n",
    "\n",
    "axes[0, 0].plot(dml_test_seg['Dept'], plot_dml_test_seg_effect_01, label='DML_DEPT_TYPE_01')\n",
    "axes[0, 0].set(xlabel = 'DEPT', ylabel = 'Treatment Effect')\n",
    "axes[0, 0].legend()\n",
    "\n",
    "axes[0, 1].plot(dml_test_seg['Dept'], plot_dml_test_seg_effect_02, label='DML_DEPT_TYPE_02')\n",
    "axes[0, 1].set(xlabel = 'DEPT', ylabel = 'Treatment Effect')\n",
    "axes[0, 1].legend()\n",
    "\n",
    "axes[0, 2].plot(dml_test_seg['Dept'], plot_dml_test_seg_effect_03, label='DML_DEPT_TYPE_12')\n",
    "axes[0, 2].set(xlabel = 'DEPT', ylabel = 'Treatment Effect')\n",
    "axes[0, 2].legend()\n",
    "\n",
    "axes[1, 0].plot(dml_test_seg['IsHoliday'], plot_dml_test_seg_effect_01, label='DML_IsHoliday_TYPE_01')\n",
    "axes[1, 0].set(xlabel = 'IsHoliday', ylabel = 'Treatment Effect')\n",
    "axes[1, 0].legend()\n",
    "\n",
    "axes[1, 1].plot(dml_test_seg['IsHoliday'], plot_dml_test_seg_effect_02, label='DML_IsHoliday_TYPE_02')\n",
    "axes[1, 1].set(xlabel = 'IsHoliday', ylabel = 'Treatment Effect')\n",
    "axes[1, 1].legend()\n",
    "\n",
    "axes[1, 2].plot(dml_test_seg['IsHoliday'], plot_dml_test_seg_effect_03, label='DML_IsHoliday_TYPE_12')\n",
    "axes[1, 2].set(xlabel = 'IsHoliday', ylabel = 'Treatment Effect')\n",
    "axes[1, 2].legend()\n",
    "\n",
    "axes[2, 0].plot(dml_test_seg['Temperature'], plot_dml_test_seg_effect_01, label='DML_Temperature_TYPE_01')\n",
    "axes[2, 0].set(xlabel = 'Temperature', ylabel = 'Treatment Effect')\n",
    "axes[2, 0].legend()\n",
    "\n",
    "axes[2, 1].plot(dml_test_seg['Temperature'], plot_dml_test_seg_effect_02, label='DML_Temperature_TYPE_02')\n",
    "axes[2, 1].set(xlabel = 'Temperature', ylabel = 'Treatment Effect')\n",
    "axes[2, 1].legend()\n",
    "\n",
    "axes[2, 2].plot(dml_test_seg['Temperature'], plot_dml_test_seg_effect_03, label='DML_Temperature_TYPE_12')\n",
    "axes[2, 2].set(xlabel = 'Temperature', ylabel = 'Treatment Effect')\n",
    "axes[2, 2].legend()\n",
    "\n",
    "axes[3, 0].plot(dml_test_seg['Fuel_Price'], plot_dml_test_seg_effect_01, label='DML_Fuel_Price_TYPE_01')\n",
    "axes[3, 0].set(xlabel = 'Fuel_Price', ylabel = 'Treatment Effect')\n",
    "axes[3, 0].legend()\n",
    "\n",
    "axes[3, 1].plot(dml_test_seg['Fuel_Price'], plot_dml_test_seg_effect_02, label='DML_Fuel_Price_TYPE_02')\n",
    "axes[3, 1].set(xlabel = 'Fuel_Price', ylabel = 'Treatment Effect')\n",
    "axes[3, 1].legend()\n",
    "\n",
    "axes[3, 2].plot(dml_test_seg['Fuel_Price'], plot_dml_test_seg_effect_03, label='DML_Fuel_Price_TYPE_12')\n",
    "axes[3, 2].set(xlabel = 'Fuel_Price', ylabel = 'Treatment Effect')\n",
    "axes[3, 2].legend()\n",
    "\n",
    "axes[4, 0].plot(dml_test_seg['CPI'], plot_dml_test_seg_effect_01, label='DML_CPI_TYPE_01')\n",
    "axes[4, 0].set(xlabel = 'CPI', ylabel = 'Treatment Effect')\n",
    "axes[4, 0].legend()\n",
    "\n",
    "axes[4, 1].plot(dml_test_seg['CPI'], plot_dml_test_seg_effect_02, label='DML_CPI_TYPE_02')\n",
    "axes[4, 1].set(xlabel = 'CPI', ylabel = 'Treatment Effect')\n",
    "axes[4, 1].legend()\n",
    "\n",
    "axes[4, 2].plot(dml_test_seg['CPI'], plot_dml_test_seg_effect_03, label='DML_CPI_TYPE_12')\n",
    "axes[4, 2].set(xlabel = 'CPI', ylabel = 'Treatment Effect')\n",
    "axes[4, 2].legend()\n",
    "\n",
    "fig.tight_layout()"
   ]
  },
  {
   "cell_type": "code",
   "execution_count": 397,
   "id": "c29218f7-b952-4b69-a524-81618fec2fe5",
   "metadata": {},
   "outputs": [
    {
     "name": "stderr",
     "output_type": "stream",
     "text": [
      "X has feature names, but FunctionTransformer was fitted without feature names\n"
     ]
    },
    {
     "data": {
      "image/png": "[encoded data removed]",
      "text/plain": [
       "<Figure size 576x252 with 2 Axes>"
      ]
     },
     "metadata": {
      "needs_background": "light"
     },
     "output_type": "display_data"
    },
    {
     "data": {
      "image/png": "[encoded data removed]",
      "text/plain": [
       "<Figure size 576x252 with 2 Axes>"
      ]
     },
     "metadata": {
      "needs_background": "light"
     },
     "output_type": "display_data"
    }
   ],
   "source": [
    "%matplotlib inline\n",
    "# Shap value for the final stage models (const_marginal_effect)\n",
    "dml_shap_vals = dml_est.shap_values(X=dml_test_seg, \n",
    "                                    feature_names=['Dept', 'IsHoliday', 'Temperature', 'Fuel_Price', 'CPI'], \n",
    "                                    treatment_names=['Type_1', 'Type_2'], \n",
    "                                    output_names=['Weekly_Sales'], \n",
    "                                    background_samples=100)\n",
    "\n",
    "\n",
    "shap.summary_plot(dml_shap_vals['Weekly_Sales']['Type_1'])\n",
    "shap.summary_plot(dml_shap_vals['Weekly_Sales']['Type_2'])"
   ]
  },
  {
   "cell_type": "markdown",
   "id": "fdbc5b35-3a64-4838-a213-70f82a8bf67a",
   "metadata": {},
   "source": [
    "#####################~~~~~~~~~~~~~~~~~~~~~~~~~~~~~####################################"
   ]
  },
  {
   "cell_type": "code",
   "execution_count": null,
   "id": "3b54fcc8-0811-4f97-83f4-06b2f910dde4",
   "metadata": {},
   "outputs": [],
   "source": []
  },
  {
   "cell_type": "code",
   "execution_count": null,
   "id": "73a1bb50-da21-42b1-b411-02fff222b594",
   "metadata": {},
   "outputs": [],
   "source": []
  },
  {
   "cell_type": "code",
   "execution_count": null,
   "id": "8d60c6c2-9f59-4fe7-9201-90be6a248b06",
   "metadata": {},
   "outputs": [],
   "source": []
  },
  {
   "cell_type": "code",
   "execution_count": null,
   "id": "67e66041-82b1-491a-a0a8-2d0b22e6deca",
   "metadata": {},
   "outputs": [],
   "source": []
  },
  {
   "cell_type": "code",
   "execution_count": null,
   "id": "fb842c51-bf7b-4fde-8813-cc8b6d2560b6",
   "metadata": {},
   "outputs": [],
   "source": []
  },
  {
   "cell_type": "code",
   "execution_count": 405,
   "id": "4df273df-7a61-45cf-b39d-8fbde4882cc9",
   "metadata": {},
   "outputs": [
    {
     "data": {
      "text/plain": [
       "array([[ -2452.68684025, -12055.10096963],\n",
       "       [ -9247.30240787, -11552.18220685],\n",
       "       [ -7797.68497189, -12905.62839696],\n",
       "       [ -8897.88185871, -19225.4687011 ],\n",
       "       [-14857.55620653, -12583.42088366],\n",
       "       [ -6131.75032643, -12640.69874982],\n",
       "       [ -7757.96018019, -11796.4801773 ],\n",
       "       [-16772.17168246, -20383.55785019],\n",
       "       [ -9531.01731438, -19014.62893278],\n",
       "       [ -4211.9654078 , -12537.00599772]])"
      ]
     },
     "execution_count": 405,
     "metadata": {},
     "output_type": "execute_result"
    }
   ],
   "source": [
    "# Calculate the heterogeneous marginal effect\n",
    "# The marginal effect is calculated around a base treatment point and averaged over the population of X.\n",
    "# So T=0 to T=1 and 2\n",
    "dml_est.marginal_effect(T=0, X=dml_test_seg)"
   ]
  },
  {
   "cell_type": "code",
   "execution_count": 406,
   "id": "7d191dbc-d11a-4a8f-93a1-a2b5b85973fb",
   "metadata": {},
   "outputs": [
    {
     "data": {
      "text/plain": [
       "array([[ -2452.68684025, -12055.10096963],\n",
       "       [ -9247.30240787, -11552.18220685],\n",
       "       [ -7797.68497189, -12905.62839696],\n",
       "       [ -8897.88185871, -19225.4687011 ],\n",
       "       [-14857.55620653, -12583.42088366],\n",
       "       [ -6131.75032643, -12640.69874982],\n",
       "       [ -7757.96018019, -11796.4801773 ],\n",
       "       [-16772.17168246, -20383.55785019],\n",
       "       [ -9531.01731438, -19014.62893278],\n",
       "       [ -4211.9654078 , -12537.00599772]])"
      ]
     },
     "execution_count": 406,
     "metadata": {},
     "output_type": "execute_result"
    }
   ],
   "source": [
    "# Calculate the heterogeneous marginal effect\n",
    "# The marginal effect is calculated around a base treatment point and averaged over the population of X.\n",
    "# So T=0 to T=1 and 2\n",
    "dml_est.marginal_effect(T=1, X=dml_test_seg)"
   ]
  },
  {
   "cell_type": "code",
   "execution_count": 407,
   "id": "572f92f9-23d9-4776-8889-8ae9bacc6f69",
   "metadata": {},
   "outputs": [
    {
     "data": {
      "text/plain": [
       "array([[ -2452.68684025, -12055.10096963],\n",
       "       [ -9247.30240787, -11552.18220685],\n",
       "       [ -7797.68497189, -12905.62839696],\n",
       "       [ -8897.88185871, -19225.4687011 ],\n",
       "       [-14857.55620653, -12583.42088366],\n",
       "       [ -6131.75032643, -12640.69874982],\n",
       "       [ -7757.96018019, -11796.4801773 ],\n",
       "       [-16772.17168246, -20383.55785019],\n",
       "       [ -9531.01731438, -19014.62893278],\n",
       "       [ -4211.9654078 , -12537.00599772]])"
      ]
     },
     "execution_count": 407,
     "metadata": {},
     "output_type": "execute_result"
    }
   ],
   "source": [
    "dml_est.marginal_effect(T=2, X=dml_test_seg)"
   ]
  },
  {
   "cell_type": "code",
   "execution_count": null,
   "id": "52aeec97-a9d3-48e3-ac6d-b1893633287a",
   "metadata": {},
   "outputs": [],
   "source": []
  },
  {
   "cell_type": "code",
   "execution_count": 409,
   "id": "7016676a-7e38-41b0-a664-ffbd40473e2d",
   "metadata": {},
   "outputs": [
    {
     "data": {
      "text/plain": [
       "array([[ -2452.68684025, -12055.10096963],\n",
       "       [ -9247.30240787, -11552.18220685],\n",
       "       [ -7797.68497189, -12905.62839696],\n",
       "       [ -8897.88185871, -19225.4687011 ],\n",
       "       [-14857.55620653, -12583.42088366],\n",
       "       [ -6131.75032643, -12640.69874982],\n",
       "       [ -7757.96018019, -11796.4801773 ],\n",
       "       [-16772.17168246, -20383.55785019],\n",
       "       [ -9531.01731438, -19014.62893278],\n",
       "       [ -4211.9654078 , -12537.00599772]])"
      ]
     },
     "execution_count": 409,
     "metadata": {},
     "output_type": "execute_result"
    }
   ],
   "source": [
    "dml_est.marginal_effect(T=120, X=dml_test_seg)"
   ]
  },
  {
   "cell_type": "code",
   "execution_count": null,
   "id": "6799df9b-6df7-4520-ada1-d185db97cc24",
   "metadata": {},
   "outputs": [],
   "source": []
  },
  {
   "cell_type": "code",
   "execution_count": null,
   "id": "230c66ed-c73e-4945-ba6e-6cd03622c4ea",
   "metadata": {},
   "outputs": [],
   "source": []
  },
  {
   "cell_type": "markdown",
   "id": "6882e1f8-ad3c-4510-ac0e-ae4a3f9b8934",
   "metadata": {},
   "source": [
    "# Resources\n",
    "1) https://aws.amazon.com/blogs/opensource/root-cause-analysis-with-dowhy-an-open-source-python-library-for-causal-machine-learning/\n",
    "2) https://www.kaggle.com/code/graymant/pytorch-regression-with-sklearn-pipelines\n",
    "3) https://www.kaggle.com/code/sermakarevich/sklearn-pipelines-tutorial\n",
    "4) https://www.kaggle.com/code/glongpan/explore-demand-system-of-avocados\n",
    "5) https://www.kaggle.com/code/aslanahmedov/walmart-sales-forecasting/input\n",
    "6) https://www.kaggle.com/code/baghern/a-deep-dive-into-sklearn-pipelines\n",
    "7) https://towardsdatascience.com/double-machine-learning-for-causal-inference-78e0c6111f9d\n",
    "8) https://matheusfacure.github.io/python-causality-handbook/landing-page.html\n",
    "9) https://machinehack.com/story/building-a-causal-inference-model-using-econml\n",
    "10) https://towardsdatascience.com/causal-machine-learning-for-econometrics-causal-forests-5ab3aec825a7\n",
    "11) https://statmodeling.stat.columbia.edu/2020/06/30/understanding-the-average-treatment-effect-number/\n",
    "12) https://www.youtube.com/watch?v=tUz2yl2QEbY&list=PLyvUJLHD8IsJCB7ALqwjRG1BjL5JxE__H"
   ]
  },
  {
   "cell_type": "code",
   "execution_count": null,
   "id": "69e4d1dc-0cc5-4081-9f84-1d817594d3dd",
   "metadata": {},
   "outputs": [],
   "source": []
  },
  {
   "cell_type": "code",
   "execution_count": null,
   "id": "2cc2e92f-9eda-4226-9f65-7100daa04260",
   "metadata": {},
   "outputs": [],
   "source": []
  },
  {
   "cell_type": "code",
   "execution_count": null,
   "id": "99490879-a926-4dd3-9a8a-4d2101616afb",
   "metadata": {},
   "outputs": [],
   "source": [
    "Continuous treatment:\n",
    "    https://github.com/py-why/EconML/issues/667\n",
    "    https://github.com/py-why/EconML/issues/714\n",
    "    https://github.com/py-why/EconML/issues/676\n",
    "    https://github.com/py-why/EconML/issues/650\n",
    "    https://github.com/py-why/EconML/issues/643\n",
    "    https://github.com/py-why/EconML/issues/614"
   ]
  }
 ],
 "metadata": {
  "kernelspec": {
   "display_name": "Python 3 (ipykernel)",
   "language": "python",
   "name": "python3"
  },
  "language_info": {
   "codemirror_mode": {
    "name": "ipython",
    "version": 3
   },
   "file_extension": ".py",
   "mimetype": "text/x-python",
   "name": "python",
   "nbconvert_exporter": "python",
   "pygments_lexer": "ipython3",
   "version": "3.7.4"
  }
 },
 "nbformat": 4,
 "nbformat_minor": 5
}
