{
 "cells": [
  {
   "cell_type": "code",
   "execution_count": null,
   "id": "359df6d6-ad1f-47a9-a207-6b954c780c7b",
   "metadata": {},
   "outputs": [],
   "source": [
    "'''\n",
    "--> For decision-making, we need to find the features that cause the outcome.\n",
    "--> Moreover, we need to find how the outcome would change if these features are changed. \n",
    "--> Causation thus can be defined as A causes B only if changes in A particularly causes changes B.\n",
    "\n",
    "'''"
   ]
  },
  {
   "cell_type": "code",
   "execution_count": null,
   "id": "29669d7f-3a75-45d9-a134-c2e1dac3d191",
   "metadata": {},
   "outputs": [],
   "source": [
    "'''\n",
    "Objective:\n",
    "   Can you determine whether the treatment causes the outcome, or the correlation is purely due to another common cause? \n",
    "'''"
   ]
  },
  {
   "cell_type": "code",
   "execution_count": null,
   "id": "e514e637-9a85-49e1-bf3e-2ffbeb930327",
   "metadata": {},
   "outputs": [],
   "source": [
    "'''\n",
    "https://www.kaggle.com/datasets/tejashvi14/engineering-placements-prediction\n",
    "'''"
   ]
  },
  {
   "cell_type": "code",
   "execution_count": 115,
   "id": "4e073936-3df7-42ac-810f-4c4b5aee38ac",
   "metadata": {},
   "outputs": [],
   "source": [
    "import pandas as pd\n",
    "import networkx as nx\n",
    "from sklearn.preprocessing import LabelEncoder\n",
    "from dowhy import gcm, CausalModel\n",
    "import numpy as np\n",
    "from networkx.drawing.nx_pydot import to_pydot\n",
    "from IPython.display import Image, display\n",
    "import matplotlib.pyplot as plt"
   ]
  },
  {
   "cell_type": "code",
   "execution_count": null,
   "id": "c1791ecb-c5c9-4f2a-bccd-5640ea943261",
   "metadata": {},
   "outputs": [],
   "source": [
    "'''\n",
    "DoWhy estimates the causal effect of a (pre-specified) treatment variable on a (pre-specified) outcome variable.\n",
    "\n",
    "'''"
   ]
  },
  {
   "cell_type": "code",
   "execution_count": 98,
   "id": "d0177c54-943e-4f9d-acd9-5d40019f9b49",
   "metadata": {},
   "outputs": [],
   "source": [
    "df = pd.read_csv('/Users/jaydeepchakraborty/JC/git-projects/model_util/DataSets/Clg_Placement/CollegePlacement.csv')"
   ]
  },
  {
   "cell_type": "code",
   "execution_count": 99,
   "id": "86cceaf9-59e7-418c-b950-f31a21eade68",
   "metadata": {},
   "outputs": [
    {
     "name": "stdout",
     "output_type": "stream",
     "text": [
      "<class 'pandas.core.frame.DataFrame'>\n",
      "RangeIndex: 2966 entries, 0 to 2965\n",
      "Data columns (total 8 columns):\n",
      " #   Column             Non-Null Count  Dtype \n",
      "---  ------             --------------  ----- \n",
      " 0   Age                2966 non-null   int64 \n",
      " 1   Gender             2966 non-null   object\n",
      " 2   Stream             2966 non-null   object\n",
      " 3   Internships        2966 non-null   int64 \n",
      " 4   CGPA               2966 non-null   int64 \n",
      " 5   Hostel             2966 non-null   int64 \n",
      " 6   HistoryOfBacklogs  2966 non-null   int64 \n",
      " 7   PlacedOrNot        2966 non-null   int64 \n",
      "dtypes: int64(6), object(2)\n",
      "memory usage: 185.5+ KB\n"
     ]
    }
   ],
   "source": [
    "df.info()"
   ]
  },
  {
   "cell_type": "code",
   "execution_count": 100,
   "id": "9f89c846-0d07-47ab-aa31-73ea34bc5833",
   "metadata": {},
   "outputs": [
    {
     "data": {
      "text/html": [
       "<div>\n",
       "<style scoped>\n",
       "    .dataframe tbody tr th:only-of-type {\n",
       "        vertical-align: middle;\n",
       "    }\n",
       "\n",
       "    .dataframe tbody tr th {\n",
       "        vertical-align: top;\n",
       "    }\n",
       "\n",
       "    .dataframe thead th {\n",
       "        text-align: right;\n",
       "    }\n",
       "</style>\n",
       "<table border=\"1\" class=\"dataframe\">\n",
       "  <thead>\n",
       "    <tr style=\"text-align: right;\">\n",
       "      <th></th>\n",
       "      <th>Age</th>\n",
       "      <th>Gender</th>\n",
       "      <th>Stream</th>\n",
       "      <th>Internships</th>\n",
       "      <th>CGPA</th>\n",
       "      <th>Hostel</th>\n",
       "      <th>HistoryOfBacklogs</th>\n",
       "      <th>PlacedOrNot</th>\n",
       "    </tr>\n",
       "  </thead>\n",
       "  <tbody>\n",
       "    <tr>\n",
       "      <th>0</th>\n",
       "      <td>22</td>\n",
       "      <td>Male</td>\n",
       "      <td>Electronics And Communication</td>\n",
       "      <td>1</td>\n",
       "      <td>8</td>\n",
       "      <td>1</td>\n",
       "      <td>1</td>\n",
       "      <td>1</td>\n",
       "    </tr>\n",
       "    <tr>\n",
       "      <th>1</th>\n",
       "      <td>21</td>\n",
       "      <td>Female</td>\n",
       "      <td>Computer Science</td>\n",
       "      <td>0</td>\n",
       "      <td>7</td>\n",
       "      <td>1</td>\n",
       "      <td>1</td>\n",
       "      <td>1</td>\n",
       "    </tr>\n",
       "    <tr>\n",
       "      <th>2</th>\n",
       "      <td>22</td>\n",
       "      <td>Female</td>\n",
       "      <td>Information Technology</td>\n",
       "      <td>1</td>\n",
       "      <td>6</td>\n",
       "      <td>0</td>\n",
       "      <td>0</td>\n",
       "      <td>1</td>\n",
       "    </tr>\n",
       "  </tbody>\n",
       "</table>\n",
       "</div>"
      ],
      "text/plain": [
       "   Age  Gender                         Stream  Internships  CGPA  Hostel  \\\n",
       "0   22    Male  Electronics And Communication            1     8       1   \n",
       "1   21  Female               Computer Science            0     7       1   \n",
       "2   22  Female         Information Technology            1     6       0   \n",
       "\n",
       "   HistoryOfBacklogs  PlacedOrNot  \n",
       "0                  1            1  \n",
       "1                  1            1  \n",
       "2                  0            1  "
      ]
     },
     "execution_count": 100,
     "metadata": {},
     "output_type": "execute_result"
    }
   ],
   "source": [
    "df.head(3)"
   ]
  },
  {
   "cell_type": "code",
   "execution_count": 101,
   "id": "bda69b36-6e65-4554-b35f-fdb34dde4604",
   "metadata": {},
   "outputs": [
    {
     "name": "stdout",
     "output_type": "stream",
     "text": [
      "['Electronics And Communication' 'Computer Science'\n",
      " 'Information Technology' 'Mechanical' 'Electrical' 'Civil']\n",
      "[3 1 4 5 2 0]\n",
      "['Electronics And Communication', 'Computer Science', 'Information Technology', 'Mechanical', 'Electrical', 'Civil']\n"
     ]
    }
   ],
   "source": [
    "unk_stream = df['Stream'].unique()\n",
    "le_stream = LabelEncoder()\n",
    "df['Stream'] = le_stream.fit_transform(df['Stream'].astype(str))\n",
    "unk_stream_id = df['Stream'].unique()\n",
    "print(unk_stream)\n",
    "print(unk_stream_id)\n",
    "print(list(le_stream.inverse_transform(unk_stream_id)))"
   ]
  },
  {
   "cell_type": "code",
   "execution_count": 102,
   "id": "95ca617d-5678-424b-9372-9bdf3679fa90",
   "metadata": {},
   "outputs": [
    {
     "data": {
      "text/html": [
       "<div>\n",
       "<style scoped>\n",
       "    .dataframe tbody tr th:only-of-type {\n",
       "        vertical-align: middle;\n",
       "    }\n",
       "\n",
       "    .dataframe tbody tr th {\n",
       "        vertical-align: top;\n",
       "    }\n",
       "\n",
       "    .dataframe thead th {\n",
       "        text-align: right;\n",
       "    }\n",
       "</style>\n",
       "<table border=\"1\" class=\"dataframe\">\n",
       "  <thead>\n",
       "    <tr style=\"text-align: right;\">\n",
       "      <th></th>\n",
       "      <th>Age</th>\n",
       "      <th>Gender</th>\n",
       "      <th>Stream</th>\n",
       "      <th>Internships</th>\n",
       "      <th>CGPA</th>\n",
       "      <th>Hostel</th>\n",
       "      <th>HistoryOfBacklogs</th>\n",
       "      <th>PlacedOrNot</th>\n",
       "    </tr>\n",
       "  </thead>\n",
       "  <tbody>\n",
       "    <tr>\n",
       "      <th>0</th>\n",
       "      <td>22</td>\n",
       "      <td>Male</td>\n",
       "      <td>3</td>\n",
       "      <td>1</td>\n",
       "      <td>8</td>\n",
       "      <td>1</td>\n",
       "      <td>1</td>\n",
       "      <td>1</td>\n",
       "    </tr>\n",
       "    <tr>\n",
       "      <th>1</th>\n",
       "      <td>21</td>\n",
       "      <td>Female</td>\n",
       "      <td>1</td>\n",
       "      <td>0</td>\n",
       "      <td>7</td>\n",
       "      <td>1</td>\n",
       "      <td>1</td>\n",
       "      <td>1</td>\n",
       "    </tr>\n",
       "    <tr>\n",
       "      <th>2</th>\n",
       "      <td>22</td>\n",
       "      <td>Female</td>\n",
       "      <td>4</td>\n",
       "      <td>1</td>\n",
       "      <td>6</td>\n",
       "      <td>0</td>\n",
       "      <td>0</td>\n",
       "      <td>1</td>\n",
       "    </tr>\n",
       "  </tbody>\n",
       "</table>\n",
       "</div>"
      ],
      "text/plain": [
       "   Age  Gender  Stream  Internships  CGPA  Hostel  HistoryOfBacklogs  \\\n",
       "0   22    Male       3            1     8       1                  1   \n",
       "1   21  Female       1            0     7       1                  1   \n",
       "2   22  Female       4            1     6       0                  0   \n",
       "\n",
       "   PlacedOrNot  \n",
       "0            1  \n",
       "1            1  \n",
       "2            1  "
      ]
     },
     "execution_count": 102,
     "metadata": {},
     "output_type": "execute_result"
    }
   ],
   "source": [
    "df.head(3)"
   ]
  },
  {
   "cell_type": "code",
   "execution_count": 103,
   "id": "8e3c42b8-84dd-42fe-8312-14a8e51891b3",
   "metadata": {},
   "outputs": [
    {
     "name": "stdout",
     "output_type": "stream",
     "text": [
      "['Male' 'Female']\n",
      "[1 0]\n",
      "['Male', 'Female']\n"
     ]
    }
   ],
   "source": [
    "unk_gender = df['Gender'].unique()\n",
    "le_gender = LabelEncoder()\n",
    "df['Gender'] = le_gender.fit_transform(df['Gender'].astype(str))\n",
    "unk_gender_id = df['Gender'].unique()\n",
    "print(unk_gender)\n",
    "print(unk_gender_id)\n",
    "print(list(le_gender.inverse_transform(unk_gender_id)))"
   ]
  },
  {
   "cell_type": "code",
   "execution_count": 104,
   "id": "59c5c380-d5ce-427d-8dff-570d84d2ad61",
   "metadata": {},
   "outputs": [
    {
     "data": {
      "text/html": [
       "<div>\n",
       "<style scoped>\n",
       "    .dataframe tbody tr th:only-of-type {\n",
       "        vertical-align: middle;\n",
       "    }\n",
       "\n",
       "    .dataframe tbody tr th {\n",
       "        vertical-align: top;\n",
       "    }\n",
       "\n",
       "    .dataframe thead th {\n",
       "        text-align: right;\n",
       "    }\n",
       "</style>\n",
       "<table border=\"1\" class=\"dataframe\">\n",
       "  <thead>\n",
       "    <tr style=\"text-align: right;\">\n",
       "      <th></th>\n",
       "      <th>Age</th>\n",
       "      <th>Gender</th>\n",
       "      <th>Stream</th>\n",
       "      <th>Internships</th>\n",
       "      <th>CGPA</th>\n",
       "      <th>Hostel</th>\n",
       "      <th>HistoryOfBacklogs</th>\n",
       "      <th>PlacedOrNot</th>\n",
       "    </tr>\n",
       "  </thead>\n",
       "  <tbody>\n",
       "    <tr>\n",
       "      <th>0</th>\n",
       "      <td>22</td>\n",
       "      <td>1</td>\n",
       "      <td>3</td>\n",
       "      <td>1</td>\n",
       "      <td>8</td>\n",
       "      <td>1</td>\n",
       "      <td>1</td>\n",
       "      <td>1</td>\n",
       "    </tr>\n",
       "    <tr>\n",
       "      <th>1</th>\n",
       "      <td>21</td>\n",
       "      <td>0</td>\n",
       "      <td>1</td>\n",
       "      <td>0</td>\n",
       "      <td>7</td>\n",
       "      <td>1</td>\n",
       "      <td>1</td>\n",
       "      <td>1</td>\n",
       "    </tr>\n",
       "    <tr>\n",
       "      <th>2</th>\n",
       "      <td>22</td>\n",
       "      <td>0</td>\n",
       "      <td>4</td>\n",
       "      <td>1</td>\n",
       "      <td>6</td>\n",
       "      <td>0</td>\n",
       "      <td>0</td>\n",
       "      <td>1</td>\n",
       "    </tr>\n",
       "  </tbody>\n",
       "</table>\n",
       "</div>"
      ],
      "text/plain": [
       "   Age  Gender  Stream  Internships  CGPA  Hostel  HistoryOfBacklogs  \\\n",
       "0   22       1       3            1     8       1                  1   \n",
       "1   21       0       1            0     7       1                  1   \n",
       "2   22       0       4            1     6       0                  0   \n",
       "\n",
       "   PlacedOrNot  \n",
       "0            1  \n",
       "1            1  \n",
       "2            1  "
      ]
     },
     "execution_count": 104,
     "metadata": {},
     "output_type": "execute_result"
    }
   ],
   "source": [
    "df.head(3)"
   ]
  },
  {
   "cell_type": "markdown",
   "id": "c6afc787-3548-4fce-8627-9345fdd686be",
   "metadata": {},
   "source": [
    "## STEP_1: Modeling"
   ]
  },
  {
   "cell_type": "markdown",
   "id": "fef052e8-f9a2-4e0e-9c6c-234ce44f2169",
   "metadata": {},
   "source": [
    "THere are two ways this step can be done. <br>\n",
    "1) Provide a causal graph in either gml or dot format. Can be a text file or a string. <br>\n",
    "2) Instead of the graph, provide variable names that correspond to relevant categories, <br>\n",
    "such as common causes, instrumental variables etc. <br>\n",
    "<br>\n",
    "According to dowhy documentation providing causal graph is recommended."
   ]
  },
  {
   "cell_type": "markdown",
   "id": "58590738-acca-4d1f-86dd-cdb2fc9eaa2b",
   "metadata": {},
   "source": [
    "### STEP_1.a: Modeling with causal graph"
   ]
  },
  {
   "cell_type": "code",
   "execution_count": 105,
   "id": "8e34ca44-40b2-47eb-94e0-53edc0d965f3",
   "metadata": {},
   "outputs": [
    {
     "data": {
      "text/plain": [
       "'\\n1) From the features list down all the assumtions.\\n2) From the assumtions generate the causal graph.\\nTo create a causal graph dagitty [http://dagitty.net/dags.html#] tool will help. [not needed , follow syntax]\\n'"
      ]
     },
     "execution_count": 105,
     "metadata": {},
     "output_type": "execute_result"
    }
   ],
   "source": [
    "'''\n",
    "1) From the features list down all the assumtions.\n",
    "2) From the assumtions generate the causal graph.\n",
    "To create a causal graph dagitty [http://dagitty.net/dags.html#] tool will help. [not needed , follow syntax]\n",
    "'''"
   ]
  },
  {
   "cell_type": "markdown",
   "id": "cdd8badb-6dd8-4620-8eb8-154b83b5d0e6",
   "metadata": {},
   "source": [
    "--> Assumptions\n",
    "1) \"Internships\" directly effects \"PlacedOrNot\".\n",
    "2) \"CGPA\" directly effects \"PlacedOrNot\".\n",
    "3) \"Stream\" will effect both \"Internships\" and \"CGPA\".\n",
    "4) \"HistoryOfBacklogs\" will effect \"CGPA\" and \"Internships\".\n",
    "5) \"Hostel\" will effect on \"CGPA\"\n",
    "6) \"Age\" will effect \"HistoryOfBacklogs\" and \"Internships\".\n",
    "7) \"Gender\" will effect on \"Stream\""
   ]
  },
  {
   "cell_type": "code",
   "execution_count": 106,
   "id": "138d85ac-9cb5-47ab-908d-fa5a82d82c13",
   "metadata": {},
   "outputs": [],
   "source": [
    "causal_graph = \"\"\"digraph{\n",
    "Age[label=\"age\"];\n",
    "Gender[label=\"gender\"];\n",
    "Stream[label=\"stream\"];\n",
    "Internships[label=\"internship\"];\n",
    "CGPA[label=\"CGPA\"];\n",
    "Hostel[label=\"hostel\"];\n",
    "HistoryOfBacklogs[label=\"backlogs\"];\n",
    "PlacedOrNot[label=\"palced?\"];\n",
    "Internships->PlacedOrNot;\n",
    "CGPA->PlacedOrNot;\n",
    "Stream->Internships;\n",
    "Stream->CGPA;\n",
    "HistoryOfBacklogs->CGPA;\n",
    "HistoryOfBacklogs->Internships;\n",
    "Hostel->CGPA;\n",
    "Age->HistoryOfBacklogs;\n",
    "Age->Internships;\n",
    "Gender->Stream;\n",
    "}\"\"\""
   ]
  },
  {
   "cell_type": "code",
   "execution_count": 107,
   "id": "9ac093c1-a927-40aa-a360-132e00dd4688",
   "metadata": {},
   "outputs": [],
   "source": [
    "model=CausalModel(\n",
    "        data = df,\n",
    "        treatment=[\"Stream\"],\n",
    "        outcome=[\"PlacedOrNot\"],\n",
    "        graph=causal_graph.replace(\"\\n\",\" \")\n",
    "        )"
   ]
  },
  {
   "cell_type": "code",
   "execution_count": 108,
   "id": "33437dfb-e5e1-431a-bbcc-21fda42e13fa",
   "metadata": {},
   "outputs": [
    {
     "data": {
      "image/png": "[encoded data removed]",
      "text/plain": [
       "<Figure size 576x432 with 1 Axes>"
      ]
     },
     "metadata": {},
     "output_type": "display_data"
    }
   ],
   "source": [
    "model.view_model(layout=\"dot\")"
   ]
  },
  {
   "cell_type": "markdown",
   "id": "72ea0b51-6647-4044-91c8-c0c3b6f3e12e",
   "metadata": {},
   "source": [
    "### STEP_1.b: Modeling with variables"
   ]
  },
  {
   "cell_type": "code",
   "execution_count": 29,
   "id": "395e0913-e3cf-48fd-a65b-b94708d9bc58",
   "metadata": {},
   "outputs": [],
   "source": [
    "# '''\n",
    "# Confounders (common_causes): These are variables that cause both the action and the outcome. As a result, any observed correlation between \n",
    "# the action and the outcome may simply be due to the confounder variables, and not due to any causal relationship from the action to the outcome.\n",
    "\n",
    "# Instrumental Variables (instruments): These are special variables that cause the action, but do not directly affect the outcome. \n",
    "# In addition, they are not affected by any variable that affects the outcome. Instrumental variables can help reduce bias, if used in the correct way.\n",
    "\n",
    "# effect_modifiers: names of variables that can modify the treatment effect. \n",
    "\n",
    "# '''\n",
    "# model=CausalModel(\n",
    "#         data = df,\n",
    "#         treatment=[\"Stream\"],\n",
    "#         outcome=[\"PlacedOrNot\"],\n",
    "#         common_causes=['Gender', \"HistoryOfBacklogs\", \"Internships\", \"CGPA\", \"Hostel\"],\n",
    "#         instruments=None,\n",
    "#         effect_modifiers=None,\n",
    "#         )"
   ]
  },
  {
   "cell_type": "code",
   "execution_count": 30,
   "id": "f91dd69f-14ad-4a98-ab4a-25aebeca14b3",
   "metadata": {},
   "outputs": [
    {
     "data": {
      "image/png": "[encoded data removed]",
      "text/plain": [
       "<Figure size 576x432 with 1 Axes>"
      ]
     },
     "metadata": {},
     "output_type": "display_data"
    }
   ],
   "source": [
    "# model.view_model(layout=\"dot\")\n",
    "# # from IPython.display import Image, display\n",
    "# # display(Image(filename=\"causal_model.png\"))"
   ]
  },
  {
   "cell_type": "markdown",
   "id": "60dca8b2-5da0-42f6-8231-3ff43b6e16ca",
   "metadata": {},
   "source": [
    "## STEP_2: Identification"
   ]
  },
  {
   "cell_type": "code",
   "execution_count": null,
   "id": "60612d04-7473-4e4f-af27-cc60419b18d6",
   "metadata": {},
   "outputs": [],
   "source": [
    "'''\n",
    "--> Treatment causes Outcome if changing Treatment leads to a change in Outcome keeping everything else constant.\n",
    "--> Keeping everything else constant can be thought by imagining a Counterfactual World.\n",
    "--> In the factual world the treatment was provided whereas in the Counterfactual world it wasn’t. \n",
    "--> Thus any change in Outcome that we might be observing would be solely due to the Treatment.\n",
    "--> In this step,\n",
    "Given a causal graph and a target quantity (e.g., effect of T on Y), the process of identifcation is to check whether \n",
    "the target quantity can be estimated given the observed variables.\n",
    "'''"
   ]
  },
  {
   "cell_type": "markdown",
   "id": "5056d963-b1d2-4588-9d02-e8c5a2e0bc96",
   "metadata": {},
   "source": [
    "<b>Back-door criterion:</b> <br>\n",
    "If all common causes of the action A and the outcome Y are observed, then the backdoor criterion implies that the causal effect <br>\n",
    "can be identified by conditioning on all the common causes.\n",
    "\n",
    "$\n",
    "\\begin{align}\n",
    "& E[Y|do(T=t)] = E_{W}E[Y|T=t, W=w] \\\\\n",
    "& T = \\text{Treatment} \\\\\n",
    "& Y = \\text{outcome} \\\\\n",
    "& W = \\text{set of common causes or confounders}\n",
    "\\end{align}\n",
    "$\n",
    "\n",
    "<br>\n",
    "<b>Front-door criterion: </b> <br>\n",
    "TODO\n",
    "<b>Instrumental Variables: </b> <br>\n",
    "[These are special variables that cause the action, but do not directly affect the outcome.] <br>\n",
    "If there is an instrumental variable available, then we can estimate effect even when any (or none) of the common causes of action and outcome are unobserved. <br>\n",
    "The IV identification utilizes the fact that the instrument only affects the action directly, so the effect of the instrument on the outcome can be broken up <br>\n",
    "into two sequential parts: the effect of the instrument on the action and the effect of the action on the treatment. <br>\n",
    "\n",
    "It then relies on estimating the effect of the instrument on the action and the outcome to estimate the effect of the action on the outcome. <br>\n",
    "For a binary instrument, the effect estimate is given by, <br>\n",
    "\n",
    "$\n",
    "\\begin{align}\n",
    "& E[Y|do(T=1)] - E[Y|do(T=0)] = \\frac{E[Y|Z=1]-E[Y|Z=0]}{E[T|Z=1]-E[T|Z=0]} \\\\\n",
    "& T = \\text{Treatment} \\\\\n",
    "& Y = \\text{outcome} \\\\\n",
    "& Z = \\text{Instrumental Variable}\n",
    "\\end{align}\n",
    "$\n",
    "\n",
    "<b>Mediation (Direct and indirect effect identification): </b> <br>\n",
    "TODO"
   ]
  },
  {
   "cell_type": "code",
   "execution_count": 112,
   "id": "31fc425c-6c7e-4a4d-a0be-57d417cc5362",
   "metadata": {},
   "outputs": [
    {
     "name": "stdout",
     "output_type": "stream",
     "text": [
      "Estimand type: nonparametric-ate\n",
      "\n",
      "### Estimand : 1\n",
      "Estimand name: backdoor\n",
      "Estimand expression:\n",
      "    d                    \n",
      "─────────(E[PlacedOrNot])\n",
      "d[Stream]                \n",
      "Estimand assumption 1, Unconfoundedness: If U→{Stream} and U→PlacedOrNot then P(PlacedOrNot|Stream,,U) = P(PlacedOrNot|Stream,)\n",
      "\n",
      "### Estimand : 2\n",
      "Estimand name: iv\n",
      "Estimand expression:\n",
      " ⎡                                            -1⎤\n",
      " ⎢    d                  ⎛    d              ⎞  ⎥\n",
      "E⎢─────────(PlacedOrNot)⋅⎜─────────([Stream])⎟  ⎥\n",
      " ⎣d[Gender]              ⎝d[Gender]          ⎠  ⎦\n",
      "Estimand assumption 1, As-if-random: If U→→PlacedOrNot then ¬(U →→{Gender})\n",
      "Estimand assumption 2, Exclusion: If we remove {Gender}→{Stream}, then ¬({Gender}→PlacedOrNot)\n",
      "\n",
      "### Estimand : 3\n",
      "Estimand name: frontdoor\n",
      "No such variable(s) found!\n",
      "\n"
     ]
    }
   ],
   "source": [
    "'''\n",
    "If there is a warning asks you if there are any unobserved confounders that are missing in this dataset. If there are, \n",
    "then ignoring them will lead to an incorrect estimate. If you want to disable the warning, \n",
    "you can use proceed_when_unidentifiable=True as an additional parameter to identify_effect\n",
    "'''\n",
    "identified_estimand = model.identify_effect()\n",
    "print(identified_estimand)"
   ]
  },
  {
   "cell_type": "markdown",
   "id": "4f81a10c-6398-4f5c-9cc8-537bd0b28293",
   "metadata": {},
   "source": [
    "## STEP_3: Estimation"
   ]
  },
  {
   "cell_type": "code",
   "execution_count": null,
   "id": "1f18e70f-193c-4d2d-b18d-f65e9bb68184",
   "metadata": {},
   "outputs": [],
   "source": [
    "'''\n",
    "\n",
    "The estimation step involves building a statistical estimator that can compute the target estimand identified in the previous step.\n",
    "\n",
    "--> DoWhy use different methods for estimating the causal effect of a (pre-specified)treatment variable on a (pre-specified) outcome variable.\n",
    "[https://github.com/py-why/dowhy/blob/main/docs/source/example_notebooks/dowhy_estimation_methods.ipynb] \n",
    "\n",
    "--> \n",
    "The control group receives either no treatment, a standard treatment whose effect is already known, or a placebo (a fake treatment to control for placebo effect).\n",
    "The treatment group (also called the experimental group) receives the treatment whose effect the researcher is interested in. \n",
    "\n",
    "ATE = Average Treatment Effect\n",
    "ATT = Average Treatment Effect on Treated (i.e. those who were assigned to different stream)\n",
    "ATC = Average Treatment Effect on Control (i.e. those who were assigned to different stream)\n",
    "\n",
    "-->\n",
    "Depending on the dataset properties, different estimation methods can be used\n",
    "[All these estmation methods can be called through DoWhy and EconML library]\n",
    "\n",
    ">> Simple Conditioning\n",
    "• Matching\n",
    "• Stratification\n",
    ">> Propensity Score-Based [Rubin 1983]\n",
    "• Propensity Matching\n",
    "• Inverse Propensity Weighting\n",
    ">> Synthetic Control [Abadie et al.]\n",
    ">> Outcome-based\n",
    "• Double ML [Chernozhukov et al. 2016]\n",
    "• T-learner\n",
    "• X-learner [Kunzel et al. 2017]\n",
    ">> Loss-Based\n",
    "• R-learner [Nie & Wager 2017]\n",
    ">> Threshold-based\n",
    "• Difference-in-differences\n",
    "\n",
    "Methods based on estimating the treatment assignment\n",
    "    Propensity-based Stratification\n",
    "    Propensity Score Matching\n",
    "    Inverse Propensity Weighting\n",
    "Methods based on estimating the outcome model\n",
    "    Linear Regression\n",
    "    Generalized Linear Models\n",
    "Methods based on the instrumental variable equation\n",
    "    Binary Instrument/Wald Estimator\n",
    "    Two-stage least squares\n",
    "    Regression discontinuity\n",
    "Methods for front-door criterion and general mediation\n",
    "    Two-stage linear regression\n",
    "\n",
    "'''"
   ]
  },
  {
   "cell_type": "markdown",
   "id": "3c906066-319f-4c5b-91c7-287e482abc07",
   "metadata": {},
   "source": [
    "#### STEP_3.a: Estimation using \"linear regression\""
   ]
  },
  {
   "cell_type": "code",
   "execution_count": 114,
   "id": "ec5511cd-60cb-4262-9eac-20f791ae3d65",
   "metadata": {},
   "outputs": [
    {
     "name": "stdout",
     "output_type": "stream",
     "text": [
      "linear_regression\n",
      "{'control_value': 0, 'treatment_value': 1, 'test_significance': None, 'evaluate_effect_strength': False, 'confidence_intervals': False, 'target_units': 'ate', 'effect_modifiers': ['HistoryOfBacklogs', 'Hostel', 'Age']}\n",
      "*** Causal Estimate ***\n",
      "\n",
      "## Identified estimand\n",
      "Estimand type: nonparametric-ate\n",
      "\n",
      "### Estimand : 1\n",
      "Estimand name: backdoor\n",
      "Estimand expression:\n",
      "    d                    \n",
      "─────────(E[PlacedOrNot])\n",
      "d[Stream]                \n",
      "Estimand assumption 1, Unconfoundedness: If U→{Stream} and U→PlacedOrNot then P(PlacedOrNot|Stream,,U) = P(PlacedOrNot|Stream,)\n",
      "\n",
      "## Realized estimand\n",
      "b: PlacedOrNot~Stream+Stream*HistoryOfBacklogs+Stream*Hostel+Stream*Age\n",
      "Target units: ate\n",
      "\n",
      "## Estimate\n",
      "Mean value: 0.00657070905318724\n",
      "### Conditional Estimates\n",
      "__categorical__HistoryOfBacklogs  __categorical__Hostel  __categorical__Age\n",
      "(-0.001, 1.0]                     (-0.001, 1.0]          (18.999, 21.0]        0.003773\n",
      "                                                         (21.0, 22.0]          0.007891\n",
      "                                                         (22.0, 30.0]          0.014561\n",
      "dtype: float64\n"
     ]
    }
   ],
   "source": [
    "estimate = model.estimate_effect(identified_estimand, \n",
    "                                 method_name=\"backdoor.linear_regression\",\n",
    "                                target_units=\"ate\")\n",
    "print(estimate)"
   ]
  },
  {
   "cell_type": "markdown",
   "id": "3ca6e5a3-a4c4-48a3-aeeb-6b6e851c9d72",
   "metadata": {},
   "source": [
    "Explanation:- <br>\n",
    "The average causal effect is about 0.0065. This can be interpreted as, having a change in stream changes your probability of placement by 0.65%. "
   ]
  },
  {
   "cell_type": "markdown",
   "id": "f19314ba-668f-4169-acba-118a9f75bb2d",
   "metadata": {},
   "source": [
    "#### STEP_3.b: Estimation using \"Distance Matching\""
   ]
  },
  {
   "cell_type": "code",
   "execution_count": null,
   "id": "79fa5b3f-4db8-46b1-95a1-19d718474d37",
   "metadata": {},
   "outputs": [],
   "source": [
    "'''\n",
    "# Distance Matching method is applicable only for binary treatments\n",
    "'''"
   ]
  },
  {
   "cell_type": "code",
   "execution_count": 84,
   "id": "0b8add09-a362-48a5-a320-a569ecd56451",
   "metadata": {},
   "outputs": [],
   "source": [
    "# estimate = model.estimate_effect(identified_estimand, \n",
    "#                                  method_name=\"backdoor.distance_matching\",\n",
    "#                                 target_units=\"ate\",\n",
    "#                                 method_params={'distance_metric':\"minkowski\", 'p':2})\n",
    "# print(estimate)"
   ]
  },
  {
   "cell_type": "markdown",
   "id": "90cb9b9f-0084-4884-8816-1727c6aa25a6",
   "metadata": {},
   "source": [
    "#### STEP_3.c: Estimation using \"Propensity Score Stratification\""
   ]
  },
  {
   "cell_type": "code",
   "execution_count": null,
   "id": "fa6a7a36-dadd-4891-8f72-4031b91dd9f3",
   "metadata": {},
   "outputs": [],
   "source": [
    "'''\n",
    "# Propensity score methods are applicable only for binary treatments\n",
    "'''"
   ]
  },
  {
   "cell_type": "code",
   "execution_count": 82,
   "id": "0dd9e290-7d66-4741-a83c-eea6693da778",
   "metadata": {},
   "outputs": [],
   "source": [
    "# estimate = model.estimate_effect(identified_estimand, \n",
    "#                                  method_name=\"backdoor.propensity_score_stratification\",\n",
    "#                                 target_units=\"ate\")\n",
    "# print(estimate)"
   ]
  },
  {
   "cell_type": "markdown",
   "id": "81232f5c-c8bd-401b-9b62-3763c49dc4ca",
   "metadata": {},
   "source": [
    "#### STEP_3.d: Estimation using \"Propensity Score Matching\""
   ]
  },
  {
   "cell_type": "code",
   "execution_count": 86,
   "id": "3da2a359-3da5-4919-a431-477095799e4e",
   "metadata": {},
   "outputs": [
    {
     "data": {
      "text/plain": [
       "'\\n Propensity score methods are applicable only for binary treatments\\n'"
      ]
     },
     "execution_count": 86,
     "metadata": {},
     "output_type": "execute_result"
    }
   ],
   "source": [
    "'''\n",
    " Propensity score methods are applicable only for binary treatments\n",
    "'''"
   ]
  },
  {
   "cell_type": "code",
   "execution_count": 88,
   "id": "aa43a137-2586-4ad8-85e0-4f3a98010eb2",
   "metadata": {},
   "outputs": [],
   "source": [
    "# estimate = model.estimate_effect(identified_estimand,\n",
    "#                                               method_name=\"backdoor.propensity_score_matching\",\n",
    "#                                               target_units=\"ate\")\n",
    "# print(estimate)"
   ]
  },
  {
   "cell_type": "markdown",
   "id": "04ac7d14-24eb-4fb0-9b8f-30b957c7524d",
   "metadata": {},
   "source": [
    "#### STEP_3.e: Estimation using \"Propensity Score Weighting\""
   ]
  },
  {
   "cell_type": "code",
   "execution_count": null,
   "id": "320441a7-6fb8-4071-9a76-f1aa0e6c18c2",
   "metadata": {},
   "outputs": [],
   "source": [
    "'''\n",
    "We will be using (inverse) propensity scores to assign weights to units in the data. DoWhy supports a few different weighting schemes:\n",
    "\n",
    "Vanilla Inverse Propensity Score weighting (IPS) (weighting_scheme=\"ips_weight\")\n",
    "Self-normalized IPS weighting (also known as the Hajek estimator) (weighting_scheme=\"ips_normalized_weight\")\n",
    "Stabilized IPS weighting (weighting_scheme = \"ips_stabilized_weight\")\n",
    "\n",
    "\n",
    "\n",
    "Exception: Propensity score methods are applicable only for binary treatments\n",
    "'''"
   ]
  },
  {
   "cell_type": "code",
   "execution_count": 90,
   "id": "10282c5e-bd8c-4630-9976-ff83c77c1625",
   "metadata": {},
   "outputs": [],
   "source": [
    "# estimate = model.estimate_effect(identified_estimand,\n",
    "#                                               method_name=\"backdoor.propensity_score_weighting\",\n",
    "#                                               target_units=\"ate\",\n",
    "#                                             method_params={\"weighting_scheme\":\"ips_weight\"})\n",
    "# print(estimate)"
   ]
  },
  {
   "cell_type": "markdown",
   "id": "bc843eff-54b4-405d-b83e-305493f5d2fa",
   "metadata": {},
   "source": [
    "#### STEP_3.f: Estimation using \"Instrumental Variable\""
   ]
  },
  {
   "cell_type": "code",
   "execution_count": null,
   "id": "9370ad4b-728a-4be1-ab7c-871463920f3b",
   "metadata": {},
   "outputs": [],
   "source": [
    "'''\n",
    "It is possible if instrumental variable is provided.\n",
    "Instrumental Variables (instruments): These are special variables that cause the action, but do not directly affect the outcome. \n",
    "'''"
   ]
  },
  {
   "cell_type": "code",
   "execution_count": 118,
   "id": "edba4961-f06c-40a7-90d9-39f260113b39",
   "metadata": {},
   "outputs": [],
   "source": [
    "# estimate = model.estimate_effect(identified_estimand, \n",
    "#                                  method_name=\"iv.instrumental_variable\",\n",
    "#                                 method_params = {'iv_instrument_name': 'Gender'})\n",
    "# print(estimate)"
   ]
  },
  {
   "cell_type": "markdown",
   "id": "343763fb-01a9-4570-8987-7a5a1aef6074",
   "metadata": {},
   "source": [
    "#### STEP_3.g: Estimation using \"Regression Discontinuity\""
   ]
  },
  {
   "cell_type": "code",
   "execution_count": null,
   "id": "fe0fa422-644e-4aa6-9630-50be135d5629",
   "metadata": {},
   "outputs": [],
   "source": []
  },
  {
   "cell_type": "code",
   "execution_count": 119,
   "id": "166896f6-fd3b-42d3-a384-e8897c2ce104",
   "metadata": {},
   "outputs": [],
   "source": [
    "# estimate = model.estimate_effect(identified_estimand, \n",
    "#                                  method_name=\"iv.regression_discontinuity\", \n",
    "#                                  method_params={'rd_variable_name':'Gender',\n",
    "#                                                 'rd_threshold_value':0.5,\n",
    "#                                                 'rd_bandwidth': 0.15})\n",
    "# print(estimate)"
   ]
  },
  {
   "cell_type": "markdown",
   "id": "e47dd11c-8f2e-4556-b3b4-da9f9ab839d2",
   "metadata": {},
   "source": [
    "## STEP_4: Refutation"
   ]
  },
  {
   "cell_type": "code",
   "execution_count": null,
   "id": "487d05e5-4c7d-4292-b1d9-0c89eaa31f0d",
   "metadata": {},
   "outputs": [],
   "source": [
    "'''\n",
    "--> Remember that the Causal part does not come from data, rather it comes from your assumptions (Step-1) that were used to identify(Step-2) and estimate(Step-3) the cause.\n",
    "--> Thus it becomes verify our assumptions and challenge their validity in more than one way if possible.\n",
    "--> DoWhy offers Multiple Robustness Checks that can be used to test the validity of our assumptions.\n",
    "\n",
    "Refutation methods provide tests that every correct estimator should pass. So if an estimator fails the refutation test (p-value is <0.05), \n",
    "then it means that there is some problem with the estimator.\n",
    "'''"
   ]
  },
  {
   "cell_type": "markdown",
   "id": "cdafe9e7-4b56-4fce-8bc7-02f6230f89c7",
   "metadata": {},
   "source": [
    "#### STEP_4.a: Refutation using \"Random Common Cause\""
   ]
  },
  {
   "cell_type": "code",
   "execution_count": null,
   "id": "91d71329-81cc-4f7e-af28-d24c80d22fea",
   "metadata": {},
   "outputs": [],
   "source": [
    "'''\n",
    "Adds randomly drawn covariates to data and re-runs the analysis to see if the causal estimate changes or not. \n",
    "If our assumption was originally correct then there shouldn’t much variation in the causal estimate.\n",
    "'''"
   ]
  },
  {
   "cell_type": "code",
   "execution_count": 117,
   "id": "1e5ab94d-59d2-46fe-8318-a6201a1f791d",
   "metadata": {},
   "outputs": [
    {
     "name": "stdout",
     "output_type": "stream",
     "text": [
      "{'control_value': 0, 'treatment_value': 1, 'test_significance': False, 'evaluate_effect_strength': False, 'confidence_intervals': False, 'target_units': 'ate', 'effect_modifiers': ['HistoryOfBacklogs', 'Hostel', 'Age']}\n",
      "{'control_value': 0, 'treatment_value': 1, 'test_significance': False, 'evaluate_effect_strength': False, 'confidence_intervals': False, 'target_units': 'ate', 'effect_modifiers': ['HistoryOfBacklogs', 'Hostel', 'Age']}\n",
      "{'control_value': 0, 'treatment_value': 1, 'test_significance': False, 'evaluate_effect_strength': False, 'confidence_intervals': False, 'target_units': 'ate', 'effect_modifiers': ['HistoryOfBacklogs', 'Hostel', 'Age']}\n",
      "{'control_value': 0, 'treatment_value': 1, 'test_significance': False, 'evaluate_effect_strength': False, 'confidence_intervals': False, 'target_units': 'ate', 'effect_modifiers': ['HistoryOfBacklogs', 'Hostel', 'Age']}\n",
      "{'control_value': 0, 'treatment_value': 1, 'test_significance': False, 'evaluate_effect_strength': False, 'confidence_intervals': False, 'target_units': 'ate', 'effect_modifiers': ['HistoryOfBacklogs', 'Hostel', 'Age']}\n",
      "{'control_value': 0, 'treatment_value': 1, 'test_significance': False, 'evaluate_effect_strength': False, 'confidence_intervals': False, 'target_units': 'ate', 'effect_modifiers': ['HistoryOfBacklogs', 'Hostel', 'Age']}\n",
      "{'control_value': 0, 'treatment_value': 1, 'test_significance': False, 'evaluate_effect_strength': False, 'confidence_intervals': False, 'target_units': 'ate', 'effect_modifiers': ['HistoryOfBacklogs', 'Hostel', 'Age']}\n",
      "{'control_value': 0, 'treatment_value': 1, 'test_significance': False, 'evaluate_effect_strength': False, 'confidence_intervals': False, 'target_units': 'ate', 'effect_modifiers': ['HistoryOfBacklogs', 'Hostel', 'Age']}\n",
      "{'control_value': 0, 'treatment_value': 1, 'test_significance': False, 'evaluate_effect_strength': False, 'confidence_intervals': False, 'target_units': 'ate', 'effect_modifiers': ['HistoryOfBacklogs', 'Hostel', 'Age']}\n",
      "{'control_value': 0, 'treatment_value': 1, 'test_significance': False, 'evaluate_effect_strength': False, 'confidence_intervals': False, 'target_units': 'ate', 'effect_modifiers': ['HistoryOfBacklogs', 'Hostel', 'Age']}\n",
      "{'control_value': 0, 'treatment_value': 1, 'test_significance': False, 'evaluate_effect_strength': False, 'confidence_intervals': False, 'target_units': 'ate', 'effect_modifiers': ['HistoryOfBacklogs', 'Hostel', 'Age']}\n",
      "{'control_value': 0, 'treatment_value': 1, 'test_significance': False, 'evaluate_effect_strength': False, 'confidence_intervals': False, 'target_units': 'ate', 'effect_modifiers': ['HistoryOfBacklogs', 'Hostel', 'Age']}\n",
      "{'control_value': 0, 'treatment_value': 1, 'test_significance': False, 'evaluate_effect_strength': False, 'confidence_intervals': False, 'target_units': 'ate', 'effect_modifiers': ['HistoryOfBacklogs', 'Hostel', 'Age']}\n",
      "{'control_value': 0, 'treatment_value': 1, 'test_significance': False, 'evaluate_effect_strength': False, 'confidence_intervals': False, 'target_units': 'ate', 'effect_modifiers': ['HistoryOfBacklogs', 'Hostel', 'Age']}\n",
      "{'control_value': 0, 'treatment_value': 1, 'test_significance': False, 'evaluate_effect_strength': False, 'confidence_intervals': False, 'target_units': 'ate', 'effect_modifiers': ['HistoryOfBacklogs', 'Hostel', 'Age']}\n",
      "{'control_value': 0, 'treatment_value': 1, 'test_significance': False, 'evaluate_effect_strength': False, 'confidence_intervals': False, 'target_units': 'ate', 'effect_modifiers': ['HistoryOfBacklogs', 'Hostel', 'Age']}\n",
      "{'control_value': 0, 'treatment_value': 1, 'test_significance': False, 'evaluate_effect_strength': False, 'confidence_intervals': False, 'target_units': 'ate', 'effect_modifiers': ['HistoryOfBacklogs', 'Hostel', 'Age']}\n",
      "{'control_value': 0, 'treatment_value': 1, 'test_significance': False, 'evaluate_effect_strength': False, 'confidence_intervals': False, 'target_units': 'ate', 'effect_modifiers': ['HistoryOfBacklogs', 'Hostel', 'Age']}\n",
      "{'control_value': 0, 'treatment_value': 1, 'test_significance': False, 'evaluate_effect_strength': False, 'confidence_intervals': False, 'target_units': 'ate', 'effect_modifiers': ['HistoryOfBacklogs', 'Hostel', 'Age']}\n",
      "{'control_value': 0, 'treatment_value': 1, 'test_significance': False, 'evaluate_effect_strength': False, 'confidence_intervals': False, 'target_units': 'ate', 'effect_modifiers': ['HistoryOfBacklogs', 'Hostel', 'Age']}\n",
      "{'control_value': 0, 'treatment_value': 1, 'test_significance': False, 'evaluate_effect_strength': False, 'confidence_intervals': False, 'target_units': 'ate', 'effect_modifiers': ['HistoryOfBacklogs', 'Hostel', 'Age']}\n",
      "{'control_value': 0, 'treatment_value': 1, 'test_significance': False, 'evaluate_effect_strength': False, 'confidence_intervals': False, 'target_units': 'ate', 'effect_modifiers': ['HistoryOfBacklogs', 'Hostel', 'Age']}\n",
      "{'control_value': 0, 'treatment_value': 1, 'test_significance': False, 'evaluate_effect_strength': False, 'confidence_intervals': False, 'target_units': 'ate', 'effect_modifiers': ['HistoryOfBacklogs', 'Hostel', 'Age']}\n",
      "{'control_value': 0, 'treatment_value': 1, 'test_significance': False, 'evaluate_effect_strength': False, 'confidence_intervals': False, 'target_units': 'ate', 'effect_modifiers': ['HistoryOfBacklogs', 'Hostel', 'Age']}\n",
      "{'control_value': 0, 'treatment_value': 1, 'test_significance': False, 'evaluate_effect_strength': False, 'confidence_intervals': False, 'target_units': 'ate', 'effect_modifiers': ['HistoryOfBacklogs', 'Hostel', 'Age']}\n",
      "{'control_value': 0, 'treatment_value': 1, 'test_significance': False, 'evaluate_effect_strength': False, 'confidence_intervals': False, 'target_units': 'ate', 'effect_modifiers': ['HistoryOfBacklogs', 'Hostel', 'Age']}\n",
      "{'control_value': 0, 'treatment_value': 1, 'test_significance': False, 'evaluate_effect_strength': False, 'confidence_intervals': False, 'target_units': 'ate', 'effect_modifiers': ['HistoryOfBacklogs', 'Hostel', 'Age']}\n",
      "{'control_value': 0, 'treatment_value': 1, 'test_significance': False, 'evaluate_effect_strength': False, 'confidence_intervals': False, 'target_units': 'ate', 'effect_modifiers': ['HistoryOfBacklogs', 'Hostel', 'Age']}\n",
      "{'control_value': 0, 'treatment_value': 1, 'test_significance': False, 'evaluate_effect_strength': False, 'confidence_intervals': False, 'target_units': 'ate', 'effect_modifiers': ['HistoryOfBacklogs', 'Hostel', 'Age']}\n",
      "{'control_value': 0, 'treatment_value': 1, 'test_significance': False, 'evaluate_effect_strength': False, 'confidence_intervals': False, 'target_units': 'ate', 'effect_modifiers': ['HistoryOfBacklogs', 'Hostel', 'Age']}\n",
      "{'control_value': 0, 'treatment_value': 1, 'test_significance': False, 'evaluate_effect_strength': False, 'confidence_intervals': False, 'target_units': 'ate', 'effect_modifiers': ['HistoryOfBacklogs', 'Hostel', 'Age']}\n",
      "{'control_value': 0, 'treatment_value': 1, 'test_significance': False, 'evaluate_effect_strength': False, 'confidence_intervals': False, 'target_units': 'ate', 'effect_modifiers': ['HistoryOfBacklogs', 'Hostel', 'Age']}\n",
      "{'control_value': 0, 'treatment_value': 1, 'test_significance': False, 'evaluate_effect_strength': False, 'confidence_intervals': False, 'target_units': 'ate', 'effect_modifiers': ['HistoryOfBacklogs', 'Hostel', 'Age']}\n",
      "{'control_value': 0, 'treatment_value': 1, 'test_significance': False, 'evaluate_effect_strength': False, 'confidence_intervals': False, 'target_units': 'ate', 'effect_modifiers': ['HistoryOfBacklogs', 'Hostel', 'Age']}\n",
      "{'control_value': 0, 'treatment_value': 1, 'test_significance': False, 'evaluate_effect_strength': False, 'confidence_intervals': False, 'target_units': 'ate', 'effect_modifiers': ['HistoryOfBacklogs', 'Hostel', 'Age']}\n",
      "{'control_value': 0, 'treatment_value': 1, 'test_significance': False, 'evaluate_effect_strength': False, 'confidence_intervals': False, 'target_units': 'ate', 'effect_modifiers': ['HistoryOfBacklogs', 'Hostel', 'Age']}\n",
      "{'control_value': 0, 'treatment_value': 1, 'test_significance': False, 'evaluate_effect_strength': False, 'confidence_intervals': False, 'target_units': 'ate', 'effect_modifiers': ['HistoryOfBacklogs', 'Hostel', 'Age']}\n",
      "{'control_value': 0, 'treatment_value': 1, 'test_significance': False, 'evaluate_effect_strength': False, 'confidence_intervals': False, 'target_units': 'ate', 'effect_modifiers': ['HistoryOfBacklogs', 'Hostel', 'Age']}\n",
      "{'control_value': 0, 'treatment_value': 1, 'test_significance': False, 'evaluate_effect_strength': False, 'confidence_intervals': False, 'target_units': 'ate', 'effect_modifiers': ['HistoryOfBacklogs', 'Hostel', 'Age']}\n",
      "{'control_value': 0, 'treatment_value': 1, 'test_significance': False, 'evaluate_effect_strength': False, 'confidence_intervals': False, 'target_units': 'ate', 'effect_modifiers': ['HistoryOfBacklogs', 'Hostel', 'Age']}\n",
      "{'control_value': 0, 'treatment_value': 1, 'test_significance': False, 'evaluate_effect_strength': False, 'confidence_intervals': False, 'target_units': 'ate', 'effect_modifiers': ['HistoryOfBacklogs', 'Hostel', 'Age']}\n",
      "{'control_value': 0, 'treatment_value': 1, 'test_significance': False, 'evaluate_effect_strength': False, 'confidence_intervals': False, 'target_units': 'ate', 'effect_modifiers': ['HistoryOfBacklogs', 'Hostel', 'Age']}\n",
      "{'control_value': 0, 'treatment_value': 1, 'test_significance': False, 'evaluate_effect_strength': False, 'confidence_intervals': False, 'target_units': 'ate', 'effect_modifiers': ['HistoryOfBacklogs', 'Hostel', 'Age']}\n",
      "{'control_value': 0, 'treatment_value': 1, 'test_significance': False, 'evaluate_effect_strength': False, 'confidence_intervals': False, 'target_units': 'ate', 'effect_modifiers': ['HistoryOfBacklogs', 'Hostel', 'Age']}\n",
      "{'control_value': 0, 'treatment_value': 1, 'test_significance': False, 'evaluate_effect_strength': False, 'confidence_intervals': False, 'target_units': 'ate', 'effect_modifiers': ['HistoryOfBacklogs', 'Hostel', 'Age']}\n",
      "{'control_value': 0, 'treatment_value': 1, 'test_significance': False, 'evaluate_effect_strength': False, 'confidence_intervals': False, 'target_units': 'ate', 'effect_modifiers': ['HistoryOfBacklogs', 'Hostel', 'Age']}\n",
      "{'control_value': 0, 'treatment_value': 1, 'test_significance': False, 'evaluate_effect_strength': False, 'confidence_intervals': False, 'target_units': 'ate', 'effect_modifiers': ['HistoryOfBacklogs', 'Hostel', 'Age']}\n",
      "{'control_value': 0, 'treatment_value': 1, 'test_significance': False, 'evaluate_effect_strength': False, 'confidence_intervals': False, 'target_units': 'ate', 'effect_modifiers': ['HistoryOfBacklogs', 'Hostel', 'Age']}\n",
      "{'control_value': 0, 'treatment_value': 1, 'test_significance': False, 'evaluate_effect_strength': False, 'confidence_intervals': False, 'target_units': 'ate', 'effect_modifiers': ['HistoryOfBacklogs', 'Hostel', 'Age']}\n",
      "{'control_value': 0, 'treatment_value': 1, 'test_significance': False, 'evaluate_effect_strength': False, 'confidence_intervals': False, 'target_units': 'ate', 'effect_modifiers': ['HistoryOfBacklogs', 'Hostel', 'Age']}\n",
      "{'control_value': 0, 'treatment_value': 1, 'test_significance': False, 'evaluate_effect_strength': False, 'confidence_intervals': False, 'target_units': 'ate', 'effect_modifiers': ['HistoryOfBacklogs', 'Hostel', 'Age']}\n",
      "{'control_value': 0, 'treatment_value': 1, 'test_significance': False, 'evaluate_effect_strength': False, 'confidence_intervals': False, 'target_units': 'ate', 'effect_modifiers': ['HistoryOfBacklogs', 'Hostel', 'Age']}\n",
      "{'control_value': 0, 'treatment_value': 1, 'test_significance': False, 'evaluate_effect_strength': False, 'confidence_intervals': False, 'target_units': 'ate', 'effect_modifiers': ['HistoryOfBacklogs', 'Hostel', 'Age']}\n",
      "{'control_value': 0, 'treatment_value': 1, 'test_significance': False, 'evaluate_effect_strength': False, 'confidence_intervals': False, 'target_units': 'ate', 'effect_modifiers': ['HistoryOfBacklogs', 'Hostel', 'Age']}\n",
      "{'control_value': 0, 'treatment_value': 1, 'test_significance': False, 'evaluate_effect_strength': False, 'confidence_intervals': False, 'target_units': 'ate', 'effect_modifiers': ['HistoryOfBacklogs', 'Hostel', 'Age']}\n",
      "{'control_value': 0, 'treatment_value': 1, 'test_significance': False, 'evaluate_effect_strength': False, 'confidence_intervals': False, 'target_units': 'ate', 'effect_modifiers': ['HistoryOfBacklogs', 'Hostel', 'Age']}\n",
      "{'control_value': 0, 'treatment_value': 1, 'test_significance': False, 'evaluate_effect_strength': False, 'confidence_intervals': False, 'target_units': 'ate', 'effect_modifiers': ['HistoryOfBacklogs', 'Hostel', 'Age']}\n",
      "{'control_value': 0, 'treatment_value': 1, 'test_significance': False, 'evaluate_effect_strength': False, 'confidence_intervals': False, 'target_units': 'ate', 'effect_modifiers': ['HistoryOfBacklogs', 'Hostel', 'Age']}\n",
      "{'control_value': 0, 'treatment_value': 1, 'test_significance': False, 'evaluate_effect_strength': False, 'confidence_intervals': False, 'target_units': 'ate', 'effect_modifiers': ['HistoryOfBacklogs', 'Hostel', 'Age']}\n",
      "{'control_value': 0, 'treatment_value': 1, 'test_significance': False, 'evaluate_effect_strength': False, 'confidence_intervals': False, 'target_units': 'ate', 'effect_modifiers': ['HistoryOfBacklogs', 'Hostel', 'Age']}\n",
      "{'control_value': 0, 'treatment_value': 1, 'test_significance': False, 'evaluate_effect_strength': False, 'confidence_intervals': False, 'target_units': 'ate', 'effect_modifiers': ['HistoryOfBacklogs', 'Hostel', 'Age']}\n",
      "{'control_value': 0, 'treatment_value': 1, 'test_significance': False, 'evaluate_effect_strength': False, 'confidence_intervals': False, 'target_units': 'ate', 'effect_modifiers': ['HistoryOfBacklogs', 'Hostel', 'Age']}\n",
      "{'control_value': 0, 'treatment_value': 1, 'test_significance': False, 'evaluate_effect_strength': False, 'confidence_intervals': False, 'target_units': 'ate', 'effect_modifiers': ['HistoryOfBacklogs', 'Hostel', 'Age']}\n",
      "{'control_value': 0, 'treatment_value': 1, 'test_significance': False, 'evaluate_effect_strength': False, 'confidence_intervals': False, 'target_units': 'ate', 'effect_modifiers': ['HistoryOfBacklogs', 'Hostel', 'Age']}\n",
      "{'control_value': 0, 'treatment_value': 1, 'test_significance': False, 'evaluate_effect_strength': False, 'confidence_intervals': False, 'target_units': 'ate', 'effect_modifiers': ['HistoryOfBacklogs', 'Hostel', 'Age']}\n",
      "{'control_value': 0, 'treatment_value': 1, 'test_significance': False, 'evaluate_effect_strength': False, 'confidence_intervals': False, 'target_units': 'ate', 'effect_modifiers': ['HistoryOfBacklogs', 'Hostel', 'Age']}\n",
      "{'control_value': 0, 'treatment_value': 1, 'test_significance': False, 'evaluate_effect_strength': False, 'confidence_intervals': False, 'target_units': 'ate', 'effect_modifiers': ['HistoryOfBacklogs', 'Hostel', 'Age']}\n",
      "{'control_value': 0, 'treatment_value': 1, 'test_significance': False, 'evaluate_effect_strength': False, 'confidence_intervals': False, 'target_units': 'ate', 'effect_modifiers': ['HistoryOfBacklogs', 'Hostel', 'Age']}\n",
      "{'control_value': 0, 'treatment_value': 1, 'test_significance': False, 'evaluate_effect_strength': False, 'confidence_intervals': False, 'target_units': 'ate', 'effect_modifiers': ['HistoryOfBacklogs', 'Hostel', 'Age']}\n",
      "{'control_value': 0, 'treatment_value': 1, 'test_significance': False, 'evaluate_effect_strength': False, 'confidence_intervals': False, 'target_units': 'ate', 'effect_modifiers': ['HistoryOfBacklogs', 'Hostel', 'Age']}\n",
      "{'control_value': 0, 'treatment_value': 1, 'test_significance': False, 'evaluate_effect_strength': False, 'confidence_intervals': False, 'target_units': 'ate', 'effect_modifiers': ['HistoryOfBacklogs', 'Hostel', 'Age']}\n",
      "{'control_value': 0, 'treatment_value': 1, 'test_significance': False, 'evaluate_effect_strength': False, 'confidence_intervals': False, 'target_units': 'ate', 'effect_modifiers': ['HistoryOfBacklogs', 'Hostel', 'Age']}\n",
      "{'control_value': 0, 'treatment_value': 1, 'test_significance': False, 'evaluate_effect_strength': False, 'confidence_intervals': False, 'target_units': 'ate', 'effect_modifiers': ['HistoryOfBacklogs', 'Hostel', 'Age']}\n",
      "{'control_value': 0, 'treatment_value': 1, 'test_significance': False, 'evaluate_effect_strength': False, 'confidence_intervals': False, 'target_units': 'ate', 'effect_modifiers': ['HistoryOfBacklogs', 'Hostel', 'Age']}\n",
      "{'control_value': 0, 'treatment_value': 1, 'test_significance': False, 'evaluate_effect_strength': False, 'confidence_intervals': False, 'target_units': 'ate', 'effect_modifiers': ['HistoryOfBacklogs', 'Hostel', 'Age']}\n",
      "{'control_value': 0, 'treatment_value': 1, 'test_significance': False, 'evaluate_effect_strength': False, 'confidence_intervals': False, 'target_units': 'ate', 'effect_modifiers': ['HistoryOfBacklogs', 'Hostel', 'Age']}\n",
      "{'control_value': 0, 'treatment_value': 1, 'test_significance': False, 'evaluate_effect_strength': False, 'confidence_intervals': False, 'target_units': 'ate', 'effect_modifiers': ['HistoryOfBacklogs', 'Hostel', 'Age']}\n",
      "{'control_value': 0, 'treatment_value': 1, 'test_significance': False, 'evaluate_effect_strength': False, 'confidence_intervals': False, 'target_units': 'ate', 'effect_modifiers': ['HistoryOfBacklogs', 'Hostel', 'Age']}\n",
      "{'control_value': 0, 'treatment_value': 1, 'test_significance': False, 'evaluate_effect_strength': False, 'confidence_intervals': False, 'target_units': 'ate', 'effect_modifiers': ['HistoryOfBacklogs', 'Hostel', 'Age']}\n",
      "{'control_value': 0, 'treatment_value': 1, 'test_significance': False, 'evaluate_effect_strength': False, 'confidence_intervals': False, 'target_units': 'ate', 'effect_modifiers': ['HistoryOfBacklogs', 'Hostel', 'Age']}\n",
      "{'control_value': 0, 'treatment_value': 1, 'test_significance': False, 'evaluate_effect_strength': False, 'confidence_intervals': False, 'target_units': 'ate', 'effect_modifiers': ['HistoryOfBacklogs', 'Hostel', 'Age']}\n",
      "{'control_value': 0, 'treatment_value': 1, 'test_significance': False, 'evaluate_effect_strength': False, 'confidence_intervals': False, 'target_units': 'ate', 'effect_modifiers': ['HistoryOfBacklogs', 'Hostel', 'Age']}\n",
      "{'control_value': 0, 'treatment_value': 1, 'test_significance': False, 'evaluate_effect_strength': False, 'confidence_intervals': False, 'target_units': 'ate', 'effect_modifiers': ['HistoryOfBacklogs', 'Hostel', 'Age']}\n",
      "{'control_value': 0, 'treatment_value': 1, 'test_significance': False, 'evaluate_effect_strength': False, 'confidence_intervals': False, 'target_units': 'ate', 'effect_modifiers': ['HistoryOfBacklogs', 'Hostel', 'Age']}\n",
      "{'control_value': 0, 'treatment_value': 1, 'test_significance': False, 'evaluate_effect_strength': False, 'confidence_intervals': False, 'target_units': 'ate', 'effect_modifiers': ['HistoryOfBacklogs', 'Hostel', 'Age']}\n",
      "{'control_value': 0, 'treatment_value': 1, 'test_significance': False, 'evaluate_effect_strength': False, 'confidence_intervals': False, 'target_units': 'ate', 'effect_modifiers': ['HistoryOfBacklogs', 'Hostel', 'Age']}\n",
      "{'control_value': 0, 'treatment_value': 1, 'test_significance': False, 'evaluate_effect_strength': False, 'confidence_intervals': False, 'target_units': 'ate', 'effect_modifiers': ['HistoryOfBacklogs', 'Hostel', 'Age']}\n",
      "{'control_value': 0, 'treatment_value': 1, 'test_significance': False, 'evaluate_effect_strength': False, 'confidence_intervals': False, 'target_units': 'ate', 'effect_modifiers': ['HistoryOfBacklogs', 'Hostel', 'Age']}\n",
      "{'control_value': 0, 'treatment_value': 1, 'test_significance': False, 'evaluate_effect_strength': False, 'confidence_intervals': False, 'target_units': 'ate', 'effect_modifiers': ['HistoryOfBacklogs', 'Hostel', 'Age']}\n",
      "{'control_value': 0, 'treatment_value': 1, 'test_significance': False, 'evaluate_effect_strength': False, 'confidence_intervals': False, 'target_units': 'ate', 'effect_modifiers': ['HistoryOfBacklogs', 'Hostel', 'Age']}\n",
      "{'control_value': 0, 'treatment_value': 1, 'test_significance': False, 'evaluate_effect_strength': False, 'confidence_intervals': False, 'target_units': 'ate', 'effect_modifiers': ['HistoryOfBacklogs', 'Hostel', 'Age']}\n",
      "{'control_value': 0, 'treatment_value': 1, 'test_significance': False, 'evaluate_effect_strength': False, 'confidence_intervals': False, 'target_units': 'ate', 'effect_modifiers': ['HistoryOfBacklogs', 'Hostel', 'Age']}\n",
      "{'control_value': 0, 'treatment_value': 1, 'test_significance': False, 'evaluate_effect_strength': False, 'confidence_intervals': False, 'target_units': 'ate', 'effect_modifiers': ['HistoryOfBacklogs', 'Hostel', 'Age']}\n",
      "{'control_value': 0, 'treatment_value': 1, 'test_significance': False, 'evaluate_effect_strength': False, 'confidence_intervals': False, 'target_units': 'ate', 'effect_modifiers': ['HistoryOfBacklogs', 'Hostel', 'Age']}\n",
      "{'control_value': 0, 'treatment_value': 1, 'test_significance': False, 'evaluate_effect_strength': False, 'confidence_intervals': False, 'target_units': 'ate', 'effect_modifiers': ['HistoryOfBacklogs', 'Hostel', 'Age']}\n",
      "{'control_value': 0, 'treatment_value': 1, 'test_significance': False, 'evaluate_effect_strength': False, 'confidence_intervals': False, 'target_units': 'ate', 'effect_modifiers': ['HistoryOfBacklogs', 'Hostel', 'Age']}\n",
      "{'control_value': 0, 'treatment_value': 1, 'test_significance': False, 'evaluate_effect_strength': False, 'confidence_intervals': False, 'target_units': 'ate', 'effect_modifiers': ['HistoryOfBacklogs', 'Hostel', 'Age']}\n",
      "{'control_value': 0, 'treatment_value': 1, 'test_significance': False, 'evaluate_effect_strength': False, 'confidence_intervals': False, 'target_units': 'ate', 'effect_modifiers': ['HistoryOfBacklogs', 'Hostel', 'Age']}\n",
      "{'control_value': 0, 'treatment_value': 1, 'test_significance': False, 'evaluate_effect_strength': False, 'confidence_intervals': False, 'target_units': 'ate', 'effect_modifiers': ['HistoryOfBacklogs', 'Hostel', 'Age']}\n",
      "{'control_value': 0, 'treatment_value': 1, 'test_significance': False, 'evaluate_effect_strength': False, 'confidence_intervals': False, 'target_units': 'ate', 'effect_modifiers': ['HistoryOfBacklogs', 'Hostel', 'Age']}\n",
      "Refute: Add a random common cause\n",
      "Estimated effect:0.00657070905318724\n",
      "New effect:0.006551190661648701\n",
      "p value:0.8600000000000001\n",
      "\n"
     ]
    }
   ],
   "source": [
    "refutation = model.refute_estimate(identified_estimand, \n",
    "                                   estimate, \n",
    "                                   method_name=\"random_common_cause\")\n",
    "print(refutation)"
   ]
  },
  {
   "cell_type": "markdown",
   "id": "9cec2ab2-fb8c-4e6b-afdf-7d241af517ef",
   "metadata": {},
   "source": [
    "Explanation:- <br>\n",
    "The average causal effect is about 0.0065. This can be interpreted as, having a change in stream changes your probability of placement by 0.65%. <br>\n",
    "P-value is 0.86, so we can rely on the estimate."
   ]
  },
  {
   "cell_type": "markdown",
   "id": "004110d1-0fa4-4ac9-b3a1-e712a79b02a7",
   "metadata": {},
   "source": [
    "#### STEP_4.b: Refutation using \"Placebo Treatment Refuter\""
   ]
  },
  {
   "cell_type": "code",
   "execution_count": null,
   "id": "5c465fa4-ebef-4833-bfce-f784f1f991f9",
   "metadata": {},
   "outputs": [],
   "source": [
    "'''\n",
    "Randomly assigns any covariate as a treatment and re-runs the analysis. \n",
    "If our assumptions were correct then this newly found out estimate should go to 0.\n",
    "'''"
   ]
  },
  {
   "cell_type": "code",
   "execution_count": 96,
   "id": "1dd136e0-3877-4b1f-96ca-7981422dfc1e",
   "metadata": {},
   "outputs": [],
   "source": [
    "# refutation = model.refute_estimate(identified_estimand, \n",
    "#                                    estimate, \n",
    "#                                    method_name=\"placebo_treatment_refuter\",\n",
    "#                                    placebo_type=\"permute\", \n",
    "#                                    num_simulations=20)\n",
    "# print(refutation)"
   ]
  },
  {
   "cell_type": "markdown",
   "id": "cd6c66c6-6767-423e-9530-cdd37d4b7703",
   "metadata": {},
   "source": [
    "#### STEP_4.c: Refutation using \"Data Subset Refuter\""
   ]
  },
  {
   "cell_type": "code",
   "execution_count": null,
   "id": "7ed72023-61ef-49fd-891a-09e1969d1323",
   "metadata": {},
   "outputs": [],
   "source": [
    "'''\n",
    "Creates subsets of the data(similar to cross-validation) and checks whether the causal estimates vary across subsets. \n",
    "If our assumptions were correct there shouldn’t be much variation.\n",
    "'''"
   ]
  },
  {
   "cell_type": "code",
   "execution_count": 120,
   "id": "734130a0-8635-4cc3-ab9c-0ee5f8a07ef8",
   "metadata": {},
   "outputs": [],
   "source": [
    "# refutation = model.refute_estimate(identified_estimand, \n",
    "#                                    estimate, \n",
    "#                                    method_name=\"data_subset_refuter\")\n",
    "# print(refutation)"
   ]
  },
  {
   "cell_type": "code",
   "execution_count": null,
   "id": "7ed5f822-d7a7-44c2-839d-d2a5ae48c561",
   "metadata": {},
   "outputs": [],
   "source": []
  },
  {
   "cell_type": "markdown",
   "id": "8e92d739-038c-4dce-a93b-2db7d650b863",
   "metadata": {},
   "source": [
    "# Resources\n",
    "1) https://github.com/py-why/dowhy#four-steps-of-causal-inference\n",
    "2) https://www.pywhy.org/dowhy/v0.9.1/example_notebooks/dowhy_simple_example.html"
   ]
  },
  {
   "cell_type": "code",
   "execution_count": null,
   "id": "bc2196c0-5a00-46a9-915c-3dd5592ca712",
   "metadata": {},
   "outputs": [],
   "source": []
  },
  {
   "cell_type": "code",
   "execution_count": null,
   "id": "6fd2e50e-8d65-499e-8be0-ceec4bb895c7",
   "metadata": {},
   "outputs": [],
   "source": []
  }
 ],
 "metadata": {
  "kernelspec": {
   "display_name": "Python 3 (ipykernel)",
   "language": "python",
   "name": "python3"
  },
  "language_info": {
   "codemirror_mode": {
    "name": "ipython",
    "version": 3
   },
   "file_extension": ".py",
   "mimetype": "text/x-python",
   "name": "python",
   "nbconvert_exporter": "python",
   "pygments_lexer": "ipython3",
   "version": "3.7.4"
  }
 },
 "nbformat": 4,
 "nbformat_minor": 5
}
