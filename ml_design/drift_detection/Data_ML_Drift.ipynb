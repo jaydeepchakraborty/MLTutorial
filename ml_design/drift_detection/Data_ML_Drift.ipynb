{
 "cells": [
  {
   "cell_type": "markdown",
   "id": "c3e11fda-c451-424c-8fab-92b2aee86332",
   "metadata": {},
   "source": [
    "# Data Drift"
   ]
  },
  {
   "cell_type": "markdown",
   "id": "9cf88a9a-7d6e-4fc2-8b76-5cd27e1dd856",
   "metadata": {},
   "source": [
    "==> <b>Definition</b> </br>\n",
    "Drift is the variation between data from different timestamps."
   ]
  },
  {
   "cell_type": "markdown",
   "id": "9ff238a4-7d47-4681-8e94-c61a1f49ac41",
   "metadata": {},
   "source": [
    "==> <b>There Are mainly two types of Data Drift.</b> <br>\n",
    "1) Data drift (features) <br>\n",
    "--> This is for measuring the drifts in features\n",
    "2)  Concept drift (model output) <br>\n",
    "--> This is for measuring the drifts in target / model output"
   ]
  },
  {
   "cell_type": "markdown",
   "id": "ad274429-80ec-4f9e-9fb9-b3063f7e1576",
   "metadata": {},
   "source": [
    "==> <b>Below STAT methods are used for calculating drift. These methods are after data drifts happened (reactive).</b> <br>\n",
    "(https://docs.evidentlyai.com/user-guide/customization/options-for-statistical-tests) <br>\n",
    "\n",
    "1) Kolmogorov–Smirnov (K-S) test <br>\n",
    "--> only for numerical features <br>\n",
    "--> returns p_value <br>\n",
    "--> drift detected when p_value < threshold <br>\n",
    "<br>\n",
    "2) Chi-Square test <br>\n",
    "--> only for categorical features. <br>\n",
    "--> if the number of labels for feature > 2 <br>\n",
    "--> returns p_value <br>\n",
    "--> drift detected when p_value < threshold <br>\n",
    "<br>\n",
    "3) Z-test <br>\n",
    "--> only for categorical features <br>\n",
    "--> if the number of labels for feature <= 2 <br>\n",
    "--> returns p_value <br>\n",
    "--> drift detected when p_value < threshold <br>\n",
    "<br>\n",
    "4) T-Test <br>\n",
    "--> only for numerical features <br>\n",
    "--> returns p-value <br>\n",
    "--> drift detected when p_value < threshold <br>\n",
    "<br>\n",
    "4) Wasserstein distance <br>\n",
    "--> only for numerical features <br>\n",
    "--> returns distance <br>\n",
    "--> drift detected when distance >= threshold <br>\n",
    "<br>\n",
    "5) Kullback-Leibler divergence (KL-divergence) <br>\n",
    "--> for numerical and categorical features <br>\n",
    "--> returns divergence <br>\n",
    "--> drift detected when divergence >= threshold <br>\n",
    "<br>\n",
    "6) Population Stability Index (PSI) <br>\n",
    "--> or numerical and categorical features <br>\n",
    "--> returns psi_value <br>\n",
    "--> drift detected when psi_value >= threshold <br>\n",
    "<br>\n",
    "7) Jensen-Shannon distance <br>\n",
    "--> for numerical and categorical features <br>\n",
    "--> returns distance <br>\n",
    "--> drift detected when distance >= threshold <br>"
   ]
  },
  {
   "cell_type": "code",
   "execution_count": null,
   "id": "400aa013-19c1-41aa-9674-6489a75f15b5",
   "metadata": {},
   "outputs": [],
   "source": [
    "#proactive\n",
    "# pending"
   ]
  },
  {
   "cell_type": "markdown",
   "id": "66e811a5-ba64-4393-9081-1d785b441270",
   "metadata": {},
   "source": [
    "==> <b>Steps after detection od drift.</b> <br>\n",
    "1) blindly update model with retraining\n",
    "2) Incremental learning"
   ]
  },
  {
   "cell_type": "code",
   "execution_count": 14,
   "id": "45479b57-0cb1-466c-88b4-973cbc550a0f",
   "metadata": {},
   "outputs": [
    {
     "name": "stdout",
     "output_type": "stream",
     "text": [
      "Installing /Users/jaydeepchakraborty/JC/git-projects/py_stat/venv/lib/python3.7/site-packages/evidently/nbextension/static -> evidently\n",
      "Removing: /Users/jaydeepchakraborty/JC/git-projects/py_stat/venv/share/jupyter/nbextensions/evidently\n",
      "Symlinking: /Users/jaydeepchakraborty/JC/git-projects/py_stat/venv/share/jupyter/nbextensions/evidently -> /Users/jaydeepchakraborty/JC/git-projects/py_stat/venv/lib/python3.7/site-packages/evidently/nbextension/static\n",
      "- Validating: \u001b[32mOK\u001b[0m\n",
      "\n",
      "    To initialize this nbextension in the browser every time the notebook (or other app) loads:\n",
      "    \n",
      "          jupyter nbextension enable evidently --py --sys-prefix\n",
      "    \n",
      "Enabling notebook extension evidently/extension...\n",
      "      - Validating: \u001b[32mOK\u001b[0m\n"
     ]
    }
   ],
   "source": [
    "'''\n",
    "install jupyter nbextension, run\n",
    "'''\n",
    "!jupyter nbextension install --sys-prefix --symlink --overwrite --py evidently\n",
    "\n",
    "!jupyter nbextension enable evidently --py --sys-prefix"
   ]
  },
  {
   "cell_type": "code",
   "execution_count": 15,
   "id": "80a361c8-ca88-45ec-9de6-c30103566baa",
   "metadata": {},
   "outputs": [
    {
     "data": {
      "text/plain": [
       "'\\nDATASET:\\nThe dataset is the Cleveland Heart Disease dataset taken from the UCI repository. \\nhttps://www.kaggle.com/datasets/ritwikb3/heart-disease-cleveland\\n'"
      ]
     },
     "execution_count": 15,
     "metadata": {},
     "output_type": "execute_result"
    }
   ],
   "source": [
    "'''\n",
    "DATASET:\n",
    "The dataset is the Cleveland Heart Disease dataset taken from the UCI repository. \n",
    "https://www.kaggle.com/datasets/ritwikb3/heart-disease-cleveland\n",
    "'''"
   ]
  },
  {
   "cell_type": "code",
   "execution_count": 1,
   "id": "0837d4ce-3c5c-4dd1-81d9-fbe61e4dbbe6",
   "metadata": {},
   "outputs": [],
   "source": [
    "'''\n",
    "## import statements\n",
    "!pip install git+https://github.com/evidentlyai/evidently.git\n",
    "'''\n",
    "import pandas as pd\n",
    "from IPython.display import display\n",
    "import evidently\n",
    "from evidently import ColumnMapping\n",
    "from evidently.report import Report\n",
    "from evidently.metric_preset import DataDriftPreset, TargetDriftPreset\n",
    "from evidently.metrics import ColumnDriftMetric"
   ]
  },
  {
   "cell_type": "code",
   "execution_count": 2,
   "id": "b7ab8c8b-7b4e-4f71-8c5f-840138c7efa4",
   "metadata": {},
   "outputs": [],
   "source": [
    "'''\n",
    "## Populate the config\n",
    "'''\n",
    "def get_conf():\n",
    "    conf = {\n",
    "        \"data_path\": \"/Users/jaydeepchakraborty/JC/git-projects/model_util/DataSets/HeartDiseaseCleveland/\",\n",
    "        \"data_fl\": \"Heart_disease_cleveland.csv\",\n",
    "        \"report_fl\": \"/Users/jaydeepchakraborty/JC/git-projects/model_util/plots/data_drift/report_{ind}.html\"\n",
    "    }\n",
    "    return conf"
   ]
  },
  {
   "cell_type": "code",
   "execution_count": 3,
   "id": "6797c870-dce5-4732-b603-9e06e1f91f92",
   "metadata": {},
   "outputs": [],
   "source": [
    "'''\n",
    "## Load the Dataset\n",
    "\n",
    "\n",
    "Age: Patients Age in years (Numeric)\n",
    "Sex: Gender (Male : 1; Female : 0) (Nominal)\n",
    "cp: Type of chest pain experienced by patient. This term categorized into 4 category.\n",
    "0 typical angina, 1 atypical angina, 2 non- anginal pain, 3 asymptomatic (Nominal)\n",
    "chol: Serum cholesterol in mg/dl (Numeric)\n",
    "thalach: Maximum heart rate achieved (Numeric)\n",
    "target: It is the target variable which we have to predict 1 means patient is suffering from heart disease and 0 means patient is normal.\n",
    "'''\n",
    "def get_data(conf):\n",
    "    data = pd.read_csv(conf[\"data_path\"]+conf[\"data_fl\"])\n",
    "    data = data[[\"age\", \"sex\", \"cp\", \"chol\", \"thalach\", \"target\"]]\n",
    "    return data"
   ]
  },
  {
   "cell_type": "code",
   "execution_count": 4,
   "id": "337745b7-6f65-4742-ae74-aba3644caad0",
   "metadata": {},
   "outputs": [],
   "source": [
    "'''\n",
    "## Populating data metric\n",
    "'''\n",
    "def populate_data_metric(data):\n",
    "    display(\"Data Length:-\")\n",
    "    display(len(data))\n",
    "    display(\"Data Description:-\")\n",
    "    display(data.describe())\n",
    "    display(\"Data Samples:-\")\n",
    "    display(data.head(3))\n",
    "    \n",
    "    display(\"Data Columns and Types (before):-\")\n",
    "    for col in data.columns:\n",
    "        print(f\"Column Name:- {col}  Column Type:- {data[col].dtype}\")\n",
    "      \n",
    "    # 'string', 'category', 'int64', 'float64'\n",
    "    data['age'] = data['age'].astype('int64')\n",
    "    data['sex'] = data['sex'].astype('category')\n",
    "    data['cp'] = data['cp'].astype('category')\n",
    "    data['chol'] = data['chol'].astype('int64')\n",
    "    data['thalach'] = data['thalach'].astype('int64')\n",
    "    data['target'] = data['target'].astype('category')\n",
    "    \n",
    "    display(\"Data Columns and Types (after):-\")\n",
    "    for col in data.columns:\n",
    "        print(f\"Column Name:- {col}  Column Type:- {data[col].dtype}\")\n",
    "    "
   ]
  },
  {
   "cell_type": "code",
   "execution_count": 5,
   "id": "bca861f8-c99f-47d5-9703-15c1b0e725f0",
   "metadata": {},
   "outputs": [],
   "source": [
    "'''\n",
    "## Splitting data for drift\n",
    "'''\n",
    "def split_data(data):\n",
    "    reference = data.sample(n=150, replace=False)\n",
    "    current = data.sample(n=150, replace=False)\n",
    "    return reference, current"
   ]
  },
  {
   "cell_type": "code",
   "execution_count": 6,
   "id": "ba9c8695-a811-4f23-9bb0-e84c0dead1bb",
   "metadata": {},
   "outputs": [],
   "source": [
    "'''\n",
    "## Generating the report\n",
    "~ https://docs.evidentlyai.com/reference/data-drift-algorithm\n",
    "~ https://docs.evidentlyai.com/user-guide/input-data/column-mapping\n",
    "~ https://docs.evidentlyai.com/presets/data-drift\n",
    "~ \n",
    "'''\n",
    "def generate_report(ref, cur):\n",
    "    \n",
    "    column_mapping = ColumnMapping()\n",
    "    \n",
    "    column_mapping.numerical_features = ['age', 'chol', 'thalach'] #list of numerical features\n",
    "    column_mapping.categorical_features = ['sex', 'cp'] #list of categorical features\n",
    "    column_mapping.target = 'target' #'target' is the name of the column with the target function\n",
    "    \n",
    "    data_drift_report = Report(metrics=[\n",
    "        DataDriftPreset(),\n",
    "        TargetDriftPreset(),\n",
    "    ])\n",
    "    \n",
    "    data_drift_report.run(reference_data=ref, current_data=cur, column_mapping=column_mapping)\n",
    "    \n",
    "    return data_drift_report"
   ]
  },
  {
   "cell_type": "code",
   "execution_count": 7,
   "id": "a684734b-e1f4-457d-adbb-76d916c155fd",
   "metadata": {},
   "outputs": [],
   "source": [
    "'''\n",
    "## Generating the custom report\n",
    "~ https://docs.evidentlyai.com/reference/data-drift-algorithm\n",
    "~ https://docs.evidentlyai.com/user-guide/customization/options-for-statistical-tests\n",
    "~ https://github.com/evidentlyai/evidently/tree/b4b1f80b4e2541e6303726d3d4691ca49c85105c/src/evidently/calculations/stattests\n",
    "# sex := Nominal (0, 1)\n",
    "# cp := Nominal (0, 1, 2, 3)\n",
    "# age, chol, thalach := numerical\n",
    "'''\n",
    "def generate_custom_report(ref, cur):\n",
    "    \n",
    "    column_mapping = ColumnMapping()\n",
    "    \n",
    "    column_mapping.numerical_features = ['age', 'chol', 'thalach'] #list of numerical features\n",
    "    column_mapping.categorical_features = ['sex', 'cp'] #list of categorical features\n",
    "    column_mapping.target = 'target' #'target' is the name of the column with the target function\n",
    "    \n",
    "    data_drift_report = Report(metrics=[\n",
    "        ColumnDriftMetric(column_name='sex', stattest='z'),\n",
    "        ColumnDriftMetric(column_name='sex', stattest='kl_div'),\n",
    "        ColumnDriftMetric(column_name='sex', stattest='psi'),\n",
    "        ColumnDriftMetric(column_name='sex', stattest='jensenshannon'),\n",
    "        ColumnDriftMetric(column_name='cp', stattest='chisquare'),\n",
    "        ColumnDriftMetric(column_name='cp', stattest='kl_div'),\n",
    "        ColumnDriftMetric(column_name='cp', stattest='psi'),\n",
    "        ColumnDriftMetric(column_name='cp', stattest='jensenshannon'),\n",
    "        ColumnDriftMetric(column_name='age', stattest='kl_div'),\n",
    "        ColumnDriftMetric(column_name='age', stattest='t_test'),\n",
    "        ColumnDriftMetric(column_name='age', stattest='wasserstein'),\n",
    "        ColumnDriftMetric(column_name='age', stattest='jensenshannon'),\n",
    "        ColumnDriftMetric(column_name='age', stattest='psi'),\n",
    "        ColumnDriftMetric(column_name='chol', stattest='kl_div'),\n",
    "        ColumnDriftMetric(column_name='chol', stattest='t_test'),\n",
    "        ColumnDriftMetric(column_name='chol', stattest='wasserstein'),\n",
    "        ColumnDriftMetric(column_name='chol', stattest='jensenshannon'),\n",
    "        ColumnDriftMetric(column_name='chol', stattest='psi'),\n",
    "        ColumnDriftMetric(column_name='thalach', stattest='kl_div'),\n",
    "        ColumnDriftMetric(column_name='thalach', stattest='t_test'),\n",
    "        ColumnDriftMetric(column_name='thalach', stattest='wasserstein'),\n",
    "        ColumnDriftMetric(column_name='thalach', stattest='jensenshannon'),\n",
    "        ColumnDriftMetric(column_name='thalach', stattest='psi'),\n",
    "    ])\n",
    "    \n",
    "    data_drift_report.run(reference_data=ref, current_data=cur, column_mapping=column_mapping)\n",
    "    \n",
    "    return data_drift_report"
   ]
  },
  {
   "cell_type": "code",
   "execution_count": 8,
   "id": "690ae3f3-3215-4288-8f40-63aed7a53fef",
   "metadata": {},
   "outputs": [],
   "source": [
    "'''\n",
    "## Saving the report\n",
    "'''\n",
    "def save_report(report, conf, ind=\"\"):\n",
    "    report.save_html(conf[\"report_fl\"].replace(\"{ind}\", ind))"
   ]
  },
  {
   "cell_type": "code",
   "execution_count": 9,
   "id": "9132437c-2d2a-45a3-a456-b273ce4f9536",
   "metadata": {},
   "outputs": [
    {
     "data": {
      "text/plain": [
       "'Data Length:-'"
      ]
     },
     "metadata": {},
     "output_type": "display_data"
    },
    {
     "data": {
      "text/plain": [
       "303"
      ]
     },
     "metadata": {},
     "output_type": "display_data"
    },
    {
     "data": {
      "text/plain": [
       "'Data Description:-'"
      ]
     },
     "metadata": {},
     "output_type": "display_data"
    },
    {
     "data": {
      "text/html": [
       "<div>\n",
       "<style scoped>\n",
       "    .dataframe tbody tr th:only-of-type {\n",
       "        vertical-align: middle;\n",
       "    }\n",
       "\n",
       "    .dataframe tbody tr th {\n",
       "        vertical-align: top;\n",
       "    }\n",
       "\n",
       "    .dataframe thead th {\n",
       "        text-align: right;\n",
       "    }\n",
       "</style>\n",
       "<table border=\"1\" class=\"dataframe\">\n",
       "  <thead>\n",
       "    <tr style=\"text-align: right;\">\n",
       "      <th></th>\n",
       "      <th>age</th>\n",
       "      <th>sex</th>\n",
       "      <th>cp</th>\n",
       "      <th>chol</th>\n",
       "      <th>thalach</th>\n",
       "      <th>target</th>\n",
       "    </tr>\n",
       "  </thead>\n",
       "  <tbody>\n",
       "    <tr>\n",
       "      <th>count</th>\n",
       "      <td>303.000000</td>\n",
       "      <td>303.000000</td>\n",
       "      <td>303.000000</td>\n",
       "      <td>303.000000</td>\n",
       "      <td>303.000000</td>\n",
       "      <td>303.000000</td>\n",
       "    </tr>\n",
       "    <tr>\n",
       "      <th>mean</th>\n",
       "      <td>54.438944</td>\n",
       "      <td>0.679868</td>\n",
       "      <td>2.158416</td>\n",
       "      <td>246.693069</td>\n",
       "      <td>149.607261</td>\n",
       "      <td>0.458746</td>\n",
       "    </tr>\n",
       "    <tr>\n",
       "      <th>std</th>\n",
       "      <td>9.038662</td>\n",
       "      <td>0.467299</td>\n",
       "      <td>0.960126</td>\n",
       "      <td>51.776918</td>\n",
       "      <td>22.875003</td>\n",
       "      <td>0.499120</td>\n",
       "    </tr>\n",
       "    <tr>\n",
       "      <th>min</th>\n",
       "      <td>29.000000</td>\n",
       "      <td>0.000000</td>\n",
       "      <td>0.000000</td>\n",
       "      <td>126.000000</td>\n",
       "      <td>71.000000</td>\n",
       "      <td>0.000000</td>\n",
       "    </tr>\n",
       "    <tr>\n",
       "      <th>25%</th>\n",
       "      <td>48.000000</td>\n",
       "      <td>0.000000</td>\n",
       "      <td>2.000000</td>\n",
       "      <td>211.000000</td>\n",
       "      <td>133.500000</td>\n",
       "      <td>0.000000</td>\n",
       "    </tr>\n",
       "    <tr>\n",
       "      <th>50%</th>\n",
       "      <td>56.000000</td>\n",
       "      <td>1.000000</td>\n",
       "      <td>2.000000</td>\n",
       "      <td>241.000000</td>\n",
       "      <td>153.000000</td>\n",
       "      <td>0.000000</td>\n",
       "    </tr>\n",
       "    <tr>\n",
       "      <th>75%</th>\n",
       "      <td>61.000000</td>\n",
       "      <td>1.000000</td>\n",
       "      <td>3.000000</td>\n",
       "      <td>275.000000</td>\n",
       "      <td>166.000000</td>\n",
       "      <td>1.000000</td>\n",
       "    </tr>\n",
       "    <tr>\n",
       "      <th>max</th>\n",
       "      <td>77.000000</td>\n",
       "      <td>1.000000</td>\n",
       "      <td>3.000000</td>\n",
       "      <td>564.000000</td>\n",
       "      <td>202.000000</td>\n",
       "      <td>1.000000</td>\n",
       "    </tr>\n",
       "  </tbody>\n",
       "</table>\n",
       "</div>"
      ],
      "text/plain": [
       "              age         sex          cp        chol     thalach      target\n",
       "count  303.000000  303.000000  303.000000  303.000000  303.000000  303.000000\n",
       "mean    54.438944    0.679868    2.158416  246.693069  149.607261    0.458746\n",
       "std      9.038662    0.467299    0.960126   51.776918   22.875003    0.499120\n",
       "min     29.000000    0.000000    0.000000  126.000000   71.000000    0.000000\n",
       "25%     48.000000    0.000000    2.000000  211.000000  133.500000    0.000000\n",
       "50%     56.000000    1.000000    2.000000  241.000000  153.000000    0.000000\n",
       "75%     61.000000    1.000000    3.000000  275.000000  166.000000    1.000000\n",
       "max     77.000000    1.000000    3.000000  564.000000  202.000000    1.000000"
      ]
     },
     "metadata": {},
     "output_type": "display_data"
    },
    {
     "data": {
      "text/plain": [
       "'Data Samples:-'"
      ]
     },
     "metadata": {},
     "output_type": "display_data"
    },
    {
     "data": {
      "text/html": [
       "<div>\n",
       "<style scoped>\n",
       "    .dataframe tbody tr th:only-of-type {\n",
       "        vertical-align: middle;\n",
       "    }\n",
       "\n",
       "    .dataframe tbody tr th {\n",
       "        vertical-align: top;\n",
       "    }\n",
       "\n",
       "    .dataframe thead th {\n",
       "        text-align: right;\n",
       "    }\n",
       "</style>\n",
       "<table border=\"1\" class=\"dataframe\">\n",
       "  <thead>\n",
       "    <tr style=\"text-align: right;\">\n",
       "      <th></th>\n",
       "      <th>age</th>\n",
       "      <th>sex</th>\n",
       "      <th>cp</th>\n",
       "      <th>chol</th>\n",
       "      <th>thalach</th>\n",
       "      <th>target</th>\n",
       "    </tr>\n",
       "  </thead>\n",
       "  <tbody>\n",
       "    <tr>\n",
       "      <th>0</th>\n",
       "      <td>63</td>\n",
       "      <td>1</td>\n",
       "      <td>0</td>\n",
       "      <td>233</td>\n",
       "      <td>150</td>\n",
       "      <td>0</td>\n",
       "    </tr>\n",
       "    <tr>\n",
       "      <th>1</th>\n",
       "      <td>67</td>\n",
       "      <td>1</td>\n",
       "      <td>3</td>\n",
       "      <td>286</td>\n",
       "      <td>108</td>\n",
       "      <td>1</td>\n",
       "    </tr>\n",
       "    <tr>\n",
       "      <th>2</th>\n",
       "      <td>67</td>\n",
       "      <td>1</td>\n",
       "      <td>3</td>\n",
       "      <td>229</td>\n",
       "      <td>129</td>\n",
       "      <td>1</td>\n",
       "    </tr>\n",
       "  </tbody>\n",
       "</table>\n",
       "</div>"
      ],
      "text/plain": [
       "   age  sex  cp  chol  thalach  target\n",
       "0   63    1   0   233      150       0\n",
       "1   67    1   3   286      108       1\n",
       "2   67    1   3   229      129       1"
      ]
     },
     "metadata": {},
     "output_type": "display_data"
    },
    {
     "data": {
      "text/plain": [
       "'Data Columns and Types (before):-'"
      ]
     },
     "metadata": {},
     "output_type": "display_data"
    },
    {
     "name": "stdout",
     "output_type": "stream",
     "text": [
      "Column Name:- age  Column Type:- int64\n",
      "Column Name:- sex  Column Type:- int64\n",
      "Column Name:- cp  Column Type:- int64\n",
      "Column Name:- chol  Column Type:- int64\n",
      "Column Name:- thalach  Column Type:- int64\n",
      "Column Name:- target  Column Type:- int64\n"
     ]
    },
    {
     "data": {
      "text/plain": [
       "'Data Columns and Types (after):-'"
      ]
     },
     "metadata": {},
     "output_type": "display_data"
    },
    {
     "name": "stdout",
     "output_type": "stream",
     "text": [
      "Column Name:- age  Column Type:- int64\n",
      "Column Name:- sex  Column Type:- category\n",
      "Column Name:- cp  Column Type:- category\n",
      "Column Name:- chol  Column Type:- int64\n",
      "Column Name:- thalach  Column Type:- int64\n",
      "Column Name:- target  Column Type:- category\n"
     ]
    }
   ],
   "source": [
    "if __name__ == \"__main__\":\n",
    "    conf = get_conf()\n",
    "    data = get_data(conf)\n",
    "    populate_data_metric(data)\n",
    "    reference_data, current_data = split_data(data)\n",
    "    default_report = generate_report(reference_data, current_data)\n",
    "    save_report(default_report, conf, \"default\")\n",
    "    custom_report = generate_custom_report(reference_data, current_data)\n",
    "    save_report(custom_report, conf, \"custom\")"
   ]
  },
  {
   "cell_type": "markdown",
   "id": "433b6c18-e035-4093-aa74-df7136857151",
   "metadata": {},
   "source": [
    "# Resources\n",
    "1) https://www.youtube.com/watch?v=tQjRQWfYQ10\n",
    "2) https://docs.evidentlyai.com/examples\n",
    "3) https://towardsdatascience.com/why-data-drift-detection-is-important-and-how-do-you-automate-it-in-5-simple-steps-96d611095d93\n",
    "4) https://www.evidentlyai.com/blog/data-drift-detection-large-datasets\n",
    "5) https://www.kaggle.com/discussions/general/325253\n",
    "6) https://towardsdatascience.com/calculating-data-drift-in-machine-learning-53676ff5646b"
   ]
  },
  {
   "cell_type": "code",
   "execution_count": null,
   "id": "4ff61531-593b-4e0d-8acf-083c16d0678b",
   "metadata": {},
   "outputs": [],
   "source": []
  }
 ],
 "metadata": {
  "kernelspec": {
   "display_name": "Python 3 (ipykernel)",
   "language": "python",
   "name": "python3"
  },
  "language_info": {
   "codemirror_mode": {
    "name": "ipython",
    "version": 3
   },
   "file_extension": ".py",
   "mimetype": "text/x-python",
   "name": "python",
   "nbconvert_exporter": "python",
   "pygments_lexer": "ipython3",
   "version": "3.7.4"
  }
 },
 "nbformat": 4,
 "nbformat_minor": 5
}
