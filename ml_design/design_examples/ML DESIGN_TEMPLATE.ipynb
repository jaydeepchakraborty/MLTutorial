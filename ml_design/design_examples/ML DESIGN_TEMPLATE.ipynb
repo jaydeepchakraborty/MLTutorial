{
 "cells": [
  {
   "cell_type": "markdown",
   "id": "3cef13fa-7a8f-4561-a868-ce090477a2bc",
   "metadata": {},
   "source": [
    "## Step1 - Problem Statement"
   ]
  },
  {
   "cell_type": "raw",
   "id": "1f9d501b-3b33-4695-919d-04a05db3be3e",
   "metadata": {},
   "source": [
    "1) First understand the problem.\n",
    "2) Reword the problem statement to narrow it down and make it very specific."
   ]
  },
  {
   "cell_type": "raw",
   "id": "c917aaf3-b345-40cd-90eb-7024249a030f",
   "metadata": {},
   "source": [
    "Now Ask the following questions which will help in later sections.\n",
    "\n",
    "Scalabilty:\n",
    "1) How many users per day/minute\n",
    "2) How many info (ads, tweets, stories, posts) are expected\n",
    "\n",
    "Latency:\n",
    "1) How fast model should predict\n",
    "\n",
    "Cost (time+money):\n",
    "1) Cost of Training Data collection\n",
    "2) Cost of single machine/distributed machine (train, inference)\n",
    "3) Cost of retraining the model\n",
    "\n",
    "Metric to Evaluate:\n",
    "1) Offline Metric\n",
    "Precision, Recall, F1, R^2, MSE etc\n",
    "2) Online Metric\n",
    "click-through-rate (CTR), user engagement"
   ]
  }
 ],
 "metadata": {
  "kernelspec": {
   "display_name": "Python 3 (ipykernel)",
   "language": "python",
   "name": "python3"
  },
  "language_info": {
   "codemirror_mode": {
    "name": "ipython",
    "version": 3
   },
   "file_extension": ".py",
   "mimetype": "text/x-python",
   "name": "python",
   "nbconvert_exporter": "python",
   "pygments_lexer": "ipython3",
   "version": "3.7.4"
  }
 },
 "nbformat": 4,
 "nbformat_minor": 5
}
