{
 "cells": [
  {
   "cell_type": "markdown",
   "id": "989fef4d-6e9d-41e3-9b05-6567b9261e6a",
   "metadata": {},
   "source": [
    "## Meta"
   ]
  },
  {
   "cell_type": "markdown",
   "id": "6cccca9a-b03d-4a68-b0ea-f2969dc6f996",
   "metadata": {},
   "source": [
    "1) Predict the probability that a user will click on a given post\n",
    "2) Predict how likely a user is to consider a given ad relevant and useful\n",
    "3) Design a newsfeed using machine learning \n",
    "4) How would you build, train, and deploy a system that detects if multimedia and/or ads content violates terms or contains offensive materials? \n",
    "5) How would you build machine learning algorithms that rank feeds\n",
    "6) How would you build machine learning algorithms that rank ads\n",
    "7) How would you build machine learning algorithms that rank search results\n",
    "8) text understanding algorithms that keep spam and misleading content at bay.\n",
    "9) New computer vision algorithms can “read” images and videos to the blind\n",
    "10) display over 2 billion translated stories every day,\n",
    "11) speech recognition systems automatically caption the videos that play in your news feed\n",
    "12) Design a system that recommends our products to users who have a profile."
   ]
  },
  {
   "cell_type": "code",
   "execution_count": null,
   "id": "6de58308-e322-46e8-88bd-2c5520baed4d",
   "metadata": {},
   "outputs": [],
   "source": []
  }
 ],
 "metadata": {
  "kernelspec": {
   "display_name": "Python 3 (ipykernel)",
   "language": "python",
   "name": "python3"
  },
  "language_info": {
   "codemirror_mode": {
    "name": "ipython",
    "version": 3
   },
   "file_extension": ".py",
   "mimetype": "text/x-python",
   "name": "python",
   "nbconvert_exporter": "python",
   "pygments_lexer": "ipython3",
   "version": "3.7.4"
  }
 },
 "nbformat": 4,
 "nbformat_minor": 5
}
