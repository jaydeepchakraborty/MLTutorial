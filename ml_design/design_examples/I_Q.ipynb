{
 "cells": [
  {
   "cell_type": "raw",
   "id": "189ae5d3-9830-4f91-88f3-4bb9ffa0e0f7",
   "metadata": {},
   "source": [
    "Interview Question:\n",
    "Design ML system for entity-linking to improve search relevance."
   ]
  },
  {
   "cell_type": "raw",
   "id": "e671a81e-c115-49e9-a855-d0f4fcbc0481",
   "metadata": {},
   "source": [
    "Step-1: UNDERSTAND THE PROBLEM STATEMENT"
   ]
  },
  {
   "cell_type": "raw",
   "id": "50927577-d0ec-48b2-b481-54004bdddd52",
   "metadata": {},
   "source": [
    "1) What are entities here ?\n"
   ]
  },
  {
   "cell_type": "raw",
   "id": "178deddb-d406-49e0-a8ba-efa92af42f10",
   "metadata": {},
   "source": [
    "2) what is search relevance ?"
   ]
  },
  {
   "cell_type": "raw",
   "id": "aa5e1f5c-d574-4ddb-81c2-cad64c836e97",
   "metadata": {},
   "source": [
    "3) improve in what sense ?"
   ]
  },
  {
   "cell_type": "raw",
   "id": "e4f369c4-8172-49c7-82bb-b819c183725b",
   "metadata": {},
   "source": [
    "Step-2: USER/STAKEHOLDERS - USER JOURNEY"
   ]
  },
  {
   "cell_type": "raw",
   "id": "16049619-ea4a-4d5f-90c3-95993ee6d384",
   "metadata": {},
   "source": [
    "1) What are users here ? How many ?"
   ]
  },
  {
   "cell_type": "raw",
   "id": "4226ae08-3243-41b3-af33-0411382525b8",
   "metadata": {},
   "source": [
    "Step-3: LATENCY"
   ]
  },
  {
   "cell_type": "raw",
   "id": "110fa90d-1386-4933-b5a8-0661d9957938",
   "metadata": {},
   "source": [
    "1) What is expectation of return search result ?\n",
    "100 millisec , 500 millisec"
   ]
  },
  {
   "cell_type": "raw",
   "id": "9d4f15c3-c403-41d7-8f5f-89a2928e4456",
   "metadata": {},
   "source": [
    "STEP-4: SCALE"
   ]
  },
  {
   "cell_type": "raw",
   "id": "5b696495-3f35-4fe7-9817-d742d878d131",
   "metadata": {},
   "source": [
    "1) How many search query per second do we anticipate to handle ?\n"
   ]
  },
  {
   "cell_type": "raw",
   "id": "bd7822a3-c538-4ff9-bad3-5b7b9bb5fe30",
   "metadata": {},
   "source": [
    "2) How many results can be shown ?"
   ]
  },
  {
   "cell_type": "raw",
   "id": "a9144bee-8e1d-4027-830f-17449e0a9dae",
   "metadata": {},
   "source": [
    "3) vertical scale or horizontal scale"
   ]
  },
  {
   "cell_type": "raw",
   "id": "0dc68444-ae0a-494c-a8dc-e9bf669a9496",
   "metadata": {},
   "source": [
    "STEP-5: METRIC"
   ]
  },
  {
   "cell_type": "raw",
   "id": "87169ad4-18de-4115-a96f-acc52ac07eeb",
   "metadata": {},
   "source": [
    "STEP-5.1:  OFFLINE METRIC (model performance during development)"
   ]
  },
  {
   "cell_type": "raw",
   "id": "e64756e1-b828-484e-bfcc-bfeafb537f0c",
   "metadata": {},
   "source": [
    "As it ranking problem - NDCG"
   ]
  },
  {
   "cell_type": "raw",
   "id": "5013a206-f54d-432f-b3b1-e8ca24f201ba",
   "metadata": {},
   "source": [
    "STEP-5.2: ONLINE METRIC (model performance during inference)"
   ]
  },
  {
   "cell_type": "raw",
   "id": "969d9daf-3a45-41d6-95b5-7e5f4962361b",
   "metadata": {},
   "source": [
    "-- User Engagement:\n",
    "1) Wheather user clicked anyone from top-5 or top-10 results?\n",
    "\n",
    "-- User Retention:\n",
    "1) How many times user used the search engine?"
   ]
  },
  {
   "cell_type": "raw",
   "id": "2f3f44d1-65a5-4a09-8d30-cafe979a2b71",
   "metadata": {},
   "source": [
    "STEP-6: ARCHITECTURE"
   ]
  },
  {
   "cell_type": "raw",
   "id": "e8fefb3b-ac81-4c47-8582-a0d0baef85d9",
   "metadata": {},
   "source": [
    "-- Different Components of the system\n",
    "User~Query \n",
    "    --> Load Balancing (Component-1)\n",
    "    --> Query Understanding (Component-2)\n",
    "    --> Filtering data ~ Narrow down search space ~ Generate Candidates  (Component-3)\n",
    "    --> Ranker ~ ranking candidates (Component-4)\n",
    "    --> return result to user (Component-5)"
   ]
  },
  {
   "cell_type": "raw",
   "id": "b27ac472-0656-45bc-83e5-f96bc7d25ed3",
   "metadata": {},
   "source": [
    "STEP-6: OFFLINE ~ BUILDING and EVALUATION"
   ]
  },
  {
   "cell_type": "raw",
   "id": "76aec4f4-d379-43b0-9e56-bfd21dd61e3d",
   "metadata": {},
   "source": [
    "1) Human leveled data\n",
    "It is very costly and time taking\n",
    "User's intercation with pre-existing system ~ online\n",
    "Build the product in a way that it collects data from user"
   ]
  },
  {
   "cell_type": "raw",
   "id": "5bb60ae2-0030-4e7e-bedd-1b7fd893e954",
   "metadata": {},
   "source": [
    "2) Collecting data through online system\n",
    "For search, result - \n",
    "If user clicks on the result then it is positive training data"
   ]
  },
  {
   "cell_type": "raw",
   "id": "a61eff3b-20ca-4536-beaf-443eb55c37b1",
   "metadata": {},
   "source": [
    "3) What are the features ?"
   ]
  },
  {
   "cell_type": "raw",
   "id": "ee90b11c-d2c0-42ae-90c0-33dc54355334",
   "metadata": {},
   "source": [
    "4) How much training data is needed ? "
   ]
  },
  {
   "cell_type": "raw",
   "id": "2f205616-56c0-4d1c-ad22-9b499cc69552",
   "metadata": {},
   "source": [
    "5) Training Complexity - \n",
    "Total number of training data\n",
    "Time taken by the model to train"
   ]
  },
  {
   "cell_type": "raw",
   "id": "e6352d23-7104-4023-9d76-897d4772c1f2",
   "metadata": {},
   "source": [
    "6) Sample Complexity - \n",
    "Total number of samples - sample techniques\n",
    "Time taken to generate sample"
   ]
  },
  {
   "cell_type": "raw",
   "id": "c7a72667-fed2-4f37-9120-f5b154c26a23",
   "metadata": {},
   "source": [
    "4) Use offline metric Evaluation\n",
    "NDCG"
   ]
  },
  {
   "cell_type": "raw",
   "id": "99765119-a3fe-4aad-9e44-f999a1e9351f",
   "metadata": {},
   "source": [
    "5) Evaluation time ?"
   ]
  },
  {
   "cell_type": "raw",
   "id": "774151cc-8b43-41c6-a7bf-8709f8480b0d",
   "metadata": {},
   "source": [
    "STEP-7: ONLINE ~ EXECUTION and EVALUATION"
   ]
  },
  {
   "cell_type": "raw",
   "id": "34ab70ee-4902-4e3c-8cf2-d2a17da892c5",
   "metadata": {},
   "source": [
    "1) Time :\n",
    "    Let's say model evaluates one example in 5 μs.\n",
    "    for 100K candidates, it would take 100K * 5μs = 500 ms on single machine\n",
    "\n",
    "    If our expectation is 300 ms, We can do two things\n",
    "        a) reduce the number of candidates to 60k ~ so we need better filtering technique - funnel technique\n",
    "        b) chnage the model so the response time is 3μs"
   ]
  },
  {
   "cell_type": "raw",
   "id": "e8ebe744-6abe-4044-827e-14e326e261df",
   "metadata": {},
   "source": [
    "Performance:\n",
    "    system can support 1000 QPS (queries per second)\n",
    "    - Use funnel technique to reduce the search space\n",
    "    - If we are looking for distributed system, we need to check how we can deploy ML model on distributed system - Model shard\n",
    "    - and collect necessary info later from distributed systems"
   ]
  },
  {
   "cell_type": "raw",
   "id": "b5970611-8125-41b7-8572-6b4edcb6b619",
   "metadata": {},
   "source": [
    "STEP-8: ITERATIVE MODEL IMPROVEMENT"
   ]
  }
 ],
 "metadata": {
  "kernelspec": {
   "display_name": "Python 3 (ipykernel)",
   "language": "python",
   "name": "python3"
  },
  "language_info": {
   "codemirror_mode": {
    "name": "ipython",
    "version": 3
   },
   "file_extension": ".py",
   "mimetype": "text/x-python",
   "name": "python",
   "nbconvert_exporter": "python",
   "pygments_lexer": "ipython3",
   "version": "3.7.4"
  }
 },
 "nbformat": 4,
 "nbformat_minor": 5
}
