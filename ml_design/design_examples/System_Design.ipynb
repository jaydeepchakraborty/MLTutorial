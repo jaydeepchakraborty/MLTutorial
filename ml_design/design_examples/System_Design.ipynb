{
 "cells": [
  {
   "cell_type": "markdown",
   "id": "30009a59-5f8e-4beb-9a9c-7889e32ce0e8",
   "metadata": {},
   "source": [
    "## Meta"
   ]
  },
  {
   "cell_type": "code",
   "execution_count": null,
   "id": "6be559a0-b0b3-4061-a3ec-a3898ca33aa9",
   "metadata": {},
   "outputs": [],
   "source": [
    "1) How would you design Instagram\n",
    "2) How would you design Instagram Stories"
   ]
  },
  {
   "cell_type": "code",
   "execution_count": null,
   "id": "5b4088d4-c5db-4eb5-b879-b2b30988085c",
   "metadata": {},
   "outputs": [],
   "source": [
    "1) How would you design Facebook\n",
    "2) How would you design Facebook Messenger\n",
    "3) How would you design Facebook's live update of comments on posts"
   ]
  },
  {
   "cell_type": "markdown",
   "id": "a9c9edd6-51f6-4cdb-abee-630a133580a0",
   "metadata": {},
   "source": [
    "## Google"
   ]
  },
  {
   "cell_type": "code",
   "execution_count": null,
   "id": "19bdd7b2-8a13-4f97-85c1-e2840cf23284",
   "metadata": {},
   "outputs": [],
   "source": [
    "1) How would you design an online collaborative editor (e.g. Google Docs)\n",
    "2) How would you design a typehead feature (e.g. Google search autocomplete)"
   ]
  },
  {
   "cell_type": "code",
   "execution_count": null,
   "id": "850d4c15-327d-44ac-b059-aede65d7fb38",
   "metadata": {},
   "outputs": [],
   "source": [
    "1) How would you design a system that can handle millions of card transactions per hour (e.g. Google Pay)"
   ]
  },
  {
   "cell_type": "markdown",
   "id": "b182546e-5b4d-427a-bfa7-3d3c36bccc53",
   "metadata": {},
   "source": [
    "## Twitter"
   ]
  },
  {
   "cell_type": "code",
   "execution_count": null,
   "id": "66f631c2-2dc1-4385-8633-aff10ea72432",
   "metadata": {},
   "outputs": [],
   "source": [
    "1) How would you design Twitter's trending topics"
   ]
  },
  {
   "cell_type": "markdown",
   "id": "7ffc3272-2f4e-4b2a-b37d-12e38b46fc8f",
   "metadata": {},
   "source": [
    "## Other"
   ]
  },
  {
   "cell_type": "code",
   "execution_count": null,
   "id": "c0154453-87b8-42cc-8aad-16028ea157dd",
   "metadata": {},
   "outputs": [],
   "source": [
    "1) How would you design a distributed Botnet\n"
   ]
  }
 ],
 "metadata": {
  "kernelspec": {
   "display_name": "Python 3 (ipykernel)",
   "language": "python",
   "name": "python3"
  },
  "language_info": {
   "codemirror_mode": {
    "name": "ipython",
    "version": 3
   },
   "file_extension": ".py",
   "mimetype": "text/x-python",
   "name": "python",
   "nbconvert_exporter": "python",
   "pygments_lexer": "ipython3",
   "version": "3.7.4"
  }
 },
 "nbformat": 4,
 "nbformat_minor": 5
}
