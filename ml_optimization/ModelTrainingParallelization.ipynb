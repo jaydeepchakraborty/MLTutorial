{
 "cells": [
  {
   "cell_type": "code",
   "execution_count": 5,
   "id": "fd7bac34-31f0-4c48-973f-f1d3fe527bae",
   "metadata": {},
   "outputs": [],
   "source": [
    "from PyPDF2 import PdfMerger"
   ]
  },
  {
   "cell_type": "code",
   "execution_count": 6,
   "id": "aae5a820-4cb5-4790-a587-91ad67e3bed0",
   "metadata": {},
   "outputs": [],
   "source": [
    "merger = PdfMerger()\n",
    "\n",
    "path = \"/Users/jaydeepchakraborty/JC/Visa/H1B/2023_process/\"\n",
    "pdfs = [\"Jaydeep_I20_8.pdf\", \"Jaydeep_I20_7.pdf\", \"Jaydeep_I20_6.pdf\", \n",
    "       \"Jaydeep_I20_5.pdf\", \"Jaydeep_I20_4.pdf\", \"Jaydeep_I20_3.pdf\",\n",
    "       \"Jaydeep_I20_2.pdf\", \"Jaydeep_I20_1.pdf\"]\n",
    "\n",
    "\n",
    "for pdf in pdfs:\n",
    "    merger.append(open(path+pdf, 'rb'))\n",
    "    \n",
    "final_pdf = \"Jaydeep_I20.pdf\"\n",
    "with open(path+final_pdf, \"wb\") as fout:\n",
    "    merger.write(fout)"
   ]
  },
  {
   "cell_type": "code",
   "execution_count": 3,
   "id": "429e8081-1fec-400c-a9d4-cb141dd4550b",
   "metadata": {},
   "outputs": [
    {
     "name": "stdout",
     "output_type": "stream",
     "text": [
      "Using device: cpu\n"
     ]
    }
   ],
   "source": [
    "device = torch.device('cuda' if torch.cuda.is_available() else 'cpu')\n",
    "print('Using device:', device)"
   ]
  },
  {
   "cell_type": "code",
   "execution_count": 2,
   "id": "a12d9cdb-0d1b-4ccb-88a0-06e8cc7e5e68",
   "metadata": {},
   "outputs": [
    {
     "name": "stdout",
     "output_type": "stream",
     "text": [
      "Collecting PyPDF2\n",
      "  Downloading pypdf2-3.0.1-py3-none-any.whl (232 kB)\n",
      "\u001b[2K     \u001b[90m━━━━━━━━━━━━━━━━━━━━━━━━━━━━━━━━━━━━━━━\u001b[0m \u001b[32m232.6/232.6 kB\u001b[0m \u001b[31m3.5 MB/s\u001b[0m eta \u001b[36m0:00:00\u001b[0ma \u001b[36m0:00:01\u001b[0m\n",
      "\u001b[?25hRequirement already satisfied: typing_extensions>=3.10.0.0 in /Users/jaydeepchakraborty/JC/git-projects/py_stat/venv/lib/python3.7/site-packages (from PyPDF2) (4.3.0)\n",
      "Installing collected packages: PyPDF2\n",
      "Successfully installed PyPDF2-3.0.1\n",
      "\n",
      "\u001b[1m[\u001b[0m\u001b[34;49mnotice\u001b[0m\u001b[1;39;49m]\u001b[0m\u001b[39;49m A new release of pip available: \u001b[0m\u001b[31;49m22.3.1\u001b[0m\u001b[39;49m -> \u001b[0m\u001b[32;49m23.0\u001b[0m\n",
      "\u001b[1m[\u001b[0m\u001b[34;49mnotice\u001b[0m\u001b[1;39;49m]\u001b[0m\u001b[39;49m To update, run: \u001b[0m\u001b[32;49mpip install --upgrade pip\u001b[0m\n"
     ]
    }
   ],
   "source": [
    "!pip3 install PyPDF2"
   ]
  },
  {
   "cell_type": "code",
   "execution_count": 1,
   "id": "7fcdf161-7a14-4354-928a-862561b7ba0d",
   "metadata": {},
   "outputs": [],
   "source": [
    "import torch"
   ]
  },
  {
   "cell_type": "code",
   "execution_count": 5,
   "id": "d4dacd5b-d6fa-438d-913e-620cff8822b5",
   "metadata": {},
   "outputs": [
    {
     "data": {
      "text/plain": [
       "False"
      ]
     },
     "execution_count": 5,
     "metadata": {},
     "output_type": "execute_result"
    }
   ],
   "source": [
    "torch.backends.mps.is_available()"
   ]
  },
  {
   "cell_type": "code",
   "execution_count": null,
   "id": "10732573-724a-48b4-8995-b9a471ff30ba",
   "metadata": {},
   "outputs": [],
   "source": [
    "import os\n",
    "from PyPDF2 import PdfFileReader, PdfFileWriter\n",
    "\n",
    "def pdf_splitter(path):\n",
    "    fname = os.path.splitext(os.path.basename(path))[0]\n",
    "    pdf = PdfFileReader(path)\n",
    "    for page in range(pdf.getNumPages()):\n",
    "        pdf_writer = PdfFileWriter()\n",
    "        pdf_writer.addPage(pdf.getPage(page))\n",
    "        output_filename = '{}_page_{}.pdf'.format(\n",
    "            fname, page+1)\n",
    "        with open(output_filename, 'wb') as out:\n",
    "            pdf_writer.write(out)\n",
    "        print('Created: {}'.format(output_filename))\n",
    "\n",
    "if __name__ == '__main__':\n",
    "    path = 'w9.pdf'\n",
    "    pdf_splitter(path)"
   ]
  },
  {
   "cell_type": "code",
   "execution_count": 14,
   "id": "6aed0acf-41c2-456f-bc2e-ff23a9078076",
   "metadata": {},
   "outputs": [],
   "source": [
    "from PyPDF2 import PdfReader, PdfWriter\n",
    "path = \"/Users/jaydeepchakraborty/JC/Docs/Visa/H1B/2023_process/\"\n",
    "file_to_be_splitted = \"Puja_Passport.pdf\"\n",
    "\n",
    "pdf_to_be_splitted = PdfReader(path+file_to_be_splitted)\n",
    "\n",
    "pages = [0, 5, 6, 10, 11, 15, 16, 20, 21, 25, 26, 30, 31 , len(pdf_to_be_splitted.pages)]\n",
    "\n",
    "\n",
    "pages = [0, 5, 6, 10, 11, 12, 13, 15, 16, 17, 18, 20, 21, 22, 23, 25, 26, 27, 28, 30, 31 , 33, 34, len(pdf_to_be_splitted.pages)]\n",
    "\n",
    "pdf_writer = PdfWriter()\n",
    "for page in range(pages[0], pages[1]+1):\n",
    "    pdf_writer.add_page(pdf_to_be_splitted.pages[page])\n",
    "\n",
    "output_filename_v1 = \"Puja_Passport_v1.pdf\"\n",
    "with open(path+output_filename_v1, 'wb') as out:\n",
    "    pdf_writer.write(out)\n",
    "    \n",
    "pdf_writer = PdfWriter()\n",
    "for page in range(pages[2], pages[3]+1):\n",
    "    pdf_writer.add_page(pdf_to_be_splitted.pages[page])\n",
    "\n",
    "output_filename_v2 = \"Puja_Passport_v2.pdf\"\n",
    "with open(path+output_filename_v2, 'wb') as out:\n",
    "    pdf_writer.write(out)\n",
    "    \n",
    "pdf_writer = PdfWriter()\n",
    "for page in range(pages[4], pages[5]+1):\n",
    "    pdf_writer.add_page(pdf_to_be_splitted.pages[page])\n",
    "\n",
    "output_filename_v3 = \"Puja_Passport_v3.pdf\"\n",
    "with open(path+output_filename_v3, 'wb') as out:\n",
    "    pdf_writer.write(out)\n",
    "    \n",
    "    \n",
    "pdf_writer = PdfWriter()\n",
    "for page in range(pages[6], pages[7]+1):\n",
    "    pdf_writer.add_page(pdf_to_be_splitted.pages[page])\n",
    "\n",
    "output_filename_v4 = \"Puja_Passport_v4.pdf\"\n",
    "with open(path+output_filename_v4, 'wb') as out:\n",
    "    pdf_writer.write(out)\n",
    "    \n",
    "    \n",
    "pdf_writer = PdfWriter()\n",
    "for page in range(pages[8], pages[9]+1):\n",
    "    pdf_writer.add_page(pdf_to_be_splitted.pages[page])\n",
    "\n",
    "output_filename_v5 = \"Puja_Passport_v5.pdf\"\n",
    "with open(path+output_filename_v5, 'wb') as out:\n",
    "    pdf_writer.write(out)\n",
    "    \n",
    "    \n",
    "pdf_writer = PdfWriter()\n",
    "for page in range(pages[10], pages[11]+1):\n",
    "    pdf_writer.add_page(pdf_to_be_splitted.pages[page])\n",
    "\n",
    "output_filename_v6 = \"Puja_Passport_v6.pdf\"\n",
    "with open(path+output_filename_v6, 'wb') as out:\n",
    "    pdf_writer.write(out)\n",
    "    \n",
    "\n",
    "pdf_writer = PdfWriter()\n",
    "for page in range(pages[11], pages[12]+1):\n",
    "    pdf_writer.add_page(pdf_to_be_splitted.pages[page])\n",
    "\n",
    "output_filename_v7 = \"Puja_Passport_v7.pdf\"\n",
    "with open(path+output_filename_v7, 'wb') as out:\n",
    "    pdf_writer.write(out)\n",
    "    \n",
    "    \n",
    "pdf_writer = PdfWriter()\n",
    "for page in range(pages[12], pages[13]+1):\n",
    "    pdf_writer.add_page(pdf_to_be_splitted.pages[page])\n",
    "\n",
    "output_filename_v8 = \"Puja_Passport_v8.pdf\"\n",
    "with open(path+output_filename_v8, 'wb') as out:\n",
    "    pdf_writer.write(out)\n",
    "    \n",
    "    \n",
    "pdf_writer = PdfWriter()\n",
    "for page in range(pages[14], pages[15]+1):\n",
    "    pdf_writer.add_page(pdf_to_be_splitted.pages[page])\n",
    "\n",
    "output_filename_v9 = \"Puja_Passport_v9.pdf\"\n",
    "with open(path+output_filename_v9, 'wb') as out:\n",
    "    pdf_writer.write(out)\n",
    "    \n",
    "\n",
    "pdf_writer = PdfWriter()\n",
    "for page in range(pages[16], pages[17]+1):\n",
    "    pdf_writer.add_page(pdf_to_be_splitted.pages[page])\n",
    "\n",
    "output_filename_v10 = \"Puja_Passport_v10.pdf\"\n",
    "with open(path+output_filename_v10, 'wb') as out:\n",
    "    pdf_writer.write(out)\n",
    "\n",
    "\n",
    "pdf_writer = PdfWriter()\n",
    "for page in range(pages[18], pages[19]+1):\n",
    "    pdf_writer.add_page(pdf_to_be_splitted.pages[page])\n",
    "\n",
    "output_filename_v11 = \"Puja_Passport_v11.pdf\"\n",
    "with open(path+output_filename_v11, 'wb') as out:\n",
    "    pdf_writer.write(out)\n",
    "    \n",
    "\n",
    "pdf_writer = PdfWriter()\n",
    "for page in range(pages[20], pages[21]+1):\n",
    "    pdf_writer.add_page(pdf_to_be_splitted.pages[page])\n",
    "\n",
    "output_filename_v12 = \"Puja_Passport_v12.pdf\"\n",
    "with open(path+output_filename_v12, 'wb') as out:\n",
    "    pdf_writer.write(out)\n",
    "\n",
    "    \n",
    "pdf_writer = PdfWriter()\n",
    "for page in range(pages[22], pages[23]):\n",
    "    pdf_writer.add_page(pdf_to_be_splitted.pages[page])\n",
    "\n",
    "output_filename_v13 = \"Puja_Passport_v13.pdf\"\n",
    "with open(path+output_filename_v13, 'wb') as out:\n",
    "    pdf_writer.write(out)"
   ]
  },
  {
   "cell_type": "code",
   "execution_count": null,
   "id": "98c0d4dd-da9b-42ac-b5e2-3111ecd99bfe",
   "metadata": {},
   "outputs": [],
   "source": []
  }
 ],
 "metadata": {
  "kernelspec": {
   "display_name": "Python 3 (ipykernel)",
   "language": "python",
   "name": "python3"
  },
  "language_info": {
   "codemirror_mode": {
    "name": "ipython",
    "version": 3
   },
   "file_extension": ".py",
   "mimetype": "text/x-python",
   "name": "python",
   "nbconvert_exporter": "python",
   "pygments_lexer": "ipython3",
   "version": "3.7.4"
  }
 },
 "nbformat": 4,
 "nbformat_minor": 5
}
